{
 "nbformat": 4,
 "nbformat_minor": 2,
 "metadata": {
  "language_info": {
   "name": "python",
   "codemirror_mode": {
    "name": "ipython",
    "version": 3
   }
  },
  "orig_nbformat": 2,
  "file_extension": ".py",
  "mimetype": "text/x-python",
  "name": "python",
  "npconvert_exporter": "python",
  "pygments_lexer": "ipython3",
  "version": 3
 },
 "cells": [
  {
   "cell_type": "code",
   "execution_count": 17,
   "metadata": {},
   "outputs": [],
   "source": [
    "import pandas as pd\n",
    "import json\n",
    "from geopy import distance\n",
    "from math import sin, cos, sqrt, atan2\n",
    "from pandas.io.json import json_normalize\n",
    "from shapely.geometry import shape, Point, MultiPoint\n",
    "from shapely.ops import nearest_points"
   ]
  },
  {
   "cell_type": "code",
   "execution_count": 18,
   "metadata": {},
   "outputs": [],
   "source": [
    "with open('./results-7-31-2019.json') as f:\n",
    "    # flatten json structures\n",
    "    data = json_normalize(json.load(f))\n",
    "    # Remove non-Chicago entries\n",
    "    data = data[data['address'].str.contains('Chicago, IL')]"
   ]
  },
  {
   "cell_type": "code",
   "execution_count": 19,
   "metadata": {},
   "outputs": [],
   "source": [
    "with open('./CTA_RailStations.geojson') as f:\n",
    "    stations_geo = json.load(f)"
   ]
  },
  {
   "cell_type": "code",
   "execution_count": 20,
   "metadata": {},
   "outputs": [],
   "source": [
    "with open('./chicago_neighborhoods.geojson') as f:\n",
    "    neighborhoods_geo = json.load(f)"
   ]
  },
  {
   "cell_type": "code",
   "execution_count": 21,
   "metadata": {},
   "outputs": [],
   "source": [
    "# Make the neighborhood json easier to work with\n",
    "neighborhood_polygons = [{'geometry': shape(feature['geometry']), 'properties': feature['properties']} for feature in neighborhoods_geo['features']]"
   ]
  },
  {
   "cell_type": "code",
   "execution_count": 22,
   "metadata": {},
   "outputs": [],
   "source": [
    "def get_neighborhood(row):\n",
    "    lon = row['hdpData.homeInfo.longitude']\n",
    "    lat = row['hdpData.homeInfo.latitude']\n",
    "    hoods = [polygon['properties']['pri_neigh'] for polygon in neighborhood_polygons if polygon['geometry'].contains(Point(lon, lat))]\n",
    "    return hoods[0] if len(hoods) > 0 else None\n",
    "\n",
    "# Add neighborhoods to entries\n",
    "data['neighborhood'] = data.apply(get_neighborhood, axis=1)"
   ]
  },
  {
   "cell_type": "code",
   "execution_count": 23,
   "metadata": {},
   "outputs": [
    {
     "data": {
      "text/html": "<div>\n<style scoped>\n    .dataframe tbody tr th:only-of-type {\n        vertical-align: middle;\n    }\n\n    .dataframe tbody tr th {\n        vertical-align: top;\n    }\n\n    .dataframe thead th {\n        text-align: right;\n    }\n</style>\n<table border=\"1\" class=\"dataframe\">\n  <thead>\n    <tr style=\"text-align: right;\">\n      <th></th>\n      <th>address</th>\n      <th>neighborhood</th>\n    </tr>\n  </thead>\n  <tbody>\n    <tr>\n      <th>9877</th>\n      <td>1235 W George St APT 214, Chicago, IL</td>\n      <td>Lake View</td>\n    </tr>\n    <tr>\n      <th>10949</th>\n      <td>655 W Irving Park Rd APT 2502, Chicago, IL</td>\n      <td>Lake View</td>\n    </tr>\n    <tr>\n      <th>9980</th>\n      <td>631 W Schubert Ave, Chicago, IL</td>\n      <td>Lincoln Park</td>\n    </tr>\n    <tr>\n      <th>5986</th>\n      <td>1000 W Adams St APT 817, Chicago, IL</td>\n      <td>West Loop</td>\n    </tr>\n    <tr>\n      <th>10384</th>\n      <td>4420 N Meade Ave, Chicago, IL</td>\n      <td>Portage Park</td>\n    </tr>\n    <tr>\n      <th>8084</th>\n      <td>2121 N St Louis Ave # 3S, Chicago, IL</td>\n      <td>Logan Square</td>\n    </tr>\n    <tr>\n      <th>2806</th>\n      <td>1259 W 72nd Pl, Chicago, IL</td>\n      <td>Englewood</td>\n    </tr>\n    <tr>\n      <th>5893</th>\n      <td>1025 W Monroe St UNIT 3W, Chicago, IL</td>\n      <td>West Loop</td>\n    </tr>\n    <tr>\n      <th>5448</th>\n      <td>3531 W Van Buren St, Chicago, IL</td>\n      <td>Garfield Park</td>\n    </tr>\n    <tr>\n      <th>3437</th>\n      <td>1317 E 52nd St # 2, Chicago, IL</td>\n      <td>Hyde Park</td>\n    </tr>\n    <tr>\n      <th>4740</th>\n      <td>1661 S Central Park Ave, Chicago, IL</td>\n      <td>North Lawndale</td>\n    </tr>\n    <tr>\n      <th>9392</th>\n      <td>2657 N Ridgeway Ave, Chicago, IL</td>\n      <td>Logan Square</td>\n    </tr>\n    <tr>\n      <th>1472</th>\n      <td>10130 S Eberhart Ave, Chicago, IL</td>\n      <td>Roseland</td>\n    </tr>\n    <tr>\n      <th>9405</th>\n      <td>2441 N Harding Ave, Chicago, IL</td>\n      <td>Logan Square</td>\n    </tr>\n    <tr>\n      <th>11292</th>\n      <td>5344 N New England Ave, Chicago, IL</td>\n      <td>Norwood Park</td>\n    </tr>\n    <tr>\n      <th>10771</th>\n      <td>4208 N Hermitage Ave, Chicago, IL</td>\n      <td>Lake View</td>\n    </tr>\n    <tr>\n      <th>11111</th>\n      <td>655 W Irving Park Rd APT 2417, Chicago, IL</td>\n      <td>Lake View</td>\n    </tr>\n    <tr>\n      <th>852</th>\n      <td>1354 W 107th St, Chicago, IL</td>\n      <td>Washington Heights</td>\n    </tr>\n    <tr>\n      <th>3126</th>\n      <td>6047 S Parkside Ave, Chicago, IL</td>\n      <td>Clearing</td>\n    </tr>\n    <tr>\n      <th>4716</th>\n      <td>3124 W 15th Pl, Chicago, IL</td>\n      <td>North Lawndale</td>\n    </tr>\n  </tbody>\n</table>\n</div>",
      "text/plain": "                                          address        neighborhood\n9877        1235 W George St APT 214, Chicago, IL           Lake View\n10949  655 W Irving Park Rd APT 2502, Chicago, IL           Lake View\n9980              631 W Schubert Ave, Chicago, IL        Lincoln Park\n5986         1000 W Adams St APT 817, Chicago, IL           West Loop\n10384               4420 N Meade Ave, Chicago, IL        Portage Park\n8084        2121 N St Louis Ave # 3S, Chicago, IL        Logan Square\n2806                  1259 W 72nd Pl, Chicago, IL           Englewood\n5893        1025 W Monroe St UNIT 3W, Chicago, IL           West Loop\n5448             3531 W Van Buren St, Chicago, IL       Garfield Park\n3437              1317 E 52nd St # 2, Chicago, IL           Hyde Park\n4740         1661 S Central Park Ave, Chicago, IL      North Lawndale\n9392             2657 N Ridgeway Ave, Chicago, IL        Logan Square\n1472            10130 S Eberhart Ave, Chicago, IL            Roseland\n9405              2441 N Harding Ave, Chicago, IL        Logan Square\n11292         5344 N New England Ave, Chicago, IL        Norwood Park\n10771           4208 N Hermitage Ave, Chicago, IL           Lake View\n11111  655 W Irving Park Rd APT 2417, Chicago, IL           Lake View\n852                  1354 W 107th St, Chicago, IL  Washington Heights\n3126             6047 S Parkside Ave, Chicago, IL            Clearing\n4716                  3124 W 15th Pl, Chicago, IL      North Lawndale"
     },
     "execution_count": 23,
     "metadata": {},
     "output_type": "execute_result"
    }
   ],
   "source": [
    "# Remove anything not in a neighborhood (probably incorrectly labeled as being in Chicago)\n",
    "data = data[data['neighborhood'].notnull()]\n",
    "data[['address', 'neighborhood']].sample(20)"
   ]
  },
  {
   "cell_type": "code",
   "execution_count": 24,
   "metadata": {},
   "outputs": [],
   "source": [
    "def make_point(point):\n",
    "    lon = point['geometry']['coordinates'][0]\n",
    "    lat = point['geometry']['coordinates'][1]\n",
    "    return (lon, lat), {\n",
    "            'coords': Point(lon, lat),\n",
    "            'line': point['properties']['LINES'],\n",
    "            'station': point['properties']['Name']\n",
    "        }\n",
    "        \n",
    "\n",
    "stations = {(p:=make_point(point))[0]: p[1] for point in stations_geo['features']}\n",
    "station_points = [station['coords'] for station in stations.values()]"
   ]
  },
  {
   "cell_type": "code",
   "execution_count": 25,
   "metadata": {},
   "outputs": [
    {
     "data": {
      "text/html": "<div>\n<style scoped>\n    .dataframe tbody tr th:only-of-type {\n        vertical-align: middle;\n    }\n\n    .dataframe tbody tr th {\n        vertical-align: top;\n    }\n\n    .dataframe thead th {\n        text-align: right;\n    }\n</style>\n<table border=\"1\" class=\"dataframe\">\n  <thead>\n    <tr style=\"text-align: right;\">\n      <th></th>\n      <th>coords</th>\n      <th>line</th>\n      <th>station</th>\n      <th>neighborhood</th>\n      <th>address</th>\n    </tr>\n  </thead>\n  <tbody>\n    <tr>\n      <th>11724</th>\n      <td>POINT (-87.68850260590037 41.96625004727976)</td>\n      <td>Brown Line</td>\n      <td>Western</td>\n      <td>Lincoln Square</td>\n      <td>4751 N Artesian Ave APT 203, Chicago, IL</td>\n    </tr>\n    <tr>\n      <th>454</th>\n      <td>POINT (-87.62441474538349 41.72237598330533)</td>\n      <td>Red Line</td>\n      <td>95/Dan Ryan</td>\n      <td>West Pullman</td>\n      <td>12213 S Carpenter St, Chicago, IL</td>\n    </tr>\n    <tr>\n      <th>6775</th>\n      <td>POINT (-87.67743665449984 41.9097437915267)</td>\n      <td>Blue Line</td>\n      <td>Damen</td>\n      <td>Ukrainian Village</td>\n      <td>915 N Hoyne Ave # 4, Chicago, IL</td>\n    </tr>\n    <tr>\n      <th>10700</th>\n      <td>POINT (-87.67473610744641 41.94702865443908)</td>\n      <td>Brown Line</td>\n      <td>Addison</td>\n      <td>North Center</td>\n      <td>3319 N Leavitt St, Chicago, IL</td>\n    </tr>\n    <tr>\n      <th>6752</th>\n      <td>POINT (-87.66649606690224 41.90335508455351)</td>\n      <td>Blue Line</td>\n      <td>Division</td>\n      <td>East Village</td>\n      <td>930 N Wood St # 3, Chicago, IL</td>\n    </tr>\n    <tr>\n      <th>11766</th>\n      <td>POINT (-87.68850260590037 41.96625004727976)</td>\n      <td>Brown Line</td>\n      <td>Western</td>\n      <td>Lincoln Square</td>\n      <td>2436 W Winnemac Ave, Chicago, IL</td>\n    </tr>\n    <tr>\n      <th>4421</th>\n      <td>POINT (-87.63063629512068 41.83119055925151)</td>\n      <td>Red Line</td>\n      <td>Sox-35th</td>\n      <td>Bridgeport</td>\n      <td>3450 S Halsted St UNIT 209, Chicago, IL</td>\n    </tr>\n    <tr>\n      <th>9313</th>\n      <td>POINT (-87.72917726558204 41.95294026078555)</td>\n      <td>Blue Line</td>\n      <td>Irving Park</td>\n      <td>Irving Park</td>\n      <td>4152 W School St, Chicago, IL</td>\n    </tr>\n    <tr>\n      <th>3398</th>\n      <td>POINT (-87.66384484844021 41.77895340470035)</td>\n      <td>Green Line (Englewood)</td>\n      <td>Ashland</td>\n      <td>Englewood</td>\n      <td>5518 S Bishop St, Chicago, IL</td>\n    </tr>\n    <tr>\n      <th>8689</th>\n      <td>POINT (-87.63141229300709 41.90392031189563)</td>\n      <td>Red Line</td>\n      <td>Clark/Division</td>\n      <td>Gold Coast</td>\n      <td>1358 N Dearborn St, Chicago, IL</td>\n    </tr>\n    <tr>\n      <th>3891</th>\n      <td>POINT (-87.61850159987594 41.80209158340622)</td>\n      <td>Green Line</td>\n      <td>51st</td>\n      <td>Hyde Park</td>\n      <td>945 E Hyde Park Blvd UNIT 2, Chicago, IL</td>\n    </tr>\n    <tr>\n      <th>8369</th>\n      <td>POINT (-87.67743665449984 41.9097437915267)</td>\n      <td>Blue Line</td>\n      <td>Damen</td>\n      <td>East Village</td>\n      <td>1121 N Damen Ave, Chicago, IL</td>\n    </tr>\n    <tr>\n      <th>2887</th>\n      <td>POINT (-87.66384484844021 41.77895340470035)</td>\n      <td>Green Line (Englewood)</td>\n      <td>Ashland</td>\n      <td>Englewood</td>\n      <td>6738 S Elizabeth St, Chicago, IL</td>\n    </tr>\n    <tr>\n      <th>12966</th>\n      <td>POINT (-87.6728924507902 42.01906321923584)</td>\n      <td>Red, Yellow, Purple, Evanston Express</td>\n      <td>Howard</td>\n      <td>West Ridge</td>\n      <td>7257 N Hamilton Ave APT 3S, Chicago, IL</td>\n    </tr>\n    <tr>\n      <th>7770</th>\n      <td>POINT (-87.62817635256233 41.89667121189094)</td>\n      <td>Red Line</td>\n      <td>Chicago</td>\n      <td>Streeterville</td>\n      <td>175 E Delaware Pl APT 7207, Chicago, IL</td>\n    </tr>\n    <tr>\n      <th>10913</th>\n      <td>POINT (-87.65362593077103 41.94742799653081)</td>\n      <td>Red Line</td>\n      <td>Addison</td>\n      <td>Lake View</td>\n      <td>3633 N Wilton Ave APT 2, Chicago, IL</td>\n    </tr>\n    <tr>\n      <th>7678</th>\n      <td>POINT (-87.62618878473235 41.88322001199881)</td>\n      <td>Brown, Orange, Pink,  Purple (Express), Green</td>\n      <td>Washington/Wabash</td>\n      <td>Loop</td>\n      <td>195 N Harbor Dr APT 3601, Chicago, IL</td>\n    </tr>\n    <tr>\n      <th>13047</th>\n      <td>POINT (-87.6728924507902 42.01906321923584)</td>\n      <td>Red, Yellow, Purple, Evanston Express</td>\n      <td>Howard</td>\n      <td>Rogers Park</td>\n      <td>7301 N Wolcott Ave APT 1, Chicago, IL</td>\n    </tr>\n    <tr>\n      <th>872</th>\n      <td>POINT (-87.62441474538349 41.72237598330533)</td>\n      <td>Red Line</td>\n      <td>95/Dan Ryan</td>\n      <td>West Pullman</td>\n      <td>11625 S Racine Ave, Chicago, IL</td>\n    </tr>\n    <tr>\n      <th>944</th>\n      <td>POINT (-87.62441474538349 41.72237598330533)</td>\n      <td>Red Line</td>\n      <td>95/Dan Ryan</td>\n      <td>Washington Heights</td>\n      <td>10643 S Glenroy Ave, Chicago, IL</td>\n    </tr>\n  </tbody>\n</table>\n</div>",
      "text/plain": "                                             coords  \\\n11724  POINT (-87.68850260590037 41.96625004727976)   \n454    POINT (-87.62441474538349 41.72237598330533)   \n6775    POINT (-87.67743665449984 41.9097437915267)   \n10700  POINT (-87.67473610744641 41.94702865443908)   \n6752   POINT (-87.66649606690224 41.90335508455351)   \n11766  POINT (-87.68850260590037 41.96625004727976)   \n4421   POINT (-87.63063629512068 41.83119055925151)   \n9313   POINT (-87.72917726558204 41.95294026078555)   \n3398   POINT (-87.66384484844021 41.77895340470035)   \n8689   POINT (-87.63141229300709 41.90392031189563)   \n3891   POINT (-87.61850159987594 41.80209158340622)   \n8369    POINT (-87.67743665449984 41.9097437915267)   \n2887   POINT (-87.66384484844021 41.77895340470035)   \n12966   POINT (-87.6728924507902 42.01906321923584)   \n7770   POINT (-87.62817635256233 41.89667121189094)   \n10913  POINT (-87.65362593077103 41.94742799653081)   \n7678   POINT (-87.62618878473235 41.88322001199881)   \n13047   POINT (-87.6728924507902 42.01906321923584)   \n872    POINT (-87.62441474538349 41.72237598330533)   \n944    POINT (-87.62441474538349 41.72237598330533)   \n\n                                                line            station  \\\n11724                                     Brown Line            Western   \n454                                         Red Line        95/Dan Ryan   \n6775                                       Blue Line              Damen   \n10700                                     Brown Line            Addison   \n6752                                       Blue Line           Division   \n11766                                     Brown Line            Western   \n4421                                        Red Line           Sox-35th   \n9313                                       Blue Line        Irving Park   \n3398                          Green Line (Englewood)            Ashland   \n8689                                        Red Line     Clark/Division   \n3891                                      Green Line               51st   \n8369                                       Blue Line              Damen   \n2887                          Green Line (Englewood)            Ashland   \n12966          Red, Yellow, Purple, Evanston Express             Howard   \n7770                                        Red Line            Chicago   \n10913                                       Red Line            Addison   \n7678   Brown, Orange, Pink,  Purple (Express), Green  Washington/Wabash   \n13047          Red, Yellow, Purple, Evanston Express             Howard   \n872                                         Red Line        95/Dan Ryan   \n944                                         Red Line        95/Dan Ryan   \n\n             neighborhood                                   address  \n11724      Lincoln Square  4751 N Artesian Ave APT 203, Chicago, IL  \n454          West Pullman         12213 S Carpenter St, Chicago, IL  \n6775    Ukrainian Village          915 N Hoyne Ave # 4, Chicago, IL  \n10700        North Center            3319 N Leavitt St, Chicago, IL  \n6752         East Village            930 N Wood St # 3, Chicago, IL  \n11766      Lincoln Square          2436 W Winnemac Ave, Chicago, IL  \n4421           Bridgeport   3450 S Halsted St UNIT 209, Chicago, IL  \n9313          Irving Park             4152 W School St, Chicago, IL  \n3398            Englewood             5518 S Bishop St, Chicago, IL  \n8689           Gold Coast           1358 N Dearborn St, Chicago, IL  \n3891            Hyde Park  945 E Hyde Park Blvd UNIT 2, Chicago, IL  \n8369         East Village             1121 N Damen Ave, Chicago, IL  \n2887            Englewood          6738 S Elizabeth St, Chicago, IL  \n12966          West Ridge   7257 N Hamilton Ave APT 3S, Chicago, IL  \n7770        Streeterville   175 E Delaware Pl APT 7207, Chicago, IL  \n10913           Lake View      3633 N Wilton Ave APT 2, Chicago, IL  \n7678                 Loop     195 N Harbor Dr APT 3601, Chicago, IL  \n13047         Rogers Park     7301 N Wolcott Ave APT 1, Chicago, IL  \n872          West Pullman           11625 S Racine Ave, Chicago, IL  \n944    Washington Heights          10643 S Glenroy Ave, Chicago, IL  "
     },
     "execution_count": 25,
     "metadata": {},
     "output_type": "execute_result"
    }
   ],
   "source": [
    "# Get nearest CTA stations\n",
    "stations_multipoint = MultiPoint(station_points)\n",
    "def get_nearest_station(row):\n",
    "    lon = row['hdpData.homeInfo.longitude']\n",
    "    lat = row['hdpData.homeInfo.latitude']\n",
    "    p = Point(lon, lat)\n",
    "    np = nearest_points(p, MultiPoint(station_points))\n",
    "    # Index 0 is the input point, index 1 is the nearest station\n",
    "    nearest_station = stations[(np[1].x, np[1].y)]\n",
    "    return nearest_station\n",
    "\n",
    "data = pd.concat([data, data.apply(get_nearest_station, axis=1, result_type='expand')], axis=1)\n",
    "\n",
    "data[['coords', 'line', 'station', 'neighborhood', 'address']].sample(20)"
   ]
  },
  {
   "cell_type": "code",
   "execution_count": 26,
   "metadata": {},
   "outputs": [
    {
     "data": {
      "text/html": "<div>\n<style scoped>\n    .dataframe tbody tr th:only-of-type {\n        vertical-align: middle;\n    }\n\n    .dataframe tbody tr th {\n        vertical-align: top;\n    }\n\n    .dataframe thead th {\n        text-align: right;\n    }\n</style>\n<table border=\"1\" class=\"dataframe\">\n  <thead>\n    <tr style=\"text-align: right;\">\n      <th></th>\n      <th>hdpData.homeInfo.longitude</th>\n      <th>hdpData.homeInfo.latitude</th>\n      <th>coords</th>\n      <th>stationDistance</th>\n      <th>station</th>\n    </tr>\n  </thead>\n  <tbody>\n    <tr>\n      <th>7785</th>\n      <td>-87.621348</td>\n      <td>41.899530</td>\n      <td>POINT (-87.62817635256233 41.89667121189094)</td>\n      <td>0.549387</td>\n      <td>Chicago</td>\n    </tr>\n    <tr>\n      <th>8821</th>\n      <td>-87.627926</td>\n      <td>41.909014</td>\n      <td>POINT (-87.63141229300709 41.90392031189563)</td>\n      <td>0.531283</td>\n      <td>Clark/Division</td>\n    </tr>\n    <tr>\n      <th>8900</th>\n      <td>-87.626568</td>\n      <td>41.909015</td>\n      <td>POINT (-87.63141229300709 41.90392031189563)</td>\n      <td>0.601362</td>\n      <td>Clark/Division</td>\n    </tr>\n    <tr>\n      <th>3861</th>\n      <td>-87.590812</td>\n      <td>41.806859</td>\n      <td>POINT (-87.61850159987594 41.80209158340622)</td>\n      <td>1.758818</td>\n      <td>51st</td>\n    </tr>\n    <tr>\n      <th>10606</th>\n      <td>-87.702676</td>\n      <td>41.947502</td>\n      <td>POINT (-87.71235935057341 41.93813166884105)</td>\n      <td>1.145631</td>\n      <td>Belmont</td>\n    </tr>\n    <tr>\n      <th>4778</th>\n      <td>-87.726606</td>\n      <td>41.861350</td>\n      <td>POINT (-87.72432672502003 41.85385683028695)</td>\n      <td>0.634743</td>\n      <td>Pulaski</td>\n    </tr>\n    <tr>\n      <th>4379</th>\n      <td>-87.652114</td>\n      <td>41.831844</td>\n      <td>POINT (-87.66531166332861 41.83935587785577)</td>\n      <td>1.199654</td>\n      <td>Ashland</td>\n    </tr>\n    <tr>\n      <th>8213</th>\n      <td>-87.681456</td>\n      <td>41.916376</td>\n      <td>POINT (-87.6873643813982 41.91615742819355)</td>\n      <td>0.319653</td>\n      <td>Western</td>\n    </tr>\n    <tr>\n      <th>3353</th>\n      <td>-87.629361</td>\n      <td>41.784277</td>\n      <td>POINT (-87.63100044907034 41.78053433363163)</td>\n      <td>0.342986</td>\n      <td>63rd</td>\n    </tr>\n    <tr>\n      <th>11647</th>\n      <td>-87.669353</td>\n      <td>41.979820</td>\n      <td>POINT (-87.65866841969589 41.97798399160598)</td>\n      <td>0.676944</td>\n      <td>Berwyn</td>\n    </tr>\n    <tr>\n      <th>8867</th>\n      <td>-87.625495</td>\n      <td>41.904195</td>\n      <td>POINT (-87.63141229300709 41.90392031189563)</td>\n      <td>0.324043</td>\n      <td>Clark/Division</td>\n    </tr>\n    <tr>\n      <th>2708</th>\n      <td>-87.671000</td>\n      <td>41.775400</td>\n      <td>POINT (-87.66384484844021 41.77895340470035)</td>\n      <td>0.614886</td>\n      <td>Ashland</td>\n    </tr>\n    <tr>\n      <th>5589</th>\n      <td>-87.664974</td>\n      <td>41.873087</td>\n      <td>POINT (-87.66954322799872 41.87156300339059)</td>\n      <td>0.340876</td>\n      <td>Polk</td>\n    </tr>\n    <tr>\n      <th>8298</th>\n      <td>-87.681989</td>\n      <td>41.907182</td>\n      <td>POINT (-87.67743665449984 41.9097437915267)</td>\n      <td>0.411506</td>\n      <td>Damen</td>\n    </tr>\n    <tr>\n      <th>3994</th>\n      <td>-87.595631</td>\n      <td>41.810574</td>\n      <td>POINT (-87.61882612858351 41.8092088340794)</td>\n      <td>1.291863</td>\n      <td>47th</td>\n    </tr>\n    <tr>\n      <th>8353</th>\n      <td>-87.683237</td>\n      <td>41.911110</td>\n      <td>POINT (-87.67743665449984 41.9097437915267)</td>\n      <td>0.393314</td>\n      <td>Damen</td>\n    </tr>\n    <tr>\n      <th>10667</th>\n      <td>-87.678229</td>\n      <td>41.947970</td>\n      <td>POINT (-87.67473610744641 41.94702865443908)</td>\n      <td>0.244933</td>\n      <td>Addison</td>\n    </tr>\n    <tr>\n      <th>1943</th>\n      <td>-87.596947</td>\n      <td>41.731026</td>\n      <td>POINT (-87.62475307324942 41.73537121043779)</td>\n      <td>1.737382</td>\n      <td>87th</td>\n    </tr>\n    <tr>\n      <th>820</th>\n      <td>-87.687637</td>\n      <td>41.691054</td>\n      <td>POINT (-87.62441474538349 41.72237598330533)</td>\n      <td>5.432107</td>\n      <td>95/Dan Ryan</td>\n    </tr>\n    <tr>\n      <th>8845</th>\n      <td>-87.629089</td>\n      <td>41.904794</td>\n      <td>POINT (-87.63141229300709 41.90392031189563)</td>\n      <td>0.180083</td>\n      <td>Clark/Division</td>\n    </tr>\n  </tbody>\n</table>\n</div>",
      "text/plain": "       hdpData.homeInfo.longitude  hdpData.homeInfo.latitude  \\\n7785                   -87.621348                  41.899530   \n8821                   -87.627926                  41.909014   \n8900                   -87.626568                  41.909015   \n3861                   -87.590812                  41.806859   \n10606                  -87.702676                  41.947502   \n4778                   -87.726606                  41.861350   \n4379                   -87.652114                  41.831844   \n8213                   -87.681456                  41.916376   \n3353                   -87.629361                  41.784277   \n11647                  -87.669353                  41.979820   \n8867                   -87.625495                  41.904195   \n2708                   -87.671000                  41.775400   \n5589                   -87.664974                  41.873087   \n8298                   -87.681989                  41.907182   \n3994                   -87.595631                  41.810574   \n8353                   -87.683237                  41.911110   \n10667                  -87.678229                  41.947970   \n1943                   -87.596947                  41.731026   \n820                    -87.687637                  41.691054   \n8845                   -87.629089                  41.904794   \n\n                                             coords  stationDistance  \\\n7785   POINT (-87.62817635256233 41.89667121189094)         0.549387   \n8821   POINT (-87.63141229300709 41.90392031189563)         0.531283   \n8900   POINT (-87.63141229300709 41.90392031189563)         0.601362   \n3861   POINT (-87.61850159987594 41.80209158340622)         1.758818   \n10606  POINT (-87.71235935057341 41.93813166884105)         1.145631   \n4778   POINT (-87.72432672502003 41.85385683028695)         0.634743   \n4379   POINT (-87.66531166332861 41.83935587785577)         1.199654   \n8213    POINT (-87.6873643813982 41.91615742819355)         0.319653   \n3353   POINT (-87.63100044907034 41.78053433363163)         0.342986   \n11647  POINT (-87.65866841969589 41.97798399160598)         0.676944   \n8867   POINT (-87.63141229300709 41.90392031189563)         0.324043   \n2708   POINT (-87.66384484844021 41.77895340470035)         0.614886   \n5589   POINT (-87.66954322799872 41.87156300339059)         0.340876   \n8298    POINT (-87.67743665449984 41.9097437915267)         0.411506   \n3994    POINT (-87.61882612858351 41.8092088340794)         1.291863   \n8353    POINT (-87.67743665449984 41.9097437915267)         0.393314   \n10667  POINT (-87.67473610744641 41.94702865443908)         0.244933   \n1943   POINT (-87.62475307324942 41.73537121043779)         1.737382   \n820    POINT (-87.62441474538349 41.72237598330533)         5.432107   \n8845   POINT (-87.63141229300709 41.90392031189563)         0.180083   \n\n              station  \n7785          Chicago  \n8821   Clark/Division  \n8900   Clark/Division  \n3861             51st  \n10606         Belmont  \n4778          Pulaski  \n4379          Ashland  \n8213          Western  \n3353             63rd  \n11647          Berwyn  \n8867   Clark/Division  \n2708          Ashland  \n5589             Polk  \n8298            Damen  \n3994             47th  \n8353            Damen  \n10667         Addison  \n1943             87th  \n820       95/Dan Ryan  \n8845   Clark/Division  "
     },
     "execution_count": 26,
     "metadata": {},
     "output_type": "execute_result"
    }
   ],
   "source": [
    "def manhattan_distance(row):\n",
    "    home_lon = row['hdpData.homeInfo.longitude']\n",
    "    home_lat = row['hdpData.homeInfo.latitude']\n",
    "    station_lon = row['coords'].x\n",
    "    station_lat = row['coords'].y\n",
    "\n",
    "    # Calculate Haversine distance (https://en.wikipedia.org/wiki/Haversine_formula) \n",
    "    # using Manhattan distance (https://xlinux.nist.gov/dads/HTML/manhattanDistance.html)\n",
    "    return distance.distance((home_lat, home_lon), (station_lat, home_lon)).miles + \\\n",
    "        distance.distance((home_lat, home_lon), (home_lat, station_lon)).miles\n",
    "\n",
    "data['stationDistance'] = data.apply(manhattan_distance, axis=1)\n",
    "data[['hdpData.homeInfo.longitude', 'hdpData.homeInfo.latitude', 'coords', 'stationDistance', 'station']].sample(20)"
   ]
  },
  {
   "cell_type": "code",
   "execution_count": 27,
   "metadata": {},
   "outputs": [],
   "source": [
    "# save cleaned data\n",
    "data.to_csv('results-7-31-2019-cleaned.csv')"
   ]
  },
  {
   "cell_type": "code",
   "execution_count": null,
   "metadata": {},
   "outputs": [],
   "source": []
  }
 ]
}