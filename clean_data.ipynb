{
 "nbformat": 4,
 "nbformat_minor": 2,
 "metadata": {
  "language_info": {
   "name": "python",
   "codemirror_mode": {
    "name": "ipython",
    "version": 3
   }
  },
  "orig_nbformat": 2,
  "file_extension": ".py",
  "mimetype": "text/x-python",
  "name": "python",
  "npconvert_exporter": "python",
  "pygments_lexer": "ipython3",
  "version": 3
 },
 "cells": [
  {
   "cell_type": "code",
   "execution_count": 1,
   "metadata": {},
   "outputs": [],
   "source": [
    "import pandas as pd\n",
    "import json\n",
    "from numpy import nan\n",
    "from geopy import distance\n",
    "from pandas.io.json import json_normalize\n",
    "from shapely.geometry import shape, Point, MultiPoint\n",
    "from shapely.ops import nearest_points"
   ]
  },
  {
   "cell_type": "code",
   "execution_count": 2,
   "metadata": {},
   "outputs": [],
   "source": [
    "with open('./results-7-31-2019.json') as f:\n",
    "    # flatten json structures\n",
    "    data = json_normalize(json.load(f))\n",
    "    # Remove non-Chicago entries\n",
    "    data = data[data['address'].str.contains('Chicago, IL')]"
   ]
  },
  {
   "cell_type": "code",
   "execution_count": 3,
   "metadata": {},
   "outputs": [],
   "source": [
    "data = data.rename(columns={'hdpData.homeInfo.longitude': 'lon', 'hdpData.homeInfo.latitude': 'lat'}, errors='raise')"
   ]
  },
  {
   "cell_type": "code",
   "execution_count": 4,
   "metadata": {},
   "outputs": [],
   "source": [
    "with open('./CTA_RailStations.geojson') as f:\n",
    "    stations_geo = json.load(f)"
   ]
  },
  {
   "cell_type": "code",
   "execution_count": 5,
   "metadata": {},
   "outputs": [],
   "source": [
    "with open('./chicago_neighborhoods.geojson') as f:\n",
    "    neighborhoods_geo = json.load(f)"
   ]
  },
  {
   "cell_type": "code",
   "execution_count": 6,
   "metadata": {},
   "outputs": [],
   "source": [
    "# Make the neighborhood json easier to work with\n",
    "neighborhood_polygons = [{'geometry': shape(feature['geometry']), 'properties': feature['properties']} for feature in neighborhoods_geo['features']]"
   ]
  },
  {
   "cell_type": "code",
   "execution_count": 7,
   "metadata": {},
   "outputs": [],
   "source": [
    "def get_neighborhood(row):\n",
    "    lon = row['lon']\n",
    "    lat = row['lat']\n",
    "    hoods = [polygon['properties']['pri_neigh'] for polygon in neighborhood_polygons if polygon['geometry'].contains(Point(lon, lat))]\n",
    "    return hoods[0] if len(hoods) > 0 else None\n",
    "\n",
    "# Add neighborhoods to entries\n",
    "data['neighborhood'] = data.apply(get_neighborhood, axis=1)"
   ]
  },
  {
   "cell_type": "code",
   "execution_count": 8,
   "metadata": {},
   "outputs": [
    {
     "data": {
      "text/html": "<div>\n<style scoped>\n    .dataframe tbody tr th:only-of-type {\n        vertical-align: middle;\n    }\n\n    .dataframe tbody tr th {\n        vertical-align: top;\n    }\n\n    .dataframe thead th {\n        text-align: right;\n    }\n</style>\n<table border=\"1\" class=\"dataframe\">\n  <thead>\n    <tr style=\"text-align: right;\">\n      <th></th>\n      <th>address</th>\n      <th>neighborhood</th>\n    </tr>\n  </thead>\n  <tbody>\n    <tr>\n      <th>8246</th>\n      <td>2140 N Richmond St APT 5, Chicago, IL</td>\n      <td>Logan Square</td>\n    </tr>\n    <tr>\n      <th>9741</th>\n      <td>2615 N Bosworth Ave, Chicago, IL</td>\n      <td>Lincoln Park</td>\n    </tr>\n    <tr>\n      <th>3847</th>\n      <td>4931 S Prairie Ave APT 3, Chicago, IL</td>\n      <td>Grand Boulevard</td>\n    </tr>\n    <tr>\n      <th>4317</th>\n      <td>3030 S Kostner Ave, Chicago, IL</td>\n      <td>Little Village</td>\n    </tr>\n    <tr>\n      <th>12499</th>\n      <td>6147 N Sheridan Rd APT 30B, Chicago, IL</td>\n      <td>Edgewater</td>\n    </tr>\n    <tr>\n      <th>2310</th>\n      <td>8259 S Aberdeen St, Chicago, IL</td>\n      <td>Auburn Gresham</td>\n    </tr>\n    <tr>\n      <th>3272</th>\n      <td>5423 S Fairfield Ave, Chicago, IL</td>\n      <td>Gage Park</td>\n    </tr>\n    <tr>\n      <th>3240</th>\n      <td>5205 S Wood St, Chicago, IL</td>\n      <td>New City</td>\n    </tr>\n    <tr>\n      <th>8434</th>\n      <td>1838 N Marshfield Ave, Chicago, IL</td>\n      <td>Bucktown</td>\n    </tr>\n    <tr>\n      <th>3479</th>\n      <td>1461 E 56th St # 1W, Chicago, IL</td>\n      <td>Hyde Park</td>\n    </tr>\n    <tr>\n      <th>6932</th>\n      <td>2300 W Warren Blvd APT 2, Chicago, IL</td>\n      <td>United Center</td>\n    </tr>\n    <tr>\n      <th>9158</th>\n      <td>2731 N Neva Ave, Chicago, IL</td>\n      <td>Montclare</td>\n    </tr>\n    <tr>\n      <th>10533</th>\n      <td>3118 W Byron St # 1, Chicago, IL</td>\n      <td>Irving Park</td>\n    </tr>\n    <tr>\n      <th>12364</th>\n      <td>1756 W Granville Ave, Chicago, IL</td>\n      <td>Edgewater</td>\n    </tr>\n    <tr>\n      <th>5415</th>\n      <td>3522 W Flournoy St, Chicago, IL</td>\n      <td>Garfield Park</td>\n    </tr>\n    <tr>\n      <th>9552</th>\n      <td>1322 W Belmont Ave # 1W, Chicago, IL</td>\n      <td>Lake View</td>\n    </tr>\n    <tr>\n      <th>7555</th>\n      <td>420 E Waterside Dr UNIT 703, Chicago, IL</td>\n      <td>Loop</td>\n    </tr>\n    <tr>\n      <th>9840</th>\n      <td>3158 N Seminary Ave APT 4C, Chicago, IL</td>\n      <td>Lake View</td>\n    </tr>\n    <tr>\n      <th>5756</th>\n      <td>130 S Canal St APT 217, Chicago, IL</td>\n      <td>West Loop</td>\n    </tr>\n    <tr>\n      <th>10637</th>\n      <td>4027 N Kilbourn Ave, Chicago, IL</td>\n      <td>Irving Park</td>\n    </tr>\n  </tbody>\n</table>\n</div>",
      "text/plain": "                                        address     neighborhood\n8246      2140 N Richmond St APT 5, Chicago, IL     Logan Square\n9741           2615 N Bosworth Ave, Chicago, IL     Lincoln Park\n3847      4931 S Prairie Ave APT 3, Chicago, IL  Grand Boulevard\n4317            3030 S Kostner Ave, Chicago, IL   Little Village\n12499   6147 N Sheridan Rd APT 30B, Chicago, IL        Edgewater\n2310            8259 S Aberdeen St, Chicago, IL   Auburn Gresham\n3272          5423 S Fairfield Ave, Chicago, IL        Gage Park\n3240                5205 S Wood St, Chicago, IL         New City\n8434         1838 N Marshfield Ave, Chicago, IL         Bucktown\n3479           1461 E 56th St # 1W, Chicago, IL        Hyde Park\n6932      2300 W Warren Blvd APT 2, Chicago, IL    United Center\n9158               2731 N Neva Ave, Chicago, IL        Montclare\n10533          3118 W Byron St # 1, Chicago, IL      Irving Park\n12364         1756 W Granville Ave, Chicago, IL        Edgewater\n5415            3522 W Flournoy St, Chicago, IL    Garfield Park\n9552       1322 W Belmont Ave # 1W, Chicago, IL        Lake View\n7555   420 E Waterside Dr UNIT 703, Chicago, IL             Loop\n9840    3158 N Seminary Ave APT 4C, Chicago, IL        Lake View\n5756        130 S Canal St APT 217, Chicago, IL        West Loop\n10637          4027 N Kilbourn Ave, Chicago, IL      Irving Park"
     },
     "execution_count": 8,
     "metadata": {},
     "output_type": "execute_result"
    }
   ],
   "source": [
    "# Remove anything not in a neighborhood (probably incorrectly labeled as being in Chicago)\n",
    "data = data[data['neighborhood'].notnull()]\n",
    "data[['address', 'neighborhood']].sample(20)"
   ]
  },
  {
   "cell_type": "code",
   "execution_count": 9,
   "metadata": {},
   "outputs": [],
   "source": [
    "# Convert prices to ints, drop any entries without prices\n",
    "data['price'] = data.apply(lambda row: nan if (price:=row['price'].replace('$', '').replace(',', '')) == '' else int(price), axis=1)\n",
    "data = data.dropna(subset=['price'])"
   ]
  },
  {
   "cell_type": "code",
   "execution_count": 10,
   "metadata": {},
   "outputs": [],
   "source": [
    "def make_point(point):\n",
    "    lon = point['geometry']['coordinates'][0]\n",
    "    lat = point['geometry']['coordinates'][1]\n",
    "    return (lon, lat), {\n",
    "            'coords': Point(lon, lat),\n",
    "            'line': point['properties']['LINES'],\n",
    "            'station': point['properties']['Name']\n",
    "        }\n",
    "        \n",
    "\n",
    "stations = {(p:=make_point(point))[0]: p[1] for point in stations_geo['features']}\n",
    "station_points = [station['coords'] for station in stations.values()]"
   ]
  },
  {
   "cell_type": "code",
   "execution_count": 11,
   "metadata": {},
   "outputs": [
    {
     "data": {
      "text/html": "<div>\n<style scoped>\n    .dataframe tbody tr th:only-of-type {\n        vertical-align: middle;\n    }\n\n    .dataframe tbody tr th {\n        vertical-align: top;\n    }\n\n    .dataframe thead th {\n        text-align: right;\n    }\n</style>\n<table border=\"1\" class=\"dataframe\">\n  <thead>\n    <tr style=\"text-align: right;\">\n      <th></th>\n      <th>coords</th>\n      <th>line</th>\n      <th>station</th>\n      <th>neighborhood</th>\n      <th>address</th>\n    </tr>\n  </thead>\n  <tbody>\n    <tr>\n      <th>8878</th>\n      <td>POINT (-87.63141229300709 41.90392031189563)</td>\n      <td>Red Line</td>\n      <td>Clark/Division</td>\n      <td>Gold Coast</td>\n      <td>1110 N Lake Shore Dr APT 27S, Chicago, IL</td>\n    </tr>\n    <tr>\n      <th>7973</th>\n      <td>POINT (-87.75498649428108 41.88716322560614)</td>\n      <td>Green Line (Lake)</td>\n      <td>Laramie</td>\n      <td>Austin</td>\n      <td>5047 W Crystal St, Chicago, IL</td>\n    </tr>\n    <tr>\n      <th>750</th>\n      <td>POINT (-87.62441474538349 41.72237598330533)</td>\n      <td>Red Line</td>\n      <td>95/Dan Ryan</td>\n      <td>Mount Greenwood</td>\n      <td>10943 S Whipple St, Chicago, IL</td>\n    </tr>\n    <tr>\n      <th>9493</th>\n      <td>POINT (-87.66360955994172 41.94381225523734)</td>\n      <td>Brown Line</td>\n      <td>Southport</td>\n      <td>Lake View</td>\n      <td>1443 W Belmont Ave # 1, Chicago, IL</td>\n    </tr>\n    <tr>\n      <th>2638</th>\n      <td>POINT (-87.66384484844021 41.77895340470035)</td>\n      <td>Green Line (Englewood)</td>\n      <td>Ashland</td>\n      <td>Chicago Lawn</td>\n      <td>6429 S Campbell Ave, Chicago, IL</td>\n    </tr>\n    <tr>\n      <th>7460</th>\n      <td>POINT (-87.62802125739587 41.89166520044598)</td>\n      <td>Red Line</td>\n      <td>Grand</td>\n      <td>Streeterville</td>\n      <td>233 E Erie St APT 2205, Chicago, IL</td>\n    </tr>\n    <tr>\n      <th>6123</th>\n      <td>POINT (-87.62658988700279 41.86740495869866)</td>\n      <td>Orange &amp; Green Lines</td>\n      <td>Roosevelt</td>\n      <td>Loop</td>\n      <td>1000 S Michigan Ave # 5204, Chicago, IL</td>\n    </tr>\n    <tr>\n      <th>12457</th>\n      <td>POINT (-87.6590758588342 41.99025949308111)</td>\n      <td>Red Line</td>\n      <td>Thorndale</td>\n      <td>Edgewater</td>\n      <td>5855 N Sheridan Rd APT 10B, Chicago, IL</td>\n    </tr>\n    <tr>\n      <th>10560</th>\n      <td>POINT (-87.70165573251133 41.96614689495171)</td>\n      <td>Brown Line</td>\n      <td>Francisco</td>\n      <td>Irving Park</td>\n      <td>3811 N Sacramento Ave, Chicago, IL</td>\n    </tr>\n    <tr>\n      <th>5538</th>\n      <td>POINT (-87.66954322799872 41.87156300339059)</td>\n      <td>Pink</td>\n      <td>Polk</td>\n      <td>Little Italy, UIC</td>\n      <td>828 S Bishop St, Chicago, IL</td>\n    </tr>\n    <tr>\n      <th>8859</th>\n      <td>POINT (-87.63141229300709 41.90392031189563)</td>\n      <td>Red Line</td>\n      <td>Clark/Division</td>\n      <td>Gold Coast</td>\n      <td>39 E Schiller St APT 4W, Chicago, IL</td>\n    </tr>\n    <tr>\n      <th>4743</th>\n      <td>POINT (-87.72432672502003 41.85385683028695)</td>\n      <td>Pink</td>\n      <td>Pulaski</td>\n      <td>North Lawndale</td>\n      <td>1443 S Avers Ave, Chicago, IL</td>\n    </tr>\n    <tr>\n      <th>8465</th>\n      <td>POINT (-87.66649606690224 41.90335508455351)</td>\n      <td>Blue Line</td>\n      <td>Division</td>\n      <td>Wicker Park</td>\n      <td>1255 N Paulina St # 502, Chicago, IL</td>\n    </tr>\n    <tr>\n      <th>6498</th>\n      <td>POINT (-87.74469840019536 41.88651935258224)</td>\n      <td>Green Line (Lake)</td>\n      <td>Cicero</td>\n      <td>Austin</td>\n      <td>4835 W Hubbard St, Chicago, IL</td>\n    </tr>\n    <tr>\n      <th>11737</th>\n      <td>POINT (-87.68850260590037 41.96625004727976)</td>\n      <td>Brown Line</td>\n      <td>Western</td>\n      <td>Lincoln Square</td>\n      <td>4525 N Western Ave APT 2C, Chicago, IL</td>\n    </tr>\n    <tr>\n      <th>6679</th>\n      <td>POINT (-87.72540376831816 41.88541197876197)</td>\n      <td>Green Line (Lake)</td>\n      <td>Pulaski</td>\n      <td>Humboldt Park</td>\n      <td>3962 W Ohio St, Chicago, IL</td>\n    </tr>\n    <tr>\n      <th>3919</th>\n      <td>POINT (-87.61882612858351 41.8092088340794)</td>\n      <td>Green Line</td>\n      <td>47th</td>\n      <td>Kenwood</td>\n      <td>4559 S Ellis Ave, Chicago, IL</td>\n    </tr>\n    <tr>\n      <th>10973</th>\n      <td>POINT (-87.66360955994172 41.94381225523734)</td>\n      <td>Brown Line</td>\n      <td>Southport</td>\n      <td>Lake View</td>\n      <td>1155 W Roscoe St UNIT 1155, Chicago, IL</td>\n    </tr>\n    <tr>\n      <th>8755</th>\n      <td>POINT (-87.63141229300709 41.90392031189563)</td>\n      <td>Red Line</td>\n      <td>Clark/Division</td>\n      <td>Gold Coast</td>\n      <td>1313 N Ritchie Ct APT 1904, Chicago, IL</td>\n    </tr>\n    <tr>\n      <th>2208</th>\n      <td>POINT (-87.66384484844021 41.77895340470035)</td>\n      <td>Green Line (Englewood)</td>\n      <td>Ashland</td>\n      <td>Ashburn</td>\n      <td>7941 S Whipple St, Chicago, IL</td>\n    </tr>\n  </tbody>\n</table>\n</div>",
      "text/plain": "                                             coords                    line  \\\n8878   POINT (-87.63141229300709 41.90392031189563)                Red Line   \n7973   POINT (-87.75498649428108 41.88716322560614)       Green Line (Lake)   \n750    POINT (-87.62441474538349 41.72237598330533)                Red Line   \n9493   POINT (-87.66360955994172 41.94381225523734)              Brown Line   \n2638   POINT (-87.66384484844021 41.77895340470035)  Green Line (Englewood)   \n7460   POINT (-87.62802125739587 41.89166520044598)                Red Line   \n6123   POINT (-87.62658988700279 41.86740495869866)    Orange & Green Lines   \n12457   POINT (-87.6590758588342 41.99025949308111)                Red Line   \n10560  POINT (-87.70165573251133 41.96614689495171)              Brown Line   \n5538   POINT (-87.66954322799872 41.87156300339059)                    Pink   \n8859   POINT (-87.63141229300709 41.90392031189563)                Red Line   \n4743   POINT (-87.72432672502003 41.85385683028695)                    Pink   \n8465   POINT (-87.66649606690224 41.90335508455351)               Blue Line   \n6498   POINT (-87.74469840019536 41.88651935258224)       Green Line (Lake)   \n11737  POINT (-87.68850260590037 41.96625004727976)              Brown Line   \n6679   POINT (-87.72540376831816 41.88541197876197)       Green Line (Lake)   \n3919    POINT (-87.61882612858351 41.8092088340794)              Green Line   \n10973  POINT (-87.66360955994172 41.94381225523734)              Brown Line   \n8755   POINT (-87.63141229300709 41.90392031189563)                Red Line   \n2208   POINT (-87.66384484844021 41.77895340470035)  Green Line (Englewood)   \n\n              station       neighborhood  \\\n8878   Clark/Division         Gold Coast   \n7973          Laramie             Austin   \n750       95/Dan Ryan    Mount Greenwood   \n9493        Southport          Lake View   \n2638          Ashland       Chicago Lawn   \n7460            Grand      Streeterville   \n6123        Roosevelt               Loop   \n12457       Thorndale          Edgewater   \n10560       Francisco        Irving Park   \n5538             Polk  Little Italy, UIC   \n8859   Clark/Division         Gold Coast   \n4743          Pulaski     North Lawndale   \n8465         Division        Wicker Park   \n6498           Cicero             Austin   \n11737         Western     Lincoln Square   \n6679          Pulaski      Humboldt Park   \n3919             47th            Kenwood   \n10973       Southport          Lake View   \n8755   Clark/Division         Gold Coast   \n2208          Ashland            Ashburn   \n\n                                         address  \n8878   1110 N Lake Shore Dr APT 27S, Chicago, IL  \n7973              5047 W Crystal St, Chicago, IL  \n750              10943 S Whipple St, Chicago, IL  \n9493         1443 W Belmont Ave # 1, Chicago, IL  \n2638            6429 S Campbell Ave, Chicago, IL  \n7460         233 E Erie St APT 2205, Chicago, IL  \n6123     1000 S Michigan Ave # 5204, Chicago, IL  \n12457    5855 N Sheridan Rd APT 10B, Chicago, IL  \n10560         3811 N Sacramento Ave, Chicago, IL  \n5538                828 S Bishop St, Chicago, IL  \n8859        39 E Schiller St APT 4W, Chicago, IL  \n4743               1443 S Avers Ave, Chicago, IL  \n8465        1255 N Paulina St # 502, Chicago, IL  \n6498              4835 W Hubbard St, Chicago, IL  \n11737     4525 N Western Ave APT 2C, Chicago, IL  \n6679                 3962 W Ohio St, Chicago, IL  \n3919               4559 S Ellis Ave, Chicago, IL  \n10973    1155 W Roscoe St UNIT 1155, Chicago, IL  \n8755     1313 N Ritchie Ct APT 1904, Chicago, IL  \n2208              7941 S Whipple St, Chicago, IL  "
     },
     "execution_count": 11,
     "metadata": {},
     "output_type": "execute_result"
    }
   ],
   "source": [
    "# Get nearest CTA stations\n",
    "stations_multipoint = MultiPoint(station_points)\n",
    "def get_nearest_station(row):\n",
    "    lon = row['lon']\n",
    "    lat = row['lat']\n",
    "    p = Point(lon, lat)\n",
    "    np = nearest_points(p, MultiPoint(station_points))\n",
    "    # Index 0 is the input point, index 1 is the nearest station\n",
    "    nearest_station = stations[(np[1].x, np[1].y)]\n",
    "    return nearest_station\n",
    "\n",
    "data = pd.concat([data, data.apply(get_nearest_station, axis=1, result_type='expand')], axis=1)\n",
    "\n",
    "data[['coords', 'line', 'station', 'neighborhood', 'address']].sample(20)"
   ]
  },
  {
   "cell_type": "code",
   "execution_count": 12,
   "metadata": {},
   "outputs": [
    {
     "data": {
      "text/html": "<div>\n<style scoped>\n    .dataframe tbody tr th:only-of-type {\n        vertical-align: middle;\n    }\n\n    .dataframe tbody tr th {\n        vertical-align: top;\n    }\n\n    .dataframe thead th {\n        text-align: right;\n    }\n</style>\n<table border=\"1\" class=\"dataframe\">\n  <thead>\n    <tr style=\"text-align: right;\">\n      <th></th>\n      <th>lon</th>\n      <th>lat</th>\n      <th>coords</th>\n      <th>stationDistance</th>\n      <th>station</th>\n    </tr>\n  </thead>\n  <tbody>\n    <tr>\n      <th>427</th>\n      <td>-87.622993</td>\n      <td>41.677423</td>\n      <td>POINT (-87.62441474538349 41.72237598330533)</td>\n      <td>3.175952</td>\n      <td>95/Dan Ryan</td>\n    </tr>\n    <tr>\n      <th>7888</th>\n      <td>-87.795337</td>\n      <td>41.915372</td>\n      <td>POINT (-87.79378335175879 41.88698752067567)</td>\n      <td>2.039088</td>\n      <td>Oak Park</td>\n    </tr>\n    <tr>\n      <th>7845</th>\n      <td>-87.795168</td>\n      <td>41.909904</td>\n      <td>POINT (-87.79378335175879 41.88698752067567)</td>\n      <td>1.652999</td>\n      <td>Oak Park</td>\n    </tr>\n    <tr>\n      <th>7425</th>\n      <td>-87.649990</td>\n      <td>41.893600</td>\n      <td>POINT (-87.64757831015247 41.89118929312991)</td>\n      <td>0.290741</td>\n      <td>Grand</td>\n    </tr>\n    <tr>\n      <th>11842</th>\n      <td>-87.652205</td>\n      <td>41.974801</td>\n      <td>POINT (-87.65852996352429 41.97345332194149)</td>\n      <td>0.418758</td>\n      <td>Argyle</td>\n    </tr>\n    <tr>\n      <th>9657</th>\n      <td>-87.691173</td>\n      <td>41.931006</td>\n      <td>POINT (-87.69688979878789 41.92193917056461)</td>\n      <td>0.920389</td>\n      <td>California</td>\n    </tr>\n    <tr>\n      <th>6656</th>\n      <td>-87.735047</td>\n      <td>41.900054</td>\n      <td>POINT (-87.74469840019536 41.88651935258224)</td>\n      <td>1.431755</td>\n      <td>Cicero</td>\n    </tr>\n    <tr>\n      <th>9344</th>\n      <td>-87.722372</td>\n      <td>41.929472</td>\n      <td>POINT (-87.71235935057341 41.93813166884105)</td>\n      <td>1.113695</td>\n      <td>Belmont</td>\n    </tr>\n    <tr>\n      <th>3166</th>\n      <td>-87.727710</td>\n      <td>41.787059</td>\n      <td>POINT (-87.73795637168769 41.78661355009723)</td>\n      <td>0.559992</td>\n      <td>Midway</td>\n    </tr>\n    <tr>\n      <th>10682</th>\n      <td>-87.668500</td>\n      <td>41.947700</td>\n      <td>POINT (-87.67088394357924 41.94370914759255)</td>\n      <td>0.398265</td>\n      <td>Paulina</td>\n    </tr>\n    <tr>\n      <th>3418</th>\n      <td>-87.611229</td>\n      <td>41.782679</td>\n      <td>POINT (-87.61554588356856 41.78012971578292)</td>\n      <td>0.398931</td>\n      <td>King Drive</td>\n    </tr>\n    <tr>\n      <th>867</th>\n      <td>-87.657271</td>\n      <td>41.689649</td>\n      <td>POINT (-87.62441474538349 41.72237598330533)</td>\n      <td>3.958296</td>\n      <td>95/Dan Ryan</td>\n    </tr>\n    <tr>\n      <th>2971</th>\n      <td>-87.612536</td>\n      <td>41.763392</td>\n      <td>POINT (-87.62580935004172 41.76836786492974)</td>\n      <td>1.029261</td>\n      <td>69th</td>\n    </tr>\n    <tr>\n      <th>670</th>\n      <td>-87.710964</td>\n      <td>41.691945</td>\n      <td>POINT (-87.62441474538349 41.72237598330533)</td>\n      <td>6.577244</td>\n      <td>95/Dan Ryan</td>\n    </tr>\n    <tr>\n      <th>766</th>\n      <td>-87.673375</td>\n      <td>41.698557</td>\n      <td>POINT (-87.62441474538349 41.72237598330533)</td>\n      <td>4.176237</td>\n      <td>95/Dan Ryan</td>\n    </tr>\n    <tr>\n      <th>11661</th>\n      <td>-87.688668</td>\n      <td>41.972595</td>\n      <td>POINT (-87.68850260590037 41.96625004727976)</td>\n      <td>0.446430</td>\n      <td>Western</td>\n    </tr>\n    <tr>\n      <th>4348</th>\n      <td>-87.693497</td>\n      <td>41.823983</td>\n      <td>POINT (-87.68058736862578 41.8295600871101)</td>\n      <td>1.051336</td>\n      <td>35th/Archer</td>\n    </tr>\n    <tr>\n      <th>5972</th>\n      <td>-87.641675</td>\n      <td>41.874877</td>\n      <td>POINT (-87.64098421671696 41.87553890406132)</td>\n      <td>0.081314</td>\n      <td>Clinton</td>\n    </tr>\n    <tr>\n      <th>9468</th>\n      <td>-87.672659</td>\n      <td>41.933960</td>\n      <td>POINT (-87.67088394357924 41.94370914759255)</td>\n      <td>0.764333</td>\n      <td>Paulina</td>\n    </tr>\n    <tr>\n      <th>11181</th>\n      <td>-87.842032</td>\n      <td>41.961946</td>\n      <td>POINT (-87.83802598504772 41.98429405688996)</td>\n      <td>1.748762</td>\n      <td>Cumberland</td>\n    </tr>\n  </tbody>\n</table>\n</div>",
      "text/plain": "             lon        lat                                        coords  \\\n427   -87.622993  41.677423  POINT (-87.62441474538349 41.72237598330533)   \n7888  -87.795337  41.915372  POINT (-87.79378335175879 41.88698752067567)   \n7845  -87.795168  41.909904  POINT (-87.79378335175879 41.88698752067567)   \n7425  -87.649990  41.893600  POINT (-87.64757831015247 41.89118929312991)   \n11842 -87.652205  41.974801  POINT (-87.65852996352429 41.97345332194149)   \n9657  -87.691173  41.931006  POINT (-87.69688979878789 41.92193917056461)   \n6656  -87.735047  41.900054  POINT (-87.74469840019536 41.88651935258224)   \n9344  -87.722372  41.929472  POINT (-87.71235935057341 41.93813166884105)   \n3166  -87.727710  41.787059  POINT (-87.73795637168769 41.78661355009723)   \n10682 -87.668500  41.947700  POINT (-87.67088394357924 41.94370914759255)   \n3418  -87.611229  41.782679  POINT (-87.61554588356856 41.78012971578292)   \n867   -87.657271  41.689649  POINT (-87.62441474538349 41.72237598330533)   \n2971  -87.612536  41.763392  POINT (-87.62580935004172 41.76836786492974)   \n670   -87.710964  41.691945  POINT (-87.62441474538349 41.72237598330533)   \n766   -87.673375  41.698557  POINT (-87.62441474538349 41.72237598330533)   \n11661 -87.688668  41.972595  POINT (-87.68850260590037 41.96625004727976)   \n4348  -87.693497  41.823983   POINT (-87.68058736862578 41.8295600871101)   \n5972  -87.641675  41.874877  POINT (-87.64098421671696 41.87553890406132)   \n9468  -87.672659  41.933960  POINT (-87.67088394357924 41.94370914759255)   \n11181 -87.842032  41.961946  POINT (-87.83802598504772 41.98429405688996)   \n\n       stationDistance      station  \n427           3.175952  95/Dan Ryan  \n7888          2.039088     Oak Park  \n7845          1.652999     Oak Park  \n7425          0.290741        Grand  \n11842         0.418758       Argyle  \n9657          0.920389   California  \n6656          1.431755       Cicero  \n9344          1.113695      Belmont  \n3166          0.559992       Midway  \n10682         0.398265      Paulina  \n3418          0.398931   King Drive  \n867           3.958296  95/Dan Ryan  \n2971          1.029261         69th  \n670           6.577244  95/Dan Ryan  \n766           4.176237  95/Dan Ryan  \n11661         0.446430      Western  \n4348          1.051336  35th/Archer  \n5972          0.081314      Clinton  \n9468          0.764333      Paulina  \n11181         1.748762   Cumberland  "
     },
     "execution_count": 12,
     "metadata": {},
     "output_type": "execute_result"
    }
   ],
   "source": [
    "def manhattan_distance(row):\n",
    "    home_lon = row['lon']\n",
    "    home_lat = row['lat']\n",
    "    station_lon = row['coords'].x\n",
    "    station_lat = row['coords'].y\n",
    "\n",
    "    # Calculate Haversine distance (https://en.wikipedia.org/wiki/Haversine_formula) \n",
    "    # using Manhattan distance (https://xlinux.nist.gov/dads/HTML/manhattanDistance.html)\n",
    "    return distance.distance((home_lat, home_lon), (station_lat, home_lon)).miles + \\\n",
    "        distance.distance((home_lat, home_lon), (home_lat, station_lon)).miles\n",
    "\n",
    "data['stationDistance'] = data.apply(manhattan_distance, axis=1)\n",
    "data[['lon', 'lat', 'coords', 'stationDistance', 'station']].sample(20)"
   ]
  },
  {
   "cell_type": "code",
   "execution_count": 13,
   "metadata": {},
   "outputs": [],
   "source": [
    "# save cleaned data\n",
    "data.to_csv('results-7-31-2019-cleaned.csv')"
   ]
  },
  {
   "cell_type": "code",
   "execution_count": null,
   "metadata": {},
   "outputs": [],
   "source": []
  }
 ]
}