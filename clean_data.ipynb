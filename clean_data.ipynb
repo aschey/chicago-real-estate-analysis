{
 "nbformat": 4,
 "nbformat_minor": 2,
 "metadata": {
  "language_info": {
   "name": "python",
   "codemirror_mode": {
    "name": "ipython",
    "version": 3
   },
   "version": "3.8.0"
  },
  "orig_nbformat": 2,
  "file_extension": ".py",
  "mimetype": "text/x-python",
  "name": "python",
  "npconvert_exporter": "python",
  "pygments_lexer": "ipython3",
  "version": 3
 },
 "cells": [
  {
   "cell_type": "code",
   "execution_count": 1,
   "metadata": {},
   "outputs": [],
   "source": [
    "import pandas as pd\n",
    "import json\n",
    "from numpy import nan\n",
    "from geopy import distance\n",
    "from pandas.io.json import json_normalize\n",
    "from shapely.geometry import shape, Point, MultiPoint\n",
    "from shapely.ops import nearest_points"
   ]
  },
  {
   "cell_type": "code",
   "execution_count": 2,
   "metadata": {},
   "outputs": [],
   "source": [
    "with open('./results-11-30-2019.json') as f:\n",
    "    # flatten json structures\n",
    "    data = json_normalize(json.load(f))\n",
    "    # Remove non-Chicago entries\n",
    "    data = data[data['address'].str.contains('Chicago, IL')]"
   ]
  },
  {
   "cell_type": "code",
   "execution_count": 3,
   "metadata": {},
   "outputs": [],
   "source": [
    "data = data.rename(columns={\n",
    "    'latLong.longitude': 'lon', \n",
    "    'latLong.latitude': 'lat',\n",
    "    'hdpData.homeInfo.yearBuilt': 'yearBuilt',\n",
    "    'hdpData.homeInfo.homeType': 'homeType'\n",
    "    }, errors='raise')"
   ]
  },
  {
   "cell_type": "code",
   "execution_count": 4,
   "metadata": {},
   "outputs": [],
   "source": [
    "data = data[['price', 'beds', 'baths', 'area', 'lat', 'lon', 'yearBuilt', 'homeType']]"
   ]
  },
  {
   "cell_type": "code",
   "execution_count": 5,
   "metadata": {},
   "outputs": [],
   "source": [
    "with open('./CTA_RailStations.geojson') as f:\n",
    "    stations_geo = json.load(f)"
   ]
  },
  {
   "cell_type": "code",
   "execution_count": 6,
   "metadata": {},
   "outputs": [],
   "source": [
    "with open('./chicago_neighborhoods.geojson') as f:\n",
    "    neighborhoods_geo = json.load(f)"
   ]
  },
  {
   "cell_type": "code",
   "execution_count": 7,
   "metadata": {},
   "outputs": [],
   "source": [
    "# Make the neighborhood json easier to work with\n",
    "neighborhood_polygons = [{'geometry': shape(feature['geometry']), 'properties': feature['properties']} for feature in neighborhoods_geo['features']]"
   ]
  },
  {
   "cell_type": "code",
   "execution_count": 8,
   "metadata": {},
   "outputs": [],
   "source": [
    "def get_neighborhood(row):\n",
    "    lon = row['lon']\n",
    "    lat = row['lat']\n",
    "    hoods = [polygon['properties']['pri_neigh'] for polygon in neighborhood_polygons if polygon['geometry'].contains(Point(lon, lat))]\n",
    "    return hoods[0] if len(hoods) > 0 else None\n",
    "\n",
    "# Add neighborhoods to entries\n",
    "data['neighborhood'] = data.apply(get_neighborhood, axis=1)"
   ]
  },
  {
   "cell_type": "code",
   "execution_count": 9,
   "metadata": {},
   "outputs": [
    {
     "data": {
      "text/html": "<div>\n<style scoped>\n    .dataframe tbody tr th:only-of-type {\n        vertical-align: middle;\n    }\n\n    .dataframe tbody tr th {\n        vertical-align: top;\n    }\n\n    .dataframe thead th {\n        text-align: right;\n    }\n</style>\n<table border=\"1\" class=\"dataframe\">\n  <thead>\n    <tr style=\"text-align: right;\">\n      <th></th>\n      <th>lat</th>\n      <th>lon</th>\n      <th>neighborhood</th>\n    </tr>\n  </thead>\n  <tbody>\n    <tr>\n      <th>13518</th>\n      <td>42.009340</td>\n      <td>-87.660854</td>\n      <td>Rogers Park</td>\n    </tr>\n    <tr>\n      <th>2310</th>\n      <td>41.744926</td>\n      <td>-87.730642</td>\n      <td>Ashburn</td>\n    </tr>\n    <tr>\n      <th>11396</th>\n      <td>41.961521</td>\n      <td>-87.696670</td>\n      <td>Albany Park</td>\n    </tr>\n    <tr>\n      <th>10860</th>\n      <td>41.955418</td>\n      <td>-87.833368</td>\n      <td>Dunning</td>\n    </tr>\n    <tr>\n      <th>7218</th>\n      <td>41.883794</td>\n      <td>-87.652708</td>\n      <td>West Loop</td>\n    </tr>\n    <tr>\n      <th>11232</th>\n      <td>41.960189</td>\n      <td>-87.720100</td>\n      <td>Irving Park</td>\n    </tr>\n    <tr>\n      <th>8776</th>\n      <td>41.913144</td>\n      <td>-87.687682</td>\n      <td>Wicker Park</td>\n    </tr>\n    <tr>\n      <th>7605</th>\n      <td>41.894355</td>\n      <td>-87.627675</td>\n      <td>River North</td>\n    </tr>\n    <tr>\n      <th>2072</th>\n      <td>41.732006</td>\n      <td>-87.590111</td>\n      <td>Calumet Heights</td>\n    </tr>\n    <tr>\n      <th>11081</th>\n      <td>41.958872</td>\n      <td>-87.770691</td>\n      <td>Portage Park</td>\n    </tr>\n    <tr>\n      <th>9576</th>\n      <td>41.904757</td>\n      <td>-87.627310</td>\n      <td>Gold Coast</td>\n    </tr>\n    <tr>\n      <th>11187</th>\n      <td>41.952655</td>\n      <td>-87.737161</td>\n      <td>Irving Park</td>\n    </tr>\n    <tr>\n      <th>12756</th>\n      <td>41.992187</td>\n      <td>-87.680231</td>\n      <td>West Ridge</td>\n    </tr>\n    <tr>\n      <th>3000</th>\n      <td>41.762978</td>\n      <td>-87.623720</td>\n      <td>Grand Crossing</td>\n    </tr>\n    <tr>\n      <th>9201</th>\n      <td>41.902994</td>\n      <td>-87.627601</td>\n      <td>Gold Coast</td>\n    </tr>\n    <tr>\n      <th>12950</th>\n      <td>41.994383</td>\n      <td>-87.654658</td>\n      <td>Edgewater</td>\n    </tr>\n    <tr>\n      <th>13344</th>\n      <td>42.011807</td>\n      <td>-87.671606</td>\n      <td>Rogers Park</td>\n    </tr>\n    <tr>\n      <th>5698</th>\n      <td>41.864879</td>\n      <td>-87.718231</td>\n      <td>North Lawndale</td>\n    </tr>\n    <tr>\n      <th>5240</th>\n      <td>41.855947</td>\n      <td>-87.622764</td>\n      <td>Near South Side</td>\n    </tr>\n    <tr>\n      <th>9974</th>\n      <td>41.938610</td>\n      <td>-87.726598</td>\n      <td>Avondale</td>\n    </tr>\n  </tbody>\n</table>\n</div>",
      "text/plain": "             lat        lon     neighborhood\n13518  42.009340 -87.660854      Rogers Park\n2310   41.744926 -87.730642          Ashburn\n11396  41.961521 -87.696670      Albany Park\n10860  41.955418 -87.833368          Dunning\n7218   41.883794 -87.652708        West Loop\n11232  41.960189 -87.720100      Irving Park\n8776   41.913144 -87.687682      Wicker Park\n7605   41.894355 -87.627675      River North\n2072   41.732006 -87.590111  Calumet Heights\n11081  41.958872 -87.770691     Portage Park\n9576   41.904757 -87.627310       Gold Coast\n11187  41.952655 -87.737161      Irving Park\n12756  41.992187 -87.680231       West Ridge\n3000   41.762978 -87.623720   Grand Crossing\n9201   41.902994 -87.627601       Gold Coast\n12950  41.994383 -87.654658        Edgewater\n13344  42.011807 -87.671606      Rogers Park\n5698   41.864879 -87.718231   North Lawndale\n5240   41.855947 -87.622764  Near South Side\n9974   41.938610 -87.726598         Avondale"
     },
     "execution_count": 9,
     "metadata": {},
     "output_type": "execute_result"
    }
   ],
   "source": [
    "# Remove anything not in a neighborhood (probably incorrectly labeled as being in Chicago)\n",
    "data = data[data['neighborhood'].notnull()]\n",
    "data[['lat', 'lon', 'neighborhood']].sample(20)"
   ]
  },
  {
   "cell_type": "code",
   "execution_count": 10,
   "metadata": {},
   "outputs": [
    {
     "name": "stdout",
     "output_type": "stream",
     "text": "Records before drop: (10277, 9)\nRecords after drop: (7436, 9)\n"
    },
    {
     "data": {
      "text/html": "<div>\n<style scoped>\n    .dataframe tbody tr th:only-of-type {\n        vertical-align: middle;\n    }\n\n    .dataframe tbody tr th {\n        vertical-align: top;\n    }\n\n    .dataframe thead th {\n        text-align: right;\n    }\n</style>\n<table border=\"1\" class=\"dataframe\">\n  <thead>\n    <tr style=\"text-align: right;\">\n      <th></th>\n      <th>price</th>\n      <th>beds</th>\n      <th>baths</th>\n      <th>area</th>\n      <th>lat</th>\n      <th>lon</th>\n      <th>yearBuilt</th>\n      <th>homeType</th>\n      <th>neighborhood</th>\n    </tr>\n  </thead>\n  <tbody>\n    <tr>\n      <th>12696</th>\n      <td>970000.0</td>\n      <td>4.0</td>\n      <td>4.0</td>\n      <td>3604.0</td>\n      <td>41.987390</td>\n      <td>-87.741593</td>\n      <td>1923</td>\n      <td>SINGLE_FAMILY</td>\n      <td>Sauganash,Forest Glen</td>\n    </tr>\n    <tr>\n      <th>3442</th>\n      <td>239900.0</td>\n      <td>4.0</td>\n      <td>2.0</td>\n      <td>1181.0</td>\n      <td>41.798627</td>\n      <td>-87.719985</td>\n      <td>1944</td>\n      <td>SINGLE_FAMILY</td>\n      <td>West Elsdon</td>\n    </tr>\n    <tr>\n      <th>10168</th>\n      <td>565000.0</td>\n      <td>3.0</td>\n      <td>2.0</td>\n      <td>1850.0</td>\n      <td>41.939774</td>\n      <td>-87.684171</td>\n      <td>2005</td>\n      <td>CONDO</td>\n      <td>North Center</td>\n    </tr>\n    <tr>\n      <th>8442</th>\n      <td>289900.0</td>\n      <td>3.0</td>\n      <td>2.0</td>\n      <td>858.0</td>\n      <td>41.920919</td>\n      <td>-87.749551</td>\n      <td>1911</td>\n      <td>SINGLE_FAMILY</td>\n      <td>Belmont Cragin</td>\n    </tr>\n    <tr>\n      <th>9144</th>\n      <td>1249000.0</td>\n      <td>2.0</td>\n      <td>4.0</td>\n      <td>3826.0</td>\n      <td>41.906923</td>\n      <td>-87.630967</td>\n      <td>2018</td>\n      <td>TOWNHOUSE</td>\n      <td>Gold Coast</td>\n    </tr>\n    <tr>\n      <th>10556</th>\n      <td>1490000.0</td>\n      <td>2.0</td>\n      <td>2.0</td>\n      <td>1569.0</td>\n      <td>41.929235</td>\n      <td>-87.639921</td>\n      <td>2010</td>\n      <td>CONDO</td>\n      <td>Lincoln Park</td>\n    </tr>\n    <tr>\n      <th>538</th>\n      <td>134900.0</td>\n      <td>4.0</td>\n      <td>2.0</td>\n      <td>1400.0</td>\n      <td>41.681386</td>\n      <td>-87.656288</td>\n      <td>1961</td>\n      <td>SINGLE_FAMILY</td>\n      <td>West Pullman</td>\n    </tr>\n    <tr>\n      <th>7199</th>\n      <td>339000.0</td>\n      <td>1.0</td>\n      <td>1.0</td>\n      <td>818.0</td>\n      <td>41.892082</td>\n      <td>-87.628862</td>\n      <td>2003</td>\n      <td>CONDO</td>\n      <td>River North</td>\n    </tr>\n    <tr>\n      <th>8753</th>\n      <td>899000.0</td>\n      <td>5.0</td>\n      <td>5.0</td>\n      <td>1.0</td>\n      <td>41.920921</td>\n      <td>-87.681767</td>\n      <td>1892</td>\n      <td>MULTI_FAMILY</td>\n      <td>Bucktown</td>\n    </tr>\n    <tr>\n      <th>4218</th>\n      <td>595000.0</td>\n      <td>4.0</td>\n      <td>4.0</td>\n      <td>3000.0</td>\n      <td>41.817814</td>\n      <td>-87.615533</td>\n      <td>2007</td>\n      <td>SINGLE_FAMILY</td>\n      <td>Grand Boulevard</td>\n    </tr>\n    <tr>\n      <th>5265</th>\n      <td>999980.0</td>\n      <td>11.0</td>\n      <td>6.0</td>\n      <td>1500.0</td>\n      <td>41.850668</td>\n      <td>-87.635072</td>\n      <td>1956</td>\n      <td>MULTI_FAMILY</td>\n      <td>Chinatown</td>\n    </tr>\n    <tr>\n      <th>9308</th>\n      <td>229000.0</td>\n      <td>1.0</td>\n      <td>1.0</td>\n      <td>10200.0</td>\n      <td>41.918804</td>\n      <td>-87.636990</td>\n      <td>1971</td>\n      <td>CONDO</td>\n      <td>Lincoln Park</td>\n    </tr>\n    <tr>\n      <th>12969</th>\n      <td>195000.0</td>\n      <td>2.0</td>\n      <td>2.0</td>\n      <td>1519.0</td>\n      <td>41.991933</td>\n      <td>-87.654687</td>\n      <td>1972</td>\n      <td>CONDO</td>\n      <td>Edgewater</td>\n    </tr>\n    <tr>\n      <th>8396</th>\n      <td>409900.0</td>\n      <td>4.0</td>\n      <td>3.0</td>\n      <td>1040.0</td>\n      <td>41.912512</td>\n      <td>-87.780539</td>\n      <td>1922</td>\n      <td>SINGLE_FAMILY</td>\n      <td>Galewood</td>\n    </tr>\n    <tr>\n      <th>6834</th>\n      <td>625000.0</td>\n      <td>3.0</td>\n      <td>2.0</td>\n      <td>1650.0</td>\n      <td>41.896085</td>\n      <td>-87.682552</td>\n      <td>2015</td>\n      <td>CONDO</td>\n      <td>Ukrainian Village</td>\n    </tr>\n    <tr>\n      <th>9177</th>\n      <td>272500.0</td>\n      <td>1.0</td>\n      <td>1.0</td>\n      <td>850.0</td>\n      <td>41.910256</td>\n      <td>-87.632526</td>\n      <td>1971</td>\n      <td>CONDO</td>\n      <td>Old Town</td>\n    </tr>\n    <tr>\n      <th>6853</th>\n      <td>399000.0</td>\n      <td>2.0</td>\n      <td>2.0</td>\n      <td>1000.0</td>\n      <td>41.893503</td>\n      <td>-87.672343</td>\n      <td>2004</td>\n      <td>CONDO</td>\n      <td>West Town</td>\n    </tr>\n    <tr>\n      <th>11225</th>\n      <td>329900.0</td>\n      <td>2.0</td>\n      <td>2.0</td>\n      <td>1150.0</td>\n      <td>41.949878</td>\n      <td>-87.714371</td>\n      <td>1910</td>\n      <td>CONDO</td>\n      <td>Irving Park</td>\n    </tr>\n    <tr>\n      <th>7923</th>\n      <td>439000.0</td>\n      <td>1.0</td>\n      <td>1.0</td>\n      <td>1050.0</td>\n      <td>41.899530</td>\n      <td>-87.621348</td>\n      <td>1974</td>\n      <td>CONDO</td>\n      <td>Streeterville</td>\n    </tr>\n    <tr>\n      <th>5306</th>\n      <td>2695000.0</td>\n      <td>8.0</td>\n      <td>7.0</td>\n      <td>10660.0</td>\n      <td>41.856648</td>\n      <td>-87.621187</td>\n      <td>1870</td>\n      <td>SINGLE_FAMILY</td>\n      <td>Near South Side</td>\n    </tr>\n  </tbody>\n</table>\n</div>",
      "text/plain": "           price  beds  baths     area        lat        lon  yearBuilt  \\\n12696   970000.0   4.0    4.0   3604.0  41.987390 -87.741593       1923   \n3442    239900.0   4.0    2.0   1181.0  41.798627 -87.719985       1944   \n10168   565000.0   3.0    2.0   1850.0  41.939774 -87.684171       2005   \n8442    289900.0   3.0    2.0    858.0  41.920919 -87.749551       1911   \n9144   1249000.0   2.0    4.0   3826.0  41.906923 -87.630967       2018   \n10556  1490000.0   2.0    2.0   1569.0  41.929235 -87.639921       2010   \n538     134900.0   4.0    2.0   1400.0  41.681386 -87.656288       1961   \n7199    339000.0   1.0    1.0    818.0  41.892082 -87.628862       2003   \n8753    899000.0   5.0    5.0      1.0  41.920921 -87.681767       1892   \n4218    595000.0   4.0    4.0   3000.0  41.817814 -87.615533       2007   \n5265    999980.0  11.0    6.0   1500.0  41.850668 -87.635072       1956   \n9308    229000.0   1.0    1.0  10200.0  41.918804 -87.636990       1971   \n12969   195000.0   2.0    2.0   1519.0  41.991933 -87.654687       1972   \n8396    409900.0   4.0    3.0   1040.0  41.912512 -87.780539       1922   \n6834    625000.0   3.0    2.0   1650.0  41.896085 -87.682552       2015   \n9177    272500.0   1.0    1.0    850.0  41.910256 -87.632526       1971   \n6853    399000.0   2.0    2.0   1000.0  41.893503 -87.672343       2004   \n11225   329900.0   2.0    2.0   1150.0  41.949878 -87.714371       1910   \n7923    439000.0   1.0    1.0   1050.0  41.899530 -87.621348       1974   \n5306   2695000.0   8.0    7.0  10660.0  41.856648 -87.621187       1870   \n\n            homeType           neighborhood  \n12696  SINGLE_FAMILY  Sauganash,Forest Glen  \n3442   SINGLE_FAMILY            West Elsdon  \n10168          CONDO           North Center  \n8442   SINGLE_FAMILY         Belmont Cragin  \n9144       TOWNHOUSE             Gold Coast  \n10556          CONDO           Lincoln Park  \n538    SINGLE_FAMILY           West Pullman  \n7199           CONDO            River North  \n8753    MULTI_FAMILY               Bucktown  \n4218   SINGLE_FAMILY        Grand Boulevard  \n5265    MULTI_FAMILY              Chinatown  \n9308           CONDO           Lincoln Park  \n12969          CONDO              Edgewater  \n8396   SINGLE_FAMILY               Galewood  \n6834           CONDO      Ukrainian Village  \n9177           CONDO               Old Town  \n6853           CONDO              West Town  \n11225          CONDO            Irving Park  \n7923           CONDO          Streeterville  \n5306   SINGLE_FAMILY        Near South Side  "
     },
     "execution_count": 10,
     "metadata": {},
     "output_type": "execute_result"
    }
   ],
   "source": [
    "# Convert prices to ints, drop any entries without prices\n",
    "data['price'] = data.apply(lambda row: nan if (price:=row['price'].replace('$', '').replace(',', '')) == '' else int(price), axis=1)\n",
    "\n",
    "print(f'Records before drop: {data.shape}')\n",
    "data = data.dropna()\n",
    "data = data[data['yearBuilt'] > 0]\n",
    "print(f'Records after drop: {data.shape}')\n",
    "data.sample(20)"
   ]
  },
  {
   "cell_type": "code",
   "execution_count": 11,
   "metadata": {},
   "outputs": [],
   "source": [
    "def make_point(point):\n",
    "    lon = point['geometry']['coordinates'][0]\n",
    "    lat = point['geometry']['coordinates'][1]\n",
    "    return (lon, lat), {\n",
    "            'coords': Point(lon, lat),\n",
    "            'line': point['properties']['LINES'],\n",
    "            'station': point['properties']['Name']\n",
    "        }\n",
    "        \n",
    "\n",
    "stations = {(p:=make_point(point))[0]: p[1] for point in stations_geo['features']}\n",
    "station_points = [station['coords'] for station in stations.values()]"
   ]
  },
  {
   "cell_type": "code",
   "execution_count": 12,
   "metadata": {},
   "outputs": [
    {
     "data": {
      "text/html": "<div>\n<style scoped>\n    .dataframe tbody tr th:only-of-type {\n        vertical-align: middle;\n    }\n\n    .dataframe tbody tr th {\n        vertical-align: top;\n    }\n\n    .dataframe thead th {\n        text-align: right;\n    }\n</style>\n<table border=\"1\" class=\"dataframe\">\n  <thead>\n    <tr style=\"text-align: right;\">\n      <th></th>\n      <th>coords</th>\n      <th>line</th>\n      <th>station</th>\n      <th>neighborhood</th>\n    </tr>\n  </thead>\n  <tbody>\n    <tr>\n      <th>10318</th>\n      <td>POINT (-87.6528658377562 41.92505136765153)</td>\n      <td>Red, Brown, Purple (Express)</td>\n      <td>Fullerton</td>\n      <td>Lincoln Park</td>\n    </tr>\n    <tr>\n      <th>9167</th>\n      <td>POINT (-87.63141229300709 41.90392031189563)</td>\n      <td>Red Line</td>\n      <td>Clark/Division</td>\n      <td>Gold Coast</td>\n    </tr>\n    <tr>\n      <th>1960</th>\n      <td>POINT (-87.62441474538349 41.72237598330533)</td>\n      <td>Red Line</td>\n      <td>95/Dan Ryan</td>\n      <td>Washington Heights</td>\n    </tr>\n    <tr>\n      <th>9206</th>\n      <td>POINT (-87.63141229300709 41.90392031189563)</td>\n      <td>Red Line</td>\n      <td>Clark/Division</td>\n      <td>Gold Coast</td>\n    </tr>\n    <tr>\n      <th>6651</th>\n      <td>POINT (-87.77413525552275 41.88729278376865)</td>\n      <td>Green Line (Lake)</td>\n      <td>Austin</td>\n      <td>Austin</td>\n    </tr>\n    <tr>\n      <th>7768</th>\n      <td>POINT (-87.62802125739587 41.89166520044598)</td>\n      <td>Red Line</td>\n      <td>Grand</td>\n      <td>Streeterville</td>\n    </tr>\n    <tr>\n      <th>9329</th>\n      <td>POINT (-87.65264430600405 41.91821656715077)</td>\n      <td>Brown, Purple (Express)</td>\n      <td>Armitage</td>\n      <td>Old Town</td>\n    </tr>\n    <tr>\n      <th>7450</th>\n      <td>POINT (-87.65521427917493 41.89607523646576)</td>\n      <td>Blue Line</td>\n      <td>Chicago</td>\n      <td>West Town</td>\n    </tr>\n    <tr>\n      <th>2122</th>\n      <td>POINT (-87.62441474538349 41.72237598330533)</td>\n      <td>Red Line</td>\n      <td>95/Dan Ryan</td>\n      <td>Chatham</td>\n    </tr>\n    <tr>\n      <th>10019</th>\n      <td>POINT (-87.69688979878789 41.92193917056461)</td>\n      <td>Blue Line (O'Hare)</td>\n      <td>California</td>\n      <td>Logan Square</td>\n    </tr>\n    <tr>\n      <th>9356</th>\n      <td>POINT (-87.63930216454519 41.91040917935941)</td>\n      <td>Brown, Purple (Express)</td>\n      <td>Sedgwick</td>\n      <td>Old Town</td>\n    </tr>\n    <tr>\n      <th>4206</th>\n      <td>POINT (-87.61850159987594 41.80209158340622)</td>\n      <td>Green Line</td>\n      <td>51st</td>\n      <td>Grand Boulevard</td>\n    </tr>\n    <tr>\n      <th>4175</th>\n      <td>POINT (-87.61850159987594 41.80209158340622)</td>\n      <td>Green Line</td>\n      <td>51st</td>\n      <td>Grand Boulevard</td>\n    </tr>\n    <tr>\n      <th>12518</th>\n      <td>POINT (-87.80889493503285 41.98232336946857)</td>\n      <td>Blue Line (O'Hare)</td>\n      <td>Harlem</td>\n      <td>Edison Park</td>\n    </tr>\n    <tr>\n      <th>10979</th>\n      <td>POINT (-87.76089227927594 41.97063413718424)</td>\n      <td>Blue Line</td>\n      <td>Jefferson Park</td>\n      <td>Portage Park</td>\n    </tr>\n    <tr>\n      <th>12005</th>\n      <td>POINT (-87.76089227927594 41.97063413718424)</td>\n      <td>Blue Line</td>\n      <td>Jefferson Park</td>\n      <td>Jefferson Park</td>\n    </tr>\n    <tr>\n      <th>10055</th>\n      <td>POINT (-87.7085413860205 41.92972804131357)</td>\n      <td>Blue Line</td>\n      <td>Logan Square</td>\n      <td>Logan Square</td>\n    </tr>\n    <tr>\n      <th>7251</th>\n      <td>POINT (-87.62817635256233 41.89667121189094)</td>\n      <td>Red Line</td>\n      <td>Chicago</td>\n      <td>Streeterville</td>\n    </tr>\n    <tr>\n      <th>7825</th>\n      <td>POINT (-87.62618878473235 41.88322001199881)</td>\n      <td>Brown, Orange, Pink,  Purple (Express), Green</td>\n      <td>Washington/Wabash</td>\n      <td>Loop</td>\n    </tr>\n    <tr>\n      <th>9593</th>\n      <td>POINT (-87.63141229300709 41.90392031189563)</td>\n      <td>Red Line</td>\n      <td>Clark/Division</td>\n      <td>Gold Coast</td>\n    </tr>\n  </tbody>\n</table>\n</div>",
      "text/plain": "                                             coords  \\\n10318   POINT (-87.6528658377562 41.92505136765153)   \n9167   POINT (-87.63141229300709 41.90392031189563)   \n1960   POINT (-87.62441474538349 41.72237598330533)   \n9206   POINT (-87.63141229300709 41.90392031189563)   \n6651   POINT (-87.77413525552275 41.88729278376865)   \n7768   POINT (-87.62802125739587 41.89166520044598)   \n9329   POINT (-87.65264430600405 41.91821656715077)   \n7450   POINT (-87.65521427917493 41.89607523646576)   \n2122   POINT (-87.62441474538349 41.72237598330533)   \n10019  POINT (-87.69688979878789 41.92193917056461)   \n9356   POINT (-87.63930216454519 41.91040917935941)   \n4206   POINT (-87.61850159987594 41.80209158340622)   \n4175   POINT (-87.61850159987594 41.80209158340622)   \n12518  POINT (-87.80889493503285 41.98232336946857)   \n10979  POINT (-87.76089227927594 41.97063413718424)   \n12005  POINT (-87.76089227927594 41.97063413718424)   \n10055   POINT (-87.7085413860205 41.92972804131357)   \n7251   POINT (-87.62817635256233 41.89667121189094)   \n7825   POINT (-87.62618878473235 41.88322001199881)   \n9593   POINT (-87.63141229300709 41.90392031189563)   \n\n                                                line            station  \\\n10318                   Red, Brown, Purple (Express)          Fullerton   \n9167                                        Red Line     Clark/Division   \n1960                                        Red Line        95/Dan Ryan   \n9206                                        Red Line     Clark/Division   \n6651                               Green Line (Lake)             Austin   \n7768                                        Red Line              Grand   \n9329                         Brown, Purple (Express)           Armitage   \n7450                                       Blue Line            Chicago   \n2122                                        Red Line        95/Dan Ryan   \n10019                             Blue Line (O'Hare)         California   \n9356                         Brown, Purple (Express)           Sedgwick   \n4206                                      Green Line               51st   \n4175                                      Green Line               51st   \n12518                             Blue Line (O'Hare)             Harlem   \n10979                                      Blue Line     Jefferson Park   \n12005                                      Blue Line     Jefferson Park   \n10055                                      Blue Line       Logan Square   \n7251                                        Red Line            Chicago   \n7825   Brown, Orange, Pink,  Purple (Express), Green  Washington/Wabash   \n9593                                        Red Line     Clark/Division   \n\n             neighborhood  \n10318        Lincoln Park  \n9167           Gold Coast  \n1960   Washington Heights  \n9206           Gold Coast  \n6651               Austin  \n7768        Streeterville  \n9329             Old Town  \n7450            West Town  \n2122              Chatham  \n10019        Logan Square  \n9356             Old Town  \n4206      Grand Boulevard  \n4175      Grand Boulevard  \n12518         Edison Park  \n10979        Portage Park  \n12005      Jefferson Park  \n10055        Logan Square  \n7251        Streeterville  \n7825                 Loop  \n9593           Gold Coast  "
     },
     "execution_count": 12,
     "metadata": {},
     "output_type": "execute_result"
    }
   ],
   "source": [
    "# Get nearest CTA stations\n",
    "stations_multipoint = MultiPoint(station_points)\n",
    "def get_nearest_station(row):\n",
    "    lon = row['lon']\n",
    "    lat = row['lat']\n",
    "    p = Point(lon, lat)\n",
    "    np = nearest_points(p, MultiPoint(station_points))\n",
    "    # Index 0 is the input point, index 1 is the nearest station\n",
    "    nearest_station = stations[(np[1].x, np[1].y)]\n",
    "    return nearest_station\n",
    "\n",
    "data = pd.concat([data, data.apply(get_nearest_station, axis=1, result_type='expand')], axis=1)\n",
    "\n",
    "data[['coords', 'line', 'station', 'neighborhood']].sample(20)"
   ]
  },
  {
   "cell_type": "code",
   "execution_count": 13,
   "metadata": {},
   "outputs": [
    {
     "data": {
      "text/html": "<div>\n<style scoped>\n    .dataframe tbody tr th:only-of-type {\n        vertical-align: middle;\n    }\n\n    .dataframe tbody tr th {\n        vertical-align: top;\n    }\n\n    .dataframe thead th {\n        text-align: right;\n    }\n</style>\n<table border=\"1\" class=\"dataframe\">\n  <thead>\n    <tr style=\"text-align: right;\">\n      <th></th>\n      <th>lon</th>\n      <th>lat</th>\n      <th>coords</th>\n      <th>stationDistance</th>\n      <th>station</th>\n    </tr>\n  </thead>\n  <tbody>\n    <tr>\n      <th>2383</th>\n      <td>-87.674322</td>\n      <td>41.761691</td>\n      <td>POINT (-87.66384484844021 41.77895340470035)</td>\n      <td>1.732747</td>\n      <td>Ashland</td>\n    </tr>\n    <tr>\n      <th>11630</th>\n      <td>-87.645652</td>\n      <td>41.950426</td>\n      <td>POINT (-87.65362593077103 41.94742799653081)</td>\n      <td>0.617739</td>\n      <td>Addison</td>\n    </tr>\n    <tr>\n      <th>13501</th>\n      <td>-87.683035</td>\n      <td>42.013449</td>\n      <td>POINT (-87.6728924507902 42.01906321923584)</td>\n      <td>0.909521</td>\n      <td>Howard</td>\n    </tr>\n    <tr>\n      <th>7357</th>\n      <td>-87.655811</td>\n      <td>41.882335</td>\n      <td>POINT (-87.65212799206752 41.88557678778864)</td>\n      <td>0.413690</td>\n      <td>Morgan</td>\n    </tr>\n    <tr>\n      <th>8174</th>\n      <td>-87.625121</td>\n      <td>41.899641</td>\n      <td>POINT (-87.62817635256233 41.89667121189094)</td>\n      <td>0.362504</td>\n      <td>Chicago</td>\n    </tr>\n    <tr>\n      <th>10931</th>\n      <td>-87.800746</td>\n      <td>41.951898</td>\n      <td>POINT (-87.80889493503285 41.98232336946857)</td>\n      <td>2.519710</td>\n      <td>Harlem</td>\n    </tr>\n    <tr>\n      <th>7229</th>\n      <td>-87.626931</td>\n      <td>41.889047</td>\n      <td>POINT (-87.62802125739587 41.89166520044598)</td>\n      <td>0.236924</td>\n      <td>Grand</td>\n    </tr>\n    <tr>\n      <th>10187</th>\n      <td>-87.661911</td>\n      <td>41.929841</td>\n      <td>POINT (-87.65313085718887 41.93273150006873)</td>\n      <td>0.652001</td>\n      <td>Diversey</td>\n    </tr>\n    <tr>\n      <th>7835</th>\n      <td>-87.621590</td>\n      <td>41.886560</td>\n      <td>POINT (-87.62618878473235 41.88322001199881)</td>\n      <td>0.467684</td>\n      <td>Washington/Wabash</td>\n    </tr>\n    <tr>\n      <th>10103</th>\n      <td>-87.668546</td>\n      <td>41.928106</td>\n      <td>POINT (-87.67088394357924 41.94370914759255)</td>\n      <td>1.197377</td>\n      <td>Paulina</td>\n    </tr>\n    <tr>\n      <th>5924</th>\n      <td>-87.625240</td>\n      <td>41.863422</td>\n      <td>POINT (-87.62658988700279 41.86740495869866)</td>\n      <td>0.344530</td>\n      <td>Roosevelt</td>\n    </tr>\n    <tr>\n      <th>4700</th>\n      <td>-87.626824</td>\n      <td>41.830239</td>\n      <td>POINT (-87.62588147448886 41.831678020726)</td>\n      <td>0.147966</td>\n      <td>35-Bronzeville-IIT</td>\n    </tr>\n    <tr>\n      <th>7239</th>\n      <td>-87.643801</td>\n      <td>41.887166</td>\n      <td>POINT (-87.64177130414286 41.88570342273843)</td>\n      <td>0.205617</td>\n      <td>Clinton</td>\n    </tr>\n    <tr>\n      <th>11940</th>\n      <td>-87.789552</td>\n      <td>41.970350</td>\n      <td>POINT (-87.80889493503285 41.98232336946857)</td>\n      <td>1.822629</td>\n      <td>Harlem</td>\n    </tr>\n    <tr>\n      <th>1508</th>\n      <td>-87.646103</td>\n      <td>41.705792</td>\n      <td>POINT (-87.62441474538349 41.72237598330533)</td>\n      <td>2.266195</td>\n      <td>95/Dan Ryan</td>\n    </tr>\n    <tr>\n      <th>522</th>\n      <td>-87.631491</td>\n      <td>41.680512</td>\n      <td>POINT (-87.62441474538349 41.72237598330533)</td>\n      <td>3.255316</td>\n      <td>95/Dan Ryan</td>\n    </tr>\n    <tr>\n      <th>4224</th>\n      <td>-87.598973</td>\n      <td>41.804005</td>\n      <td>POINT (-87.61850159987594 41.80209158340622)</td>\n      <td>1.140488</td>\n      <td>51st</td>\n    </tr>\n    <tr>\n      <th>8252</th>\n      <td>-87.623501</td>\n      <td>41.899793</td>\n      <td>POINT (-87.62817635256233 41.89667121189094)</td>\n      <td>0.456524</td>\n      <td>Chicago</td>\n    </tr>\n    <tr>\n      <th>11276</th>\n      <td>-87.678242</td>\n      <td>41.948222</td>\n      <td>POINT (-87.67473610744641 41.94702865443908)</td>\n      <td>0.262995</td>\n      <td>Addison</td>\n    </tr>\n    <tr>\n      <th>3963</th>\n      <td>-87.721599</td>\n      <td>41.810686</td>\n      <td>POINT (-87.72444964277844 41.79988781946131)</td>\n      <td>0.892429</td>\n      <td>Pulaski</td>\n    </tr>\n  </tbody>\n</table>\n</div>",
      "text/plain": "             lon        lat                                        coords  \\\n2383  -87.674322  41.761691  POINT (-87.66384484844021 41.77895340470035)   \n11630 -87.645652  41.950426  POINT (-87.65362593077103 41.94742799653081)   \n13501 -87.683035  42.013449   POINT (-87.6728924507902 42.01906321923584)   \n7357  -87.655811  41.882335  POINT (-87.65212799206752 41.88557678778864)   \n8174  -87.625121  41.899641  POINT (-87.62817635256233 41.89667121189094)   \n10931 -87.800746  41.951898  POINT (-87.80889493503285 41.98232336946857)   \n7229  -87.626931  41.889047  POINT (-87.62802125739587 41.89166520044598)   \n10187 -87.661911  41.929841  POINT (-87.65313085718887 41.93273150006873)   \n7835  -87.621590  41.886560  POINT (-87.62618878473235 41.88322001199881)   \n10103 -87.668546  41.928106  POINT (-87.67088394357924 41.94370914759255)   \n5924  -87.625240  41.863422  POINT (-87.62658988700279 41.86740495869866)   \n4700  -87.626824  41.830239    POINT (-87.62588147448886 41.831678020726)   \n7239  -87.643801  41.887166  POINT (-87.64177130414286 41.88570342273843)   \n11940 -87.789552  41.970350  POINT (-87.80889493503285 41.98232336946857)   \n1508  -87.646103  41.705792  POINT (-87.62441474538349 41.72237598330533)   \n522   -87.631491  41.680512  POINT (-87.62441474538349 41.72237598330533)   \n4224  -87.598973  41.804005  POINT (-87.61850159987594 41.80209158340622)   \n8252  -87.623501  41.899793  POINT (-87.62817635256233 41.89667121189094)   \n11276 -87.678242  41.948222  POINT (-87.67473610744641 41.94702865443908)   \n3963  -87.721599  41.810686  POINT (-87.72444964277844 41.79988781946131)   \n\n       stationDistance             station  \n2383          1.732747             Ashland  \n11630         0.617739             Addison  \n13501         0.909521              Howard  \n7357          0.413690              Morgan  \n8174          0.362504             Chicago  \n10931         2.519710              Harlem  \n7229          0.236924               Grand  \n10187         0.652001            Diversey  \n7835          0.467684   Washington/Wabash  \n10103         1.197377             Paulina  \n5924          0.344530           Roosevelt  \n4700          0.147966  35-Bronzeville-IIT  \n7239          0.205617             Clinton  \n11940         1.822629              Harlem  \n1508          2.266195         95/Dan Ryan  \n522           3.255316         95/Dan Ryan  \n4224          1.140488                51st  \n8252          0.456524             Chicago  \n11276         0.262995             Addison  \n3963          0.892429             Pulaski  "
     },
     "execution_count": 13,
     "metadata": {},
     "output_type": "execute_result"
    }
   ],
   "source": [
    "def manhattan_distance(row):\n",
    "    home_lon = row['lon']\n",
    "    home_lat = row['lat']\n",
    "    station_lon = row['coords'].x\n",
    "    station_lat = row['coords'].y\n",
    "\n",
    "    # Calculate Haversine distance (https://en.wikipedia.org/wiki/Haversine_formula) \n",
    "    # using Manhattan distance (https://xlinux.nist.gov/dads/HTML/manhattanDistance.html)\n",
    "    return distance.distance((home_lat, home_lon), (station_lat, home_lon)).miles + \\\n",
    "        distance.distance((home_lat, home_lon), (home_lat, station_lon)).miles\n",
    "\n",
    "data['stationDistance'] = data.apply(manhattan_distance, axis=1)\n",
    "data[['lon', 'lat', 'coords', 'stationDistance', 'station']].sample(20)"
   ]
  },
  {
   "cell_type": "code",
   "execution_count": 14,
   "metadata": {},
   "outputs": [],
   "source": [
    "# Turn neighborhood and home type data into numeric form\n",
    "data = pd.concat([data, pd.get_dummies(data['neighborhood'], drop_first=True)], axis=1)\n",
    "data = pd.concat([data, pd.get_dummies(data['homeType'], drop_first=True)], axis=1)"
   ]
  },
  {
   "cell_type": "code",
   "execution_count": 15,
   "metadata": {},
   "outputs": [],
   "source": [
    "# save cleaned data\n",
    "data.to_csv('results-11-30-2019-cleaned.csv')"
   ]
  },
  {
   "cell_type": "code",
   "execution_count": null,
   "metadata": {},
   "outputs": [],
   "source": []
  }
 ]
}