{
 "nbformat": 4,
 "nbformat_minor": 2,
 "metadata": {
  "language_info": {
   "name": "python",
   "codemirror_mode": {
    "name": "ipython",
    "version": 3
   }
  },
  "orig_nbformat": 2,
  "file_extension": ".py",
  "mimetype": "text/x-python",
  "name": "python",
  "npconvert_exporter": "python",
  "pygments_lexer": "ipython3",
  "version": 3
 },
 "cells": [
  {
   "cell_type": "code",
   "execution_count": 57,
   "metadata": {},
   "outputs": [],
   "source": [
    "import pandas as pd\n",
    "import json\n",
    "from geopy import distance\n",
    "from math import sin, cos, sqrt, atan2\n",
    "from pandas.io.json import json_normalize\n",
    "from shapely.geometry import shape, Point, MultiPoint\n",
    "from shapely.ops import nearest_points"
   ]
  },
  {
   "cell_type": "code",
   "execution_count": 58,
   "metadata": {},
   "outputs": [],
   "source": [
    "with open('./results-7-31-2019.json') as f:\n",
    "    # flatten json structures\n",
    "    data = json_normalize(json.load(f))\n",
    "    # Remove non-Chicago entries\n",
    "    data = data[data['address'].str.contains('Chicago, IL')]"
   ]
  },
  {
   "cell_type": "code",
   "execution_count": 59,
   "metadata": {},
   "outputs": [],
   "source": [
    "with open('./CTA_RailStations.geojson') as f:\n",
    "    stations_geo = json.load(f)"
   ]
  },
  {
   "cell_type": "code",
   "execution_count": 60,
   "metadata": {},
   "outputs": [],
   "source": [
    "with open('./chicago_neighborhoods.geojson') as f:\n",
    "    neighborhoods_geo = json.load(f)"
   ]
  },
  {
   "cell_type": "code",
   "execution_count": 61,
   "metadata": {},
   "outputs": [],
   "source": [
    "# Make the neighborhood json easier to work with\n",
    "neighborhood_polygons = [{'geometry': shape(feature['geometry']), 'properties': feature['properties']} for feature in neighborhoods_geo['features']]"
   ]
  },
  {
   "cell_type": "code",
   "execution_count": 62,
   "metadata": {},
   "outputs": [],
   "source": [
    "def get_neighborhood(row):\n",
    "    lon = row['hdpData.homeInfo.longitude']\n",
    "    lat = row['hdpData.homeInfo.latitude']\n",
    "    hoods = [polygon['properties']['pri_neigh'] for polygon in neighborhood_polygons if polygon['geometry'].contains(Point(lon, lat))]\n",
    "    return hoods[0] if len(hoods) > 0 else None\n",
    "\n",
    "# Add neighborhoods to entries\n",
    "data['neighborhood'] = data.apply(get_neighborhood, axis=1)"
   ]
  },
  {
   "cell_type": "code",
   "execution_count": 63,
   "metadata": {},
   "outputs": [
    {
     "data": {
      "text/html": "<div>\n<style scoped>\n    .dataframe tbody tr th:only-of-type {\n        vertical-align: middle;\n    }\n\n    .dataframe tbody tr th {\n        vertical-align: top;\n    }\n\n    .dataframe thead th {\n        text-align: right;\n    }\n</style>\n<table border=\"1\" class=\"dataframe\">\n  <thead>\n    <tr style=\"text-align: right;\">\n      <th></th>\n      <th>address</th>\n      <th>neighborhood</th>\n    </tr>\n  </thead>\n  <tbody>\n    <tr>\n      <th>1983</th>\n      <td>549 E 91st St, Chicago, IL</td>\n      <td>Chatham</td>\n    </tr>\n    <tr>\n      <th>8623</th>\n      <td>1943 N Hudson Ave UNIT A, Chicago, IL</td>\n      <td>Old Town</td>\n    </tr>\n    <tr>\n      <th>6520</th>\n      <td>4826 W Hubbard St, Chicago, IL</td>\n      <td>Austin</td>\n    </tr>\n    <tr>\n      <th>3956</th>\n      <td>4800 S Chicago Beach Dr APT 611N, Chicago, IL</td>\n      <td>Kenwood</td>\n    </tr>\n    <tr>\n      <th>10743</th>\n      <td>2051 W Grace St, Chicago, IL</td>\n      <td>North Center</td>\n    </tr>\n    <tr>\n      <th>5390</th>\n      <td>4818 W Gladys Ave, Chicago, IL</td>\n      <td>Austin</td>\n    </tr>\n    <tr>\n      <th>418</th>\n      <td>11835 S Lafayette Ave, Chicago, IL</td>\n      <td>West Pullman</td>\n    </tr>\n    <tr>\n      <th>11515</th>\n      <td>5319 N Virginia Ave APT 2N, Chicago, IL</td>\n      <td>Lincoln Square</td>\n    </tr>\n    <tr>\n      <th>5498</th>\n      <td>1255 S Millard Ave, Chicago, IL</td>\n      <td>North Lawndale</td>\n    </tr>\n    <tr>\n      <th>4394</th>\n      <td>3309 S Michigan Ave # 1, Chicago, IL</td>\n      <td>Douglas</td>\n    </tr>\n    <tr>\n      <th>10517</th>\n      <td>4142 N Troy St, Chicago, IL</td>\n      <td>Irving Park</td>\n    </tr>\n    <tr>\n      <th>2873</th>\n      <td>6901 S Parnell Ave, Chicago, IL</td>\n      <td>Englewood</td>\n    </tr>\n    <tr>\n      <th>1827</th>\n      <td>8628 S Marshfield Ave, Chicago, IL</td>\n      <td>Auburn Gresham</td>\n    </tr>\n    <tr>\n      <th>7553</th>\n      <td>111 E Chestnut St APT 23C, Chicago, IL</td>\n      <td>Streeterville</td>\n    </tr>\n    <tr>\n      <th>12629</th>\n      <td>7166 N Ozark Ave, Chicago, IL</td>\n      <td>Edison Park</td>\n    </tr>\n    <tr>\n      <th>10176</th>\n      <td>519 W Surf St # 3, Chicago, IL</td>\n      <td>Lake View</td>\n    </tr>\n    <tr>\n      <th>11483</th>\n      <td>4711 N Lawndale Ave APT 1W, Chicago, IL</td>\n      <td>Albany Park</td>\n    </tr>\n    <tr>\n      <th>4818</th>\n      <td>2601 W Luther St, Chicago, IL</td>\n      <td>Little Village</td>\n    </tr>\n    <tr>\n      <th>8785</th>\n      <td>1520 N Dearborn Pkwy, Chicago, IL</td>\n      <td>Gold Coast</td>\n    </tr>\n    <tr>\n      <th>12859</th>\n      <td>6832 N Lakewood Ave APT G, Chicago, IL</td>\n      <td>Rogers Park</td>\n    </tr>\n  </tbody>\n</table>\n</div>",
      "text/plain": "                                             address    neighborhood\n1983                      549 E 91st St, Chicago, IL         Chatham\n8623           1943 N Hudson Ave UNIT A, Chicago, IL        Old Town\n6520                  4826 W Hubbard St, Chicago, IL          Austin\n3956   4800 S Chicago Beach Dr APT 611N, Chicago, IL         Kenwood\n10743                   2051 W Grace St, Chicago, IL    North Center\n5390                  4818 W Gladys Ave, Chicago, IL          Austin\n418               11835 S Lafayette Ave, Chicago, IL    West Pullman\n11515        5319 N Virginia Ave APT 2N, Chicago, IL  Lincoln Square\n5498                 1255 S Millard Ave, Chicago, IL  North Lawndale\n4394            3309 S Michigan Ave # 1, Chicago, IL         Douglas\n10517                    4142 N Troy St, Chicago, IL     Irving Park\n2873                 6901 S Parnell Ave, Chicago, IL       Englewood\n1827              8628 S Marshfield Ave, Chicago, IL  Auburn Gresham\n7553          111 E Chestnut St APT 23C, Chicago, IL   Streeterville\n12629                  7166 N Ozark Ave, Chicago, IL     Edison Park\n10176                 519 W Surf St # 3, Chicago, IL       Lake View\n11483        4711 N Lawndale Ave APT 1W, Chicago, IL     Albany Park\n4818                   2601 W Luther St, Chicago, IL  Little Village\n8785               1520 N Dearborn Pkwy, Chicago, IL      Gold Coast\n12859         6832 N Lakewood Ave APT G, Chicago, IL     Rogers Park"
     },
     "execution_count": 63,
     "metadata": {},
     "output_type": "execute_result"
    }
   ],
   "source": [
    "# Remove anything not in a neighborhood (probably incorrectly labeled as being in Chicago)\n",
    "data = data[data['neighborhood'].notnull()]\n",
    "data[['address', 'neighborhood']].sample(20)"
   ]
  },
  {
   "cell_type": "code",
   "execution_count": 64,
   "metadata": {},
   "outputs": [],
   "source": [
    "def make_point(point):\n",
    "    lon = point['geometry']['coordinates'][0]\n",
    "    lat = point['geometry']['coordinates'][1]\n",
    "    return (lon, lat), {\n",
    "            'coords': Point(lon, lat),\n",
    "            'line': point['properties']['LINES'],\n",
    "            'station': point['properties']['Name']\n",
    "        }\n",
    "        \n",
    "\n",
    "stations = {make_point(point)[0]: make_point(point)[1] for point in stations_geo['features']}\n",
    "station_points = [station['coords'] for station in stations.values()]"
   ]
  },
  {
   "cell_type": "code",
   "execution_count": 65,
   "metadata": {},
   "outputs": [
    {
     "data": {
      "text/html": "<div>\n<style scoped>\n    .dataframe tbody tr th:only-of-type {\n        vertical-align: middle;\n    }\n\n    .dataframe tbody tr th {\n        vertical-align: top;\n    }\n\n    .dataframe thead th {\n        text-align: right;\n    }\n</style>\n<table border=\"1\" class=\"dataframe\">\n  <thead>\n    <tr style=\"text-align: right;\">\n      <th></th>\n      <th>coords</th>\n      <th>line</th>\n      <th>station</th>\n      <th>neighborhood</th>\n      <th>address</th>\n    </tr>\n  </thead>\n  <tbody>\n    <tr>\n      <th>3955</th>\n      <td>POINT (-87.60585741747852 41.78030876683156)</td>\n      <td>Green Line</td>\n      <td>Cottage Grove</td>\n      <td>Kenwood</td>\n      <td>(undisclosed Address), Chicago, IL</td>\n    </tr>\n    <tr>\n      <th>9294</th>\n      <td>POINT (-87.72917726558204 41.95294026078555)</td>\n      <td>Blue Line</td>\n      <td>Irving Park</td>\n      <td>Belmont Cragin</td>\n      <td>5101 W Montana St APT 3, Chicago, IL</td>\n    </tr>\n    <tr>\n      <th>11751</th>\n      <td>POINT (-87.69411112481461 41.96620994853978)</td>\n      <td>Brown Line</td>\n      <td>Rockwell</td>\n      <td>Lincoln Square</td>\n      <td>2652 W Rascher Ave APT 105, Chicago, IL</td>\n    </tr>\n    <tr>\n      <th>7985</th>\n      <td>POINT (-87.77413525552275 41.88729278376865)</td>\n      <td>Green Line (Lake)</td>\n      <td>Austin</td>\n      <td>Austin</td>\n      <td>1455 N Mayfield Ave, Chicago, IL</td>\n    </tr>\n    <tr>\n      <th>1857</th>\n      <td>POINT (-87.62475307324942 41.73537121043779)</td>\n      <td>Red Line</td>\n      <td>87th</td>\n      <td>Auburn Gresham</td>\n      <td>8550 S Normal Ave, Chicago, IL</td>\n    </tr>\n    <tr>\n      <th>1938</th>\n      <td>POINT (-87.62441474538349 41.72237598330533)</td>\n      <td>Red Line</td>\n      <td>95/Dan Ryan</td>\n      <td>Calumet Heights</td>\n      <td>9125 S Harper Ave, Chicago, IL</td>\n    </tr>\n    <tr>\n      <th>4944</th>\n      <td>POINT (-87.62640238492894 41.85311508247467)</td>\n      <td>Green Line</td>\n      <td>Cermak-McCormick Pl</td>\n      <td>Near South Side</td>\n      <td>1802 S State St # 206, Chicago, IL</td>\n    </tr>\n    <tr>\n      <th>4874</th>\n      <td>POINT (-87.62640238492894 41.85311508247467)</td>\n      <td>Green Line</td>\n      <td>Cermak-McCormick Pl</td>\n      <td>Near South Side</td>\n      <td>1601 S Indiana Ave APT 110, Chicago, IL</td>\n    </tr>\n    <tr>\n      <th>7549</th>\n      <td>POINT (-87.62802125739587 41.89166520044598)</td>\n      <td>Red Line</td>\n      <td>Grand</td>\n      <td>Streeterville</td>\n      <td>600 N Fairbanks Ct UNIT 2205, Chicago, IL</td>\n    </tr>\n    <tr>\n      <th>12785</th>\n      <td>POINT (-87.6728924507902 42.01906321923584)</td>\n      <td>Red, Yellow, Purple, Evanston Express</td>\n      <td>Howard</td>\n      <td>West Ridge</td>\n      <td>2938 W Pratt Blvd, Chicago, IL</td>\n    </tr>\n    <tr>\n      <th>2759</th>\n      <td>POINT (-87.66384484844021 41.77895340470035)</td>\n      <td>Green Line (Englewood)</td>\n      <td>Ashland</td>\n      <td>Englewood</td>\n      <td>6949 S Throop St, Chicago, IL</td>\n    </tr>\n    <tr>\n      <th>3546</th>\n      <td>POINT (-87.60585741747852 41.78030876683156)</td>\n      <td>Green Line</td>\n      <td>Cottage Grove</td>\n      <td>Hyde Park</td>\n      <td>5456 S Cornell Ave APT 3E, Chicago, IL</td>\n    </tr>\n    <tr>\n      <th>506</th>\n      <td>POINT (-87.62441474538349 41.72237598330533)</td>\n      <td>Red Line</td>\n      <td>95/Dan Ryan</td>\n      <td>West Pullman</td>\n      <td>12043 S Wentworth Ave, Chicago, IL</td>\n    </tr>\n    <tr>\n      <th>2151</th>\n      <td>POINT (-87.73795637168769 41.78661355009723)</td>\n      <td>Orange Line</td>\n      <td>Midway</td>\n      <td>Ashburn</td>\n      <td>4301 W 81st St, Chicago, IL</td>\n    </tr>\n    <tr>\n      <th>5600</th>\n      <td>POINT (-87.66695093661281 41.88531139464179)</td>\n      <td>Green (Lake), Pink</td>\n      <td>Ashland</td>\n      <td>United Center</td>\n      <td>1645 W Ogden Ave UNIT 315, Chicago, IL</td>\n    </tr>\n    <tr>\n      <th>4335</th>\n      <td>POINT (-87.68058736862578 41.8295600871101)</td>\n      <td>Orange Line</td>\n      <td>35th/Archer</td>\n      <td>Mckinley Park</td>\n      <td>3556 S Seeley Ave UNIT 203, Chicago, IL</td>\n    </tr>\n    <tr>\n      <th>7633</th>\n      <td>POINT (-87.62802125739587 41.89166520044598)</td>\n      <td>Red Line</td>\n      <td>Grand</td>\n      <td>Streeterville</td>\n      <td>474 N Lake Shore Dr APT 5301, Chicago, IL</td>\n    </tr>\n    <tr>\n      <th>11139</th>\n      <td>POINT (-87.67495574333226 41.95452313859697)</td>\n      <td>Brown Line</td>\n      <td>Irving Park</td>\n      <td>Lake View</td>\n      <td>1434 W Irving Park Rd, Chicago, IL</td>\n    </tr>\n    <tr>\n      <th>510</th>\n      <td>POINT (-87.62441474538349 41.72237598330533)</td>\n      <td>Red Line</td>\n      <td>95/Dan Ryan</td>\n      <td>West Pullman</td>\n      <td>11845 S Perry Ave, Chicago, IL</td>\n    </tr>\n    <tr>\n      <th>11866</th>\n      <td>POINT (-87.65852996352429 41.97345332194149)</td>\n      <td>Red Line</td>\n      <td>Argyle</td>\n      <td>Uptown</td>\n      <td>1223 W Winona St, Chicago, IL</td>\n    </tr>\n  </tbody>\n</table>\n</div>",
      "text/plain": "                                             coords  \\\n3955   POINT (-87.60585741747852 41.78030876683156)   \n9294   POINT (-87.72917726558204 41.95294026078555)   \n11751  POINT (-87.69411112481461 41.96620994853978)   \n7985   POINT (-87.77413525552275 41.88729278376865)   \n1857   POINT (-87.62475307324942 41.73537121043779)   \n1938   POINT (-87.62441474538349 41.72237598330533)   \n4944   POINT (-87.62640238492894 41.85311508247467)   \n4874   POINT (-87.62640238492894 41.85311508247467)   \n7549   POINT (-87.62802125739587 41.89166520044598)   \n12785   POINT (-87.6728924507902 42.01906321923584)   \n2759   POINT (-87.66384484844021 41.77895340470035)   \n3546   POINT (-87.60585741747852 41.78030876683156)   \n506    POINT (-87.62441474538349 41.72237598330533)   \n2151   POINT (-87.73795637168769 41.78661355009723)   \n5600   POINT (-87.66695093661281 41.88531139464179)   \n4335    POINT (-87.68058736862578 41.8295600871101)   \n7633   POINT (-87.62802125739587 41.89166520044598)   \n11139  POINT (-87.67495574333226 41.95452313859697)   \n510    POINT (-87.62441474538349 41.72237598330533)   \n11866  POINT (-87.65852996352429 41.97345332194149)   \n\n                                        line              station  \\\n3955                              Green Line        Cottage Grove   \n9294                               Blue Line          Irving Park   \n11751                             Brown Line             Rockwell   \n7985                       Green Line (Lake)               Austin   \n1857                                Red Line                 87th   \n1938                                Red Line          95/Dan Ryan   \n4944                              Green Line  Cermak-McCormick Pl   \n4874                              Green Line  Cermak-McCormick Pl   \n7549                                Red Line                Grand   \n12785  Red, Yellow, Purple, Evanston Express               Howard   \n2759                  Green Line (Englewood)              Ashland   \n3546                              Green Line        Cottage Grove   \n506                                 Red Line          95/Dan Ryan   \n2151                             Orange Line               Midway   \n5600                      Green (Lake), Pink              Ashland   \n4335                             Orange Line          35th/Archer   \n7633                                Red Line                Grand   \n11139                             Brown Line          Irving Park   \n510                                 Red Line          95/Dan Ryan   \n11866                               Red Line               Argyle   \n\n          neighborhood                                    address  \n3955           Kenwood         (undisclosed Address), Chicago, IL  \n9294    Belmont Cragin       5101 W Montana St APT 3, Chicago, IL  \n11751   Lincoln Square    2652 W Rascher Ave APT 105, Chicago, IL  \n7985            Austin           1455 N Mayfield Ave, Chicago, IL  \n1857    Auburn Gresham             8550 S Normal Ave, Chicago, IL  \n1938   Calumet Heights             9125 S Harper Ave, Chicago, IL  \n4944   Near South Side         1802 S State St # 206, Chicago, IL  \n4874   Near South Side    1601 S Indiana Ave APT 110, Chicago, IL  \n7549     Streeterville  600 N Fairbanks Ct UNIT 2205, Chicago, IL  \n12785       West Ridge             2938 W Pratt Blvd, Chicago, IL  \n2759         Englewood              6949 S Throop St, Chicago, IL  \n3546         Hyde Park     5456 S Cornell Ave APT 3E, Chicago, IL  \n506       West Pullman         12043 S Wentworth Ave, Chicago, IL  \n2151           Ashburn                4301 W 81st St, Chicago, IL  \n5600     United Center     1645 W Ogden Ave UNIT 315, Chicago, IL  \n4335     Mckinley Park    3556 S Seeley Ave UNIT 203, Chicago, IL  \n7633     Streeterville  474 N Lake Shore Dr APT 5301, Chicago, IL  \n11139        Lake View         1434 W Irving Park Rd, Chicago, IL  \n510       West Pullman             11845 S Perry Ave, Chicago, IL  \n11866           Uptown              1223 W Winona St, Chicago, IL  "
     },
     "execution_count": 65,
     "metadata": {},
     "output_type": "execute_result"
    }
   ],
   "source": [
    "# Get nearest CTA stations\n",
    "stations_multipoint = MultiPoint(station_points)\n",
    "def get_nearest_station(row):\n",
    "    lon = row['hdpData.homeInfo.longitude']\n",
    "    lat = row['hdpData.homeInfo.latitude']\n",
    "    p = Point(lon, lat)\n",
    "    np = nearest_points(p, MultiPoint(station_points))\n",
    "    # Index 0 is the input point, index 1 is the nearest station\n",
    "    nearest_station = stations[(np[1].x, np[1].y)]\n",
    "    return nearest_station\n",
    "\n",
    "data = pd.concat([data, data.apply(get_nearest_station, axis=1, result_type='expand')], axis=1)\n",
    "\n",
    "data[['coords', 'line', 'station', 'neighborhood', 'address']].sample(20)"
   ]
  },
  {
   "cell_type": "code",
   "execution_count": 78,
   "metadata": {},
   "outputs": [
    {
     "data": {
      "text/html": "<div>\n<style scoped>\n    .dataframe tbody tr th:only-of-type {\n        vertical-align: middle;\n    }\n\n    .dataframe tbody tr th {\n        vertical-align: top;\n    }\n\n    .dataframe thead th {\n        text-align: right;\n    }\n</style>\n<table border=\"1\" class=\"dataframe\">\n  <thead>\n    <tr style=\"text-align: right;\">\n      <th></th>\n      <th>hdpData.homeInfo.longitude</th>\n      <th>hdpData.homeInfo.latitude</th>\n      <th>coords</th>\n      <th>stationDistance</th>\n      <th>station</th>\n    </tr>\n  </thead>\n  <tbody>\n    <tr>\n      <th>2444</th>\n      <td>-87.601173</td>\n      <td>41.750467</td>\n      <td>POINT (-87.62517835384935 41.75041234179246)</td>\n      <td>1.244410</td>\n      <td>79th</td>\n    </tr>\n    <tr>\n      <th>12497</th>\n      <td>-87.654696</td>\n      <td>41.988733</td>\n      <td>POINT (-87.6590758588342 41.99025949308111)</td>\n      <td>0.330875</td>\n      <td>Thorndale</td>\n    </tr>\n    <tr>\n      <th>7480</th>\n      <td>-87.615929</td>\n      <td>41.886201</td>\n      <td>POINT (-87.62618878473235 41.88322001199881)</td>\n      <td>0.734862</td>\n      <td>Washington/Wabash</td>\n    </tr>\n    <tr>\n      <th>8900</th>\n      <td>-87.626568</td>\n      <td>41.909015</td>\n      <td>POINT (-87.63141229300709 41.90392031189563)</td>\n      <td>0.601362</td>\n      <td>Clark/Division</td>\n    </tr>\n    <tr>\n      <th>3874</th>\n      <td>-87.615893</td>\n      <td>41.807086</td>\n      <td>POINT (-87.61882612858351 41.8092088340794)</td>\n      <td>0.297964</td>\n      <td>47th</td>\n    </tr>\n    <tr>\n      <th>12242</th>\n      <td>-87.703566</td>\n      <td>41.996211</td>\n      <td>POINT (-87.71314203532829 41.96792815058559)</td>\n      <td>2.445026</td>\n      <td>Kimball</td>\n    </tr>\n    <tr>\n      <th>10748</th>\n      <td>-87.666725</td>\n      <td>41.945454</td>\n      <td>POINT (-87.66360955994172 41.94381225523734)</td>\n      <td>0.273832</td>\n      <td>Southport</td>\n    </tr>\n    <tr>\n      <th>7251</th>\n      <td>-87.634754</td>\n      <td>41.883629</td>\n      <td>POINT (-87.63385352993139 41.88269501756125)</td>\n      <td>0.110902</td>\n      <td>Washington/Wells</td>\n    </tr>\n    <tr>\n      <th>2816</th>\n      <td>-87.659395</td>\n      <td>41.767895</td>\n      <td>POINT (-87.66384484844021 41.77895340470035)</td>\n      <td>0.993109</td>\n      <td>Ashland</td>\n    </tr>\n    <tr>\n      <th>8800</th>\n      <td>-87.652251</td>\n      <td>41.915025</td>\n      <td>POINT (-87.65264430600405 41.91821656715077)</td>\n      <td>0.240546</td>\n      <td>Armitage</td>\n    </tr>\n    <tr>\n      <th>8625</th>\n      <td>-87.642159</td>\n      <td>41.918441</td>\n      <td>POINT (-87.63930216454519 41.91040917935941)</td>\n      <td>0.701590</td>\n      <td>Sedgwick</td>\n    </tr>\n    <tr>\n      <th>3225</th>\n      <td>-87.733570</td>\n      <td>41.793010</td>\n      <td>POINT (-87.73795637168769 41.78661355009723)</td>\n      <td>0.667998</td>\n      <td>Midway</td>\n    </tr>\n    <tr>\n      <th>2153</th>\n      <td>-87.719863</td>\n      <td>41.754043</td>\n      <td>POINT (-87.73795637168769 41.78661355009723)</td>\n      <td>3.182900</td>\n      <td>Midway</td>\n    </tr>\n    <tr>\n      <th>896</th>\n      <td>-87.627208</td>\n      <td>41.698949</td>\n      <td>POINT (-87.62441474538349 41.72237598330533)</td>\n      <td>1.761271</td>\n      <td>95/Dan Ryan</td>\n    </tr>\n    <tr>\n      <th>11604</th>\n      <td>-87.683808</td>\n      <td>41.971868</td>\n      <td>POINT (-87.68850260590037 41.96625004727976)</td>\n      <td>0.629526</td>\n      <td>Western</td>\n    </tr>\n    <tr>\n      <th>10521</th>\n      <td>-87.730316</td>\n      <td>41.951533</td>\n      <td>POINT (-87.72917726558204 41.95294026078555)</td>\n      <td>0.155793</td>\n      <td>Irving Park</td>\n    </tr>\n    <tr>\n      <th>5830</th>\n      <td>-87.643548</td>\n      <td>41.877113</td>\n      <td>POINT (-87.64098421671696 41.87553890406132)</td>\n      <td>0.240878</td>\n      <td>Clinton</td>\n    </tr>\n    <tr>\n      <th>4846</th>\n      <td>-87.650112</td>\n      <td>41.855522</td>\n      <td>POINT (-87.64813110426745 41.84690143993671)</td>\n      <td>0.697165</td>\n      <td>Halsted</td>\n    </tr>\n    <tr>\n      <th>7888</th>\n      <td>-87.795337</td>\n      <td>41.915372</td>\n      <td>POINT (-87.79378335175879 41.88698752067567)</td>\n      <td>2.039088</td>\n      <td>Oak Park</td>\n    </tr>\n    <tr>\n      <th>3928</th>\n      <td>-87.597882</td>\n      <td>41.804501</td>\n      <td>POINT (-87.61850159987594 41.80209158340622)</td>\n      <td>1.231049</td>\n      <td>51st</td>\n    </tr>\n  </tbody>\n</table>\n</div>",
      "text/plain": "       hdpData.homeInfo.longitude  hdpData.homeInfo.latitude  \\\n2444                   -87.601173                  41.750467   \n12497                  -87.654696                  41.988733   \n7480                   -87.615929                  41.886201   \n8900                   -87.626568                  41.909015   \n3874                   -87.615893                  41.807086   \n12242                  -87.703566                  41.996211   \n10748                  -87.666725                  41.945454   \n7251                   -87.634754                  41.883629   \n2816                   -87.659395                  41.767895   \n8800                   -87.652251                  41.915025   \n8625                   -87.642159                  41.918441   \n3225                   -87.733570                  41.793010   \n2153                   -87.719863                  41.754043   \n896                    -87.627208                  41.698949   \n11604                  -87.683808                  41.971868   \n10521                  -87.730316                  41.951533   \n5830                   -87.643548                  41.877113   \n4846                   -87.650112                  41.855522   \n7888                   -87.795337                  41.915372   \n3928                   -87.597882                  41.804501   \n\n                                             coords  stationDistance  \\\n2444   POINT (-87.62517835384935 41.75041234179246)         1.244410   \n12497   POINT (-87.6590758588342 41.99025949308111)         0.330875   \n7480   POINT (-87.62618878473235 41.88322001199881)         0.734862   \n8900   POINT (-87.63141229300709 41.90392031189563)         0.601362   \n3874    POINT (-87.61882612858351 41.8092088340794)         0.297964   \n12242  POINT (-87.71314203532829 41.96792815058559)         2.445026   \n10748  POINT (-87.66360955994172 41.94381225523734)         0.273832   \n7251   POINT (-87.63385352993139 41.88269501756125)         0.110902   \n2816   POINT (-87.66384484844021 41.77895340470035)         0.993109   \n8800   POINT (-87.65264430600405 41.91821656715077)         0.240546   \n8625   POINT (-87.63930216454519 41.91040917935941)         0.701590   \n3225   POINT (-87.73795637168769 41.78661355009723)         0.667998   \n2153   POINT (-87.73795637168769 41.78661355009723)         3.182900   \n896    POINT (-87.62441474538349 41.72237598330533)         1.761271   \n11604  POINT (-87.68850260590037 41.96625004727976)         0.629526   \n10521  POINT (-87.72917726558204 41.95294026078555)         0.155793   \n5830   POINT (-87.64098421671696 41.87553890406132)         0.240878   \n4846   POINT (-87.64813110426745 41.84690143993671)         0.697165   \n7888   POINT (-87.79378335175879 41.88698752067567)         2.039088   \n3928   POINT (-87.61850159987594 41.80209158340622)         1.231049   \n\n                 station  \n2444                79th  \n12497          Thorndale  \n7480   Washington/Wabash  \n8900      Clark/Division  \n3874                47th  \n12242            Kimball  \n10748          Southport  \n7251    Washington/Wells  \n2816             Ashland  \n8800            Armitage  \n8625            Sedgwick  \n3225              Midway  \n2153              Midway  \n896          95/Dan Ryan  \n11604            Western  \n10521        Irving Park  \n5830             Clinton  \n4846             Halsted  \n7888            Oak Park  \n3928                51st  "
     },
     "execution_count": 78,
     "metadata": {},
     "output_type": "execute_result"
    }
   ],
   "source": [
    "def manhattan_distance(row):\n",
    "    home_lon = row['hdpData.homeInfo.longitude']\n",
    "    home_lat = row['hdpData.homeInfo.latitude']\n",
    "    station_lon = row['coords'].x\n",
    "    station_lat = row['coords'].y\n",
    "\n",
    "    # Calculate Haversine distance (https://en.wikipedia.org/wiki/Haversine_formula) \n",
    "    # using Manhattan distance (https://xlinux.nist.gov/dads/HTML/manhattanDistance.html)\n",
    "    return distance.distance((home_lat, home_lon), (station_lat, home_lon)).miles + \\\n",
    "        distance.distance((home_lat, home_lon), (home_lat, station_lon)).miles\n",
    "\n",
    "data['stationDistance'] = data.apply(manhattan_distance, axis=1)\n",
    "data[['hdpData.homeInfo.longitude', 'hdpData.homeInfo.latitude', 'coords', 'stationDistance', 'station']].sample(20)"
   ]
  },
  {
   "cell_type": "code",
   "execution_count": 79,
   "metadata": {},
   "outputs": [],
   "source": [
    "# save cleaned data\n",
    "data.to_csv('results-7-31-2019-cleaned.csv')"
   ]
  },
  {
   "cell_type": "code",
   "execution_count": null,
   "metadata": {},
   "outputs": [],
   "source": []
  }
 ]
}