{
 "nbformat": 4,
 "nbformat_minor": 2,
 "metadata": {
  "language_info": {
   "name": "python",
   "codemirror_mode": {
    "name": "ipython",
    "version": 3
   }
  },
  "orig_nbformat": 2,
  "file_extension": ".py",
  "mimetype": "text/x-python",
  "name": "python",
  "npconvert_exporter": "python",
  "pygments_lexer": "ipython3",
  "version": 3
 },
 "cells": [
  {
   "cell_type": "code",
   "execution_count": 77,
   "metadata": {},
   "outputs": [],
   "source": [
    "import pandas as pd\n",
    "import json\n",
    "from geopy import distance\n",
    "from math import sin, cos, sqrt, atan2\n",
    "from pandas.io.json import json_normalize\n",
    "from shapely.geometry import shape, Point, MultiPoint\n",
    "from shapely.ops import nearest_points"
   ]
  },
  {
   "cell_type": "code",
   "execution_count": 78,
   "metadata": {},
   "outputs": [],
   "source": [
    "with open('./results-7-31-2019.json') as f:\n",
    "    # flatten json structures\n",
    "    data = json_normalize(json.load(f))\n",
    "    # Remove non-Chicago entries\n",
    "    data = data[data['address'].str.contains('Chicago, IL')]"
   ]
  },
  {
   "cell_type": "code",
   "execution_count": 79,
   "metadata": {},
   "outputs": [],
   "source": [
    "data = data.rename(columns={'hdpData.homeInfo.longitude': 'lon', 'hdpData.homeInfo.latitude': 'lat'}, errors='raise')"
   ]
  },
  {
   "cell_type": "code",
   "execution_count": 80,
   "metadata": {},
   "outputs": [],
   "source": [
    "with open('./CTA_RailStations.geojson') as f:\n",
    "    stations_geo = json.load(f)"
   ]
  },
  {
   "cell_type": "code",
   "execution_count": 81,
   "metadata": {},
   "outputs": [],
   "source": [
    "with open('./chicago_neighborhoods.geojson') as f:\n",
    "    neighborhoods_geo = json.load(f)"
   ]
  },
  {
   "cell_type": "code",
   "execution_count": 82,
   "metadata": {},
   "outputs": [],
   "source": [
    "# Make the neighborhood json easier to work with\n",
    "neighborhood_polygons = [{'geometry': shape(feature['geometry']), 'properties': feature['properties']} for feature in neighborhoods_geo['features']]"
   ]
  },
  {
   "cell_type": "code",
   "execution_count": 83,
   "metadata": {},
   "outputs": [],
   "source": [
    "def get_neighborhood(row):\n",
    "    lon = row['lon']\n",
    "    lat = row['lat']\n",
    "    hoods = [polygon['properties']['pri_neigh'] for polygon in neighborhood_polygons if polygon['geometry'].contains(Point(lon, lat))]\n",
    "    return hoods[0] if len(hoods) > 0 else None\n",
    "\n",
    "# Add neighborhoods to entries\n",
    "data['neighborhood'] = data.apply(get_neighborhood, axis=1)"
   ]
  },
  {
   "cell_type": "code",
   "execution_count": 84,
   "metadata": {},
   "outputs": [
    {
     "data": {
      "text/html": "<div>\n<style scoped>\n    .dataframe tbody tr th:only-of-type {\n        vertical-align: middle;\n    }\n\n    .dataframe tbody tr th {\n        vertical-align: top;\n    }\n\n    .dataframe thead th {\n        text-align: right;\n    }\n</style>\n<table border=\"1\" class=\"dataframe\">\n  <thead>\n    <tr style=\"text-align: right;\">\n      <th></th>\n      <th>address</th>\n      <th>neighborhood</th>\n    </tr>\n  </thead>\n  <tbody>\n    <tr>\n      <th>4844</th>\n      <td>1330 W Cullerton St, Chicago, IL</td>\n      <td>Lower West Side</td>\n    </tr>\n    <tr>\n      <th>6865</th>\n      <td>2138 W Grand Ave # 40, Chicago, IL</td>\n      <td>West Town</td>\n    </tr>\n    <tr>\n      <th>2499</th>\n      <td>6244 S Natchez Ave, Chicago, IL</td>\n      <td>Clearing</td>\n    </tr>\n    <tr>\n      <th>6661</th>\n      <td>3122 W Walton St UNIT 2, Chicago, IL</td>\n      <td>Humboldt Park</td>\n    </tr>\n    <tr>\n      <th>11427</th>\n      <td>4837 N Central Ave APT 103, Chicago, IL</td>\n      <td>Jefferson Park</td>\n    </tr>\n    <tr>\n      <th>11111</th>\n      <td>655 W Irving Park Rd APT 2417, Chicago, IL</td>\n      <td>Lake View</td>\n    </tr>\n    <tr>\n      <th>7372</th>\n      <td>550 N Kingsbury St APT 417, Chicago, IL</td>\n      <td>River North</td>\n    </tr>\n    <tr>\n      <th>7724</th>\n      <td>253 E Delaware Pl APT 7H, Chicago, IL</td>\n      <td>Streeterville</td>\n    </tr>\n    <tr>\n      <th>3535</th>\n      <td>5317 S Maryland Ave # 2S, Chicago, IL</td>\n      <td>Hyde Park</td>\n    </tr>\n    <tr>\n      <th>3218</th>\n      <td>4158 W 57th Pl, Chicago, IL</td>\n      <td>West Elsdon</td>\n    </tr>\n    <tr>\n      <th>4004</th>\n      <td>5103 S Ingleside Ave UNIT 2, Chicago, IL</td>\n      <td>Hyde Park</td>\n    </tr>\n    <tr>\n      <th>11046</th>\n      <td>3730 N Lake Shore Dr APT 5B, Chicago, IL</td>\n      <td>Lake View</td>\n    </tr>\n    <tr>\n      <th>9961</th>\n      <td>2417 N Orchard St, Chicago, IL</td>\n      <td>Lincoln Park</td>\n    </tr>\n    <tr>\n      <th>10037</th>\n      <td>559 W Surf St APT 306, Chicago, IL</td>\n      <td>Lake View</td>\n    </tr>\n    <tr>\n      <th>9332</th>\n      <td>2434 N Linden Pl # 2, Chicago, IL</td>\n      <td>Logan Square</td>\n    </tr>\n    <tr>\n      <th>1765</th>\n      <td>8346 S Kildare Ave, Chicago, IL</td>\n      <td>Ashburn</td>\n    </tr>\n    <tr>\n      <th>12195</th>\n      <td>6125 N Saint Louis Ave, Chicago, IL</td>\n      <td>North Park</td>\n    </tr>\n    <tr>\n      <th>1405</th>\n      <td>10138 S Parnell Ave, Chicago, IL</td>\n      <td>Washington Heights</td>\n    </tr>\n    <tr>\n      <th>5867</th>\n      <td>130 S Canal St APT 707, Chicago, IL</td>\n      <td>West Loop</td>\n    </tr>\n    <tr>\n      <th>9832</th>\n      <td>653 W Barry Ave APT 1S, Chicago, IL</td>\n      <td>Lake View</td>\n    </tr>\n  </tbody>\n</table>\n</div>",
      "text/plain": "                                          address        neighborhood\n4844             1330 W Cullerton St, Chicago, IL     Lower West Side\n6865           2138 W Grand Ave # 40, Chicago, IL           West Town\n2499              6244 S Natchez Ave, Chicago, IL            Clearing\n6661         3122 W Walton St UNIT 2, Chicago, IL       Humboldt Park\n11427     4837 N Central Ave APT 103, Chicago, IL      Jefferson Park\n11111  655 W Irving Park Rd APT 2417, Chicago, IL           Lake View\n7372      550 N Kingsbury St APT 417, Chicago, IL         River North\n7724        253 E Delaware Pl APT 7H, Chicago, IL       Streeterville\n3535        5317 S Maryland Ave # 2S, Chicago, IL           Hyde Park\n3218                  4158 W 57th Pl, Chicago, IL         West Elsdon\n4004     5103 S Ingleside Ave UNIT 2, Chicago, IL           Hyde Park\n11046    3730 N Lake Shore Dr APT 5B, Chicago, IL           Lake View\n9961               2417 N Orchard St, Chicago, IL        Lincoln Park\n10037          559 W Surf St APT 306, Chicago, IL           Lake View\n9332            2434 N Linden Pl # 2, Chicago, IL        Logan Square\n1765              8346 S Kildare Ave, Chicago, IL             Ashburn\n12195         6125 N Saint Louis Ave, Chicago, IL          North Park\n1405             10138 S Parnell Ave, Chicago, IL  Washington Heights\n5867          130 S Canal St APT 707, Chicago, IL           West Loop\n9832          653 W Barry Ave APT 1S, Chicago, IL           Lake View"
     },
     "execution_count": 84,
     "metadata": {},
     "output_type": "execute_result"
    }
   ],
   "source": [
    "# Remove anything not in a neighborhood (probably incorrectly labeled as being in Chicago)\n",
    "data = data[data['neighborhood'].notnull()]\n",
    "data[['address', 'neighborhood']].sample(20)"
   ]
  },
  {
   "cell_type": "code",
   "execution_count": 85,
   "metadata": {},
   "outputs": [],
   "source": [
    "def make_point(point):\n",
    "    lon = point['geometry']['coordinates'][0]\n",
    "    lat = point['geometry']['coordinates'][1]\n",
    "    return (lon, lat), {\n",
    "            'coords': Point(lon, lat),\n",
    "            'line': point['properties']['LINES'],\n",
    "            'station': point['properties']['Name']\n",
    "        }\n",
    "        \n",
    "\n",
    "stations = {(p:=make_point(point))[0]: p[1] for point in stations_geo['features']}\n",
    "station_points = [station['coords'] for station in stations.values()]"
   ]
  },
  {
   "cell_type": "code",
   "execution_count": 86,
   "metadata": {},
   "outputs": [
    {
     "data": {
      "text/html": "<div>\n<style scoped>\n    .dataframe tbody tr th:only-of-type {\n        vertical-align: middle;\n    }\n\n    .dataframe tbody tr th {\n        vertical-align: top;\n    }\n\n    .dataframe thead th {\n        text-align: right;\n    }\n</style>\n<table border=\"1\" class=\"dataframe\">\n  <thead>\n    <tr style=\"text-align: right;\">\n      <th></th>\n      <th>coords</th>\n      <th>line</th>\n      <th>station</th>\n      <th>neighborhood</th>\n      <th>address</th>\n    </tr>\n  </thead>\n  <tbody>\n    <tr>\n      <th>11234</th>\n      <td>POINT (-87.83802598504772 41.98429405688996)</td>\n      <td>Blue Line</td>\n      <td>Cumberland</td>\n      <td>O'Hare</td>\n      <td>8667 1/2 W Foster Ave UNIT 1B, Chicago, IL</td>\n    </tr>\n    <tr>\n      <th>2995</th>\n      <td>POINT (-87.60585741747852 41.78030876683156)</td>\n      <td>Green Line</td>\n      <td>Cottage Grove</td>\n      <td>Woodlawn</td>\n      <td>6340 S Ingleside Ave, Chicago, IL</td>\n    </tr>\n    <tr>\n      <th>5675</th>\n      <td>POINT (-87.65212799206752 41.88557678778864)</td>\n      <td>Green (Lake), Pink</td>\n      <td>Morgan</td>\n      <td>West Loop</td>\n      <td>1155 W Madison St APT 502, Chicago, IL</td>\n    </tr>\n    <tr>\n      <th>12146</th>\n      <td>POINT (-87.76089227927594 41.97063413718424)</td>\n      <td>Blue Line</td>\n      <td>Jefferson Park</td>\n      <td>Sauganash,Forest Glen</td>\n      <td>6106 N Knox Ave, Chicago, IL</td>\n    </tr>\n    <tr>\n      <th>3166</th>\n      <td>POINT (-87.73795637168769 41.78661355009723)</td>\n      <td>Orange Line</td>\n      <td>Midway</td>\n      <td>West Elsdon</td>\n      <td>4158 W 58th Pl # 4158, Chicago, IL</td>\n    </tr>\n    <tr>\n      <th>3234</th>\n      <td>POINT (-87.72444964277844 41.79988781946131)</td>\n      <td>Orange Line</td>\n      <td>Pulaski</td>\n      <td>West Elsdon</td>\n      <td>3615 W 54th St, Chicago, IL</td>\n    </tr>\n    <tr>\n      <th>10776</th>\n      <td>POINT (-87.67088394357924 41.94370914759255)</td>\n      <td>Brown Line</td>\n      <td>Paulina</td>\n      <td>Lake View</td>\n      <td>3346 N Marshfield Ave, Chicago, IL</td>\n    </tr>\n    <tr>\n      <th>8102</th>\n      <td>POINT (-87.69688979878789 41.92193917056461)</td>\n      <td>Blue Line (O'Hare)</td>\n      <td>California</td>\n      <td>Logan Square</td>\n      <td>1905 N Albany Ave # 2, Chicago, IL</td>\n    </tr>\n    <tr>\n      <th>9371</th>\n      <td>POINT (-87.72917726558204 41.95294026078555)</td>\n      <td>Blue Line</td>\n      <td>Irving Park</td>\n      <td>Irving Park</td>\n      <td>3244 N Kilbourn Ave UNIT 10, Chicago, IL</td>\n    </tr>\n    <tr>\n      <th>9876</th>\n      <td>POINT (-87.6528658377562 41.92505136765153)</td>\n      <td>Red, Brown, Purple (Express)</td>\n      <td>Fullerton</td>\n      <td>Sheffield &amp; DePaul</td>\n      <td>2525 N Sheffield Ave APT 1C, Chicago, IL</td>\n    </tr>\n    <tr>\n      <th>2208</th>\n      <td>POINT (-87.66384484844021 41.77895340470035)</td>\n      <td>Green Line (Englewood)</td>\n      <td>Ashland</td>\n      <td>Ashburn</td>\n      <td>7941 S Whipple St, Chicago, IL</td>\n    </tr>\n    <tr>\n      <th>7990</th>\n      <td>POINT (-87.76564950550599 41.88738901350369)</td>\n      <td>Green Line (Lake)</td>\n      <td>Central</td>\n      <td>Austin</td>\n      <td>1719 N Parkside Ave, Chicago, IL</td>\n    </tr>\n    <tr>\n      <th>877</th>\n      <td>POINT (-87.62441474538349 41.72237598330533)</td>\n      <td>Red Line</td>\n      <td>95/Dan Ryan</td>\n      <td>Roseland</td>\n      <td>234 W 111th St, Chicago, IL</td>\n    </tr>\n    <tr>\n      <th>11442</th>\n      <td>POINT (-87.76089227927594 41.97063413718424)</td>\n      <td>Blue Line</td>\n      <td>Jefferson Park</td>\n      <td>Jefferson Park</td>\n      <td>4806 N Milwaukee Ave APT 2E, Chicago, IL</td>\n    </tr>\n    <tr>\n      <th>8526</th>\n      <td>POINT (-87.65264430600405 41.91821656715077)</td>\n      <td>Brown, Purple (Express)</td>\n      <td>Armitage</td>\n      <td>Lincoln Park</td>\n      <td>1037 W Dickens Ave # 1A, Chicago, IL</td>\n    </tr>\n    <tr>\n      <th>12788</th>\n      <td>POINT (-87.67832941601363 42.02761184768367)</td>\n      <td>Purple Line, Evanston Express</td>\n      <td>South Boulevard</td>\n      <td>West Ridge</td>\n      <td>6933 N Kedzie Ave APT 1014, Chicago, IL</td>\n    </tr>\n    <tr>\n      <th>7512</th>\n      <td>POINT (-87.62802125739587 41.89166520044598)</td>\n      <td>Red Line</td>\n      <td>Grand</td>\n      <td>Streeterville</td>\n      <td>505 N Lake Shore Dr APT 6801, Chicago, IL</td>\n    </tr>\n    <tr>\n      <th>8326</th>\n      <td>POINT (-87.67743665449984 41.9097437915267)</td>\n      <td>Blue Line</td>\n      <td>Damen</td>\n      <td>Bucktown</td>\n      <td>2125 N Damen Ave # 4, Chicago, IL</td>\n    </tr>\n    <tr>\n      <th>4011</th>\n      <td>POINT (-87.61850159987594 41.80209158340622)</td>\n      <td>Green Line</td>\n      <td>51st</td>\n      <td>Kenwood</td>\n      <td>5052 S Ellis Ave # B, Chicago, IL</td>\n    </tr>\n    <tr>\n      <th>2258</th>\n      <td>POINT (-87.66384484844021 41.77895340470035)</td>\n      <td>Green Line (Englewood)</td>\n      <td>Ashland</td>\n      <td>Englewood</td>\n      <td>7257 S Marshfield Ave, Chicago, IL</td>\n    </tr>\n  </tbody>\n</table>\n</div>",
      "text/plain": "                                             coords  \\\n11234  POINT (-87.83802598504772 41.98429405688996)   \n2995   POINT (-87.60585741747852 41.78030876683156)   \n5675   POINT (-87.65212799206752 41.88557678778864)   \n12146  POINT (-87.76089227927594 41.97063413718424)   \n3166   POINT (-87.73795637168769 41.78661355009723)   \n3234   POINT (-87.72444964277844 41.79988781946131)   \n10776  POINT (-87.67088394357924 41.94370914759255)   \n8102   POINT (-87.69688979878789 41.92193917056461)   \n9371   POINT (-87.72917726558204 41.95294026078555)   \n9876    POINT (-87.6528658377562 41.92505136765153)   \n2208   POINT (-87.66384484844021 41.77895340470035)   \n7990   POINT (-87.76564950550599 41.88738901350369)   \n877    POINT (-87.62441474538349 41.72237598330533)   \n11442  POINT (-87.76089227927594 41.97063413718424)   \n8526   POINT (-87.65264430600405 41.91821656715077)   \n12788  POINT (-87.67832941601363 42.02761184768367)   \n7512   POINT (-87.62802125739587 41.89166520044598)   \n8326    POINT (-87.67743665449984 41.9097437915267)   \n4011   POINT (-87.61850159987594 41.80209158340622)   \n2258   POINT (-87.66384484844021 41.77895340470035)   \n\n                                line          station           neighborhood  \\\n11234                      Blue Line       Cumberland                 O'Hare   \n2995                      Green Line    Cottage Grove               Woodlawn   \n5675              Green (Lake), Pink           Morgan              West Loop   \n12146                      Blue Line   Jefferson Park  Sauganash,Forest Glen   \n3166                     Orange Line           Midway            West Elsdon   \n3234                     Orange Line          Pulaski            West Elsdon   \n10776                     Brown Line          Paulina              Lake View   \n8102              Blue Line (O'Hare)       California           Logan Square   \n9371                       Blue Line      Irving Park            Irving Park   \n9876    Red, Brown, Purple (Express)        Fullerton     Sheffield & DePaul   \n2208          Green Line (Englewood)          Ashland                Ashburn   \n7990               Green Line (Lake)          Central                 Austin   \n877                         Red Line      95/Dan Ryan               Roseland   \n11442                      Blue Line   Jefferson Park         Jefferson Park   \n8526         Brown, Purple (Express)         Armitage           Lincoln Park   \n12788  Purple Line, Evanston Express  South Boulevard             West Ridge   \n7512                        Red Line            Grand          Streeterville   \n8326                       Blue Line            Damen               Bucktown   \n4011                      Green Line             51st                Kenwood   \n2258          Green Line (Englewood)          Ashland              Englewood   \n\n                                          address  \n11234  8667 1/2 W Foster Ave UNIT 1B, Chicago, IL  \n2995            6340 S Ingleside Ave, Chicago, IL  \n5675       1155 W Madison St APT 502, Chicago, IL  \n12146                6106 N Knox Ave, Chicago, IL  \n3166           4158 W 58th Pl # 4158, Chicago, IL  \n3234                  3615 W 54th St, Chicago, IL  \n10776          3346 N Marshfield Ave, Chicago, IL  \n8102           1905 N Albany Ave # 2, Chicago, IL  \n9371     3244 N Kilbourn Ave UNIT 10, Chicago, IL  \n9876     2525 N Sheffield Ave APT 1C, Chicago, IL  \n2208               7941 S Whipple St, Chicago, IL  \n7990             1719 N Parkside Ave, Chicago, IL  \n877                   234 W 111th St, Chicago, IL  \n11442    4806 N Milwaukee Ave APT 2E, Chicago, IL  \n8526         1037 W Dickens Ave # 1A, Chicago, IL  \n12788     6933 N Kedzie Ave APT 1014, Chicago, IL  \n7512    505 N Lake Shore Dr APT 6801, Chicago, IL  \n8326            2125 N Damen Ave # 4, Chicago, IL  \n4011            5052 S Ellis Ave # B, Chicago, IL  \n2258           7257 S Marshfield Ave, Chicago, IL  "
     },
     "execution_count": 86,
     "metadata": {},
     "output_type": "execute_result"
    }
   ],
   "source": [
    "# Get nearest CTA stations\n",
    "stations_multipoint = MultiPoint(station_points)\n",
    "def get_nearest_station(row):\n",
    "    lon = row['lon']\n",
    "    lat = row['lat']\n",
    "    p = Point(lon, lat)\n",
    "    np = nearest_points(p, MultiPoint(station_points))\n",
    "    # Index 0 is the input point, index 1 is the nearest station\n",
    "    nearest_station = stations[(np[1].x, np[1].y)]\n",
    "    return nearest_station\n",
    "\n",
    "data = pd.concat([data, data.apply(get_nearest_station, axis=1, result_type='expand')], axis=1)\n",
    "\n",
    "data[['coords', 'line', 'station', 'neighborhood', 'address']].sample(20)"
   ]
  },
  {
   "cell_type": "code",
   "execution_count": 87,
   "metadata": {},
   "outputs": [
    {
     "data": {
      "text/html": "<div>\n<style scoped>\n    .dataframe tbody tr th:only-of-type {\n        vertical-align: middle;\n    }\n\n    .dataframe tbody tr th {\n        vertical-align: top;\n    }\n\n    .dataframe thead th {\n        text-align: right;\n    }\n</style>\n<table border=\"1\" class=\"dataframe\">\n  <thead>\n    <tr style=\"text-align: right;\">\n      <th></th>\n      <th>lon</th>\n      <th>lat</th>\n      <th>coords</th>\n      <th>stationDistance</th>\n      <th>station</th>\n    </tr>\n  </thead>\n  <tbody>\n    <tr>\n      <th>4473</th>\n      <td>-87.604400</td>\n      <td>41.823300</td>\n      <td>POINT (-87.61903578127783 41.81646322193995)</td>\n      <td>1.227391</td>\n      <td>43rd</td>\n    </tr>\n    <tr>\n      <th>9199</th>\n      <td>-87.808293</td>\n      <td>41.936889</td>\n      <td>POINT (-87.80889493503285 41.98232336946857)</td>\n      <td>3.166774</td>\n      <td>Harlem</td>\n    </tr>\n    <tr>\n      <th>11812</th>\n      <td>-87.651496</td>\n      <td>41.973701</td>\n      <td>POINT (-87.65852996352429 41.97345332194149)</td>\n      <td>0.379359</td>\n      <td>Argyle</td>\n    </tr>\n    <tr>\n      <th>11845</th>\n      <td>-87.651968</td>\n      <td>41.971874</td>\n      <td>POINT (-87.65852996352429 41.97345332194149)</td>\n      <td>0.446966</td>\n      <td>Argyle</td>\n    </tr>\n    <tr>\n      <th>6746</th>\n      <td>-87.681945</td>\n      <td>41.882403</td>\n      <td>POINT (-87.68843451104553 41.87552957304013)</td>\n      <td>0.809080</td>\n      <td>Western</td>\n    </tr>\n    <tr>\n      <th>2941</th>\n      <td>-87.612860</td>\n      <td>41.779747</td>\n      <td>POINT (-87.61554588356856 41.78012971578292)</td>\n      <td>0.165161</td>\n      <td>King Drive</td>\n    </tr>\n    <tr>\n      <th>5714</th>\n      <td>-87.652968</td>\n      <td>41.870134</td>\n      <td>POINT (-87.64964223079028 41.87551620822291)</td>\n      <td>0.543021</td>\n      <td>UIC-Halsted</td>\n    </tr>\n    <tr>\n      <th>7078</th>\n      <td>-87.633685</td>\n      <td>41.890239</td>\n      <td>POINT (-87.63397336028807 41.88896793287827)</td>\n      <td>0.102595</td>\n      <td>Merchandise Mart</td>\n    </tr>\n    <tr>\n      <th>7378</th>\n      <td>-87.627675</td>\n      <td>41.894355</td>\n      <td>POINT (-87.62817635256233 41.89667121189094)</td>\n      <td>0.185710</td>\n      <td>Chicago</td>\n    </tr>\n    <tr>\n      <th>5489</th>\n      <td>-87.717060</td>\n      <td>41.865959</td>\n      <td>POINT (-87.725624930077 41.87388872350696)</td>\n      <td>0.989135</td>\n      <td>Pulaski</td>\n    </tr>\n    <tr>\n      <th>9593</th>\n      <td>-87.680179</td>\n      <td>41.939809</td>\n      <td>POINT (-87.67473610744641 41.94702865443908)</td>\n      <td>0.778749</td>\n      <td>Addison</td>\n    </tr>\n    <tr>\n      <th>3802</th>\n      <td>-87.622179</td>\n      <td>41.812536</td>\n      <td>POINT (-87.61882612858351 41.8092088340794)</td>\n      <td>0.402741</td>\n      <td>47th</td>\n    </tr>\n    <tr>\n      <th>6719</th>\n      <td>-87.661835</td>\n      <td>41.889429</td>\n      <td>POINT (-87.66695093661281 41.88531139464179)</td>\n      <td>0.548012</td>\n      <td>Ashland</td>\n    </tr>\n    <tr>\n      <th>10652</th>\n      <td>-87.680015</td>\n      <td>41.954445</td>\n      <td>POINT (-87.67495574333226 41.95452313859697)</td>\n      <td>0.266035</td>\n      <td>Irving Park</td>\n    </tr>\n    <tr>\n      <th>2839</th>\n      <td>-87.646415</td>\n      <td>41.762336</td>\n      <td>POINT (-87.64402312721801 41.77902786718354)</td>\n      <td>1.275582</td>\n      <td>Halsted</td>\n    </tr>\n    <tr>\n      <th>8532</th>\n      <td>-87.656338</td>\n      <td>41.916612</td>\n      <td>POINT (-87.65264430600405 41.91821656715077)</td>\n      <td>0.301145</td>\n      <td>Armitage</td>\n    </tr>\n    <tr>\n      <th>8549</th>\n      <td>-87.655977</td>\n      <td>41.915042</td>\n      <td>POINT (-87.65264430600405 41.91821656715077)</td>\n      <td>0.390897</td>\n      <td>Armitage</td>\n    </tr>\n    <tr>\n      <th>7252</th>\n      <td>-87.634469</td>\n      <td>41.891889</td>\n      <td>POINT (-87.63397336028807 41.88896793287827)</td>\n      <td>0.227161</td>\n      <td>Merchandise Mart</td>\n    </tr>\n    <tr>\n      <th>5522</th>\n      <td>-87.726534</td>\n      <td>41.879492</td>\n      <td>POINT (-87.725624930077 41.87388872350696)</td>\n      <td>0.433605</td>\n      <td>Pulaski</td>\n    </tr>\n    <tr>\n      <th>11534</th>\n      <td>-87.708895</td>\n      <td>41.971837</td>\n      <td>POINT (-87.70884379252877 41.96609260609986)</td>\n      <td>0.399100</td>\n      <td>Kedzie</td>\n    </tr>\n  </tbody>\n</table>\n</div>",
      "text/plain": "             lon        lat                                        coords  \\\n4473  -87.604400  41.823300  POINT (-87.61903578127783 41.81646322193995)   \n9199  -87.808293  41.936889  POINT (-87.80889493503285 41.98232336946857)   \n11812 -87.651496  41.973701  POINT (-87.65852996352429 41.97345332194149)   \n11845 -87.651968  41.971874  POINT (-87.65852996352429 41.97345332194149)   \n6746  -87.681945  41.882403  POINT (-87.68843451104553 41.87552957304013)   \n2941  -87.612860  41.779747  POINT (-87.61554588356856 41.78012971578292)   \n5714  -87.652968  41.870134  POINT (-87.64964223079028 41.87551620822291)   \n7078  -87.633685  41.890239  POINT (-87.63397336028807 41.88896793287827)   \n7378  -87.627675  41.894355  POINT (-87.62817635256233 41.89667121189094)   \n5489  -87.717060  41.865959    POINT (-87.725624930077 41.87388872350696)   \n9593  -87.680179  41.939809  POINT (-87.67473610744641 41.94702865443908)   \n3802  -87.622179  41.812536   POINT (-87.61882612858351 41.8092088340794)   \n6719  -87.661835  41.889429  POINT (-87.66695093661281 41.88531139464179)   \n10652 -87.680015  41.954445  POINT (-87.67495574333226 41.95452313859697)   \n2839  -87.646415  41.762336  POINT (-87.64402312721801 41.77902786718354)   \n8532  -87.656338  41.916612  POINT (-87.65264430600405 41.91821656715077)   \n8549  -87.655977  41.915042  POINT (-87.65264430600405 41.91821656715077)   \n7252  -87.634469  41.891889  POINT (-87.63397336028807 41.88896793287827)   \n5522  -87.726534  41.879492    POINT (-87.725624930077 41.87388872350696)   \n11534 -87.708895  41.971837  POINT (-87.70884379252877 41.96609260609986)   \n\n       stationDistance           station  \n4473          1.227391              43rd  \n9199          3.166774            Harlem  \n11812         0.379359            Argyle  \n11845         0.446966            Argyle  \n6746          0.809080           Western  \n2941          0.165161        King Drive  \n5714          0.543021       UIC-Halsted  \n7078          0.102595  Merchandise Mart  \n7378          0.185710           Chicago  \n5489          0.989135           Pulaski  \n9593          0.778749           Addison  \n3802          0.402741              47th  \n6719          0.548012           Ashland  \n10652         0.266035       Irving Park  \n2839          1.275582           Halsted  \n8532          0.301145          Armitage  \n8549          0.390897          Armitage  \n7252          0.227161  Merchandise Mart  \n5522          0.433605           Pulaski  \n11534         0.399100            Kedzie  "
     },
     "execution_count": 87,
     "metadata": {},
     "output_type": "execute_result"
    }
   ],
   "source": [
    "def manhattan_distance(row):\n",
    "    home_lon = row['lon']\n",
    "    home_lat = row['lat']\n",
    "    station_lon = row['coords'].x\n",
    "    station_lat = row['coords'].y\n",
    "\n",
    "    # Calculate Haversine distance (https://en.wikipedia.org/wiki/Haversine_formula) \n",
    "    # using Manhattan distance (https://xlinux.nist.gov/dads/HTML/manhattanDistance.html)\n",
    "    return distance.distance((home_lat, home_lon), (station_lat, home_lon)).miles + \\\n",
    "        distance.distance((home_lat, home_lon), (home_lat, station_lon)).miles\n",
    "\n",
    "data['stationDistance'] = data.apply(manhattan_distance, axis=1)\n",
    "data[['lon', 'lat', 'coords', 'stationDistance', 'station']].sample(20)"
   ]
  },
  {
   "cell_type": "code",
   "execution_count": 88,
   "metadata": {},
   "outputs": [],
   "source": [
    "# save cleaned data\n",
    "data.to_csv('results-7-31-2019-cleaned.csv')"
   ]
  },
  {
   "cell_type": "code",
   "execution_count": null,
   "metadata": {},
   "outputs": [],
   "source": []
  }
 ]
}