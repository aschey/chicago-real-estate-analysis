{
 "nbformat": 4,
 "nbformat_minor": 2,
 "metadata": {
  "language_info": {
   "name": "python",
   "codemirror_mode": {
    "name": "ipython",
    "version": 3
   }
  },
  "orig_nbformat": 2,
  "file_extension": ".py",
  "mimetype": "text/x-python",
  "name": "python",
  "npconvert_exporter": "python",
  "pygments_lexer": "ipython3",
  "version": 3
 },
 "cells": [
  {
   "cell_type": "code",
   "execution_count": 46,
   "metadata": {},
   "outputs": [],
   "source": [
    "import pandas as pd\n",
    "import json\n",
    "from math import sin, cos, sqrt, atan2\n",
    "from pandas.io.json import json_normalize\n",
    "from shapely.geometry import shape, Point, MultiPoint\n",
    "from shapely.ops import nearest_points"
   ]
  },
  {
   "cell_type": "code",
   "execution_count": 47,
   "metadata": {},
   "outputs": [],
   "source": [
    "with open('./results-7-31-2019.json') as f:\n",
    "    # flatten json structures\n",
    "    data = json_normalize(json.load(f))\n",
    "    # Remove non-Chicago entries\n",
    "    data = data[data['address'].str.contains('Chicago, IL')]"
   ]
  },
  {
   "cell_type": "code",
   "execution_count": 48,
   "metadata": {},
   "outputs": [],
   "source": [
    "with open('./CTA_RailStations.geojson') as f:\n",
    "    stations_geo = json.load(f)"
   ]
  },
  {
   "cell_type": "code",
   "execution_count": 49,
   "metadata": {},
   "outputs": [],
   "source": [
    "with open('./chicago_neighborhoods.geojson') as f:\n",
    "    neighborhoods_geo = json.load(f)"
   ]
  },
  {
   "cell_type": "code",
   "execution_count": 50,
   "metadata": {},
   "outputs": [],
   "source": [
    "# Make the neighborhood json easier to work with\n",
    "neighborhood_polygons = [{'geometry': shape(feature['geometry']), 'properties': feature['properties']} for feature in neighborhoods_geo['features']]"
   ]
  },
  {
   "cell_type": "code",
   "execution_count": 51,
   "metadata": {},
   "outputs": [],
   "source": [
    "def get_neighborhood(row):\n",
    "    lon = row['hdpData.homeInfo.longitude']\n",
    "    lat = row['hdpData.homeInfo.latitude']\n",
    "    hoods = [polygon['properties']['pri_neigh'] for polygon in neighborhood_polygons if polygon['geometry'].contains(Point(lon, lat))]\n",
    "    return hoods[0] if len(hoods) > 0 else None\n",
    "\n",
    "# Add neighborhoods to entries\n",
    "data['neighborhood'] = data.apply(get_neighborhood, axis=1)"
   ]
  },
  {
   "cell_type": "code",
   "execution_count": 52,
   "metadata": {},
   "outputs": [
    {
     "data": {
      "text/html": "<div>\n<style scoped>\n    .dataframe tbody tr th:only-of-type {\n        vertical-align: middle;\n    }\n\n    .dataframe tbody tr th {\n        vertical-align: top;\n    }\n\n    .dataframe thead th {\n        text-align: right;\n    }\n</style>\n<table border=\"1\" class=\"dataframe\">\n  <thead>\n    <tr style=\"text-align: right;\">\n      <th></th>\n      <th>address</th>\n      <th>neighborhood</th>\n    </tr>\n  </thead>\n  <tbody>\n    <tr>\n      <th>11475</th>\n      <td>4910 N Drake Ave APT 3, Chicago, IL</td>\n      <td>Albany Park</td>\n    </tr>\n    <tr>\n      <th>3773</th>\n      <td>4008 S California Ave, Chicago, IL</td>\n      <td>Brighton Park</td>\n    </tr>\n    <tr>\n      <th>9646</th>\n      <td>2630 W Medill Ave, Chicago, IL</td>\n      <td>Logan Square</td>\n    </tr>\n    <tr>\n      <th>2422</th>\n      <td>8000 S Indiana Ave # 1, Chicago, IL</td>\n      <td>Chatham</td>\n    </tr>\n    <tr>\n      <th>8660</th>\n      <td>1632 N Orchard St # 201S, Chicago, IL</td>\n      <td>Old Town</td>\n    </tr>\n    <tr>\n      <th>2710</th>\n      <td>6327 S Wood St, Chicago, IL</td>\n      <td>Englewood</td>\n    </tr>\n    <tr>\n      <th>11352</th>\n      <td>5034 N Newcastle Ave, Chicago, IL</td>\n      <td>Norwood Park</td>\n    </tr>\n    <tr>\n      <th>4860</th>\n      <td>31 E 26th St APT 4, Chicago, IL</td>\n      <td>Douglas</td>\n    </tr>\n    <tr>\n      <th>4889</th>\n      <td>924 W 18th Pl, Chicago, IL</td>\n      <td>Lower West Side</td>\n    </tr>\n    <tr>\n      <th>682</th>\n      <td>3337 W 114th St, Chicago, IL</td>\n      <td>Mount Greenwood</td>\n    </tr>\n    <tr>\n      <th>10404</th>\n      <td>4545 W Berteau Ave, Chicago, IL</td>\n      <td>Irving Park</td>\n    </tr>\n    <tr>\n      <th>2326</th>\n      <td>7529 S Emerald Ave, Chicago, IL</td>\n      <td>Englewood</td>\n    </tr>\n    <tr>\n      <th>7557</th>\n      <td>240 E Illinois St APT 2010, Chicago, IL</td>\n      <td>Streeterville</td>\n    </tr>\n    <tr>\n      <th>7531</th>\n      <td>450 E Waterside Dr UNIT 2603, Chicago, IL</td>\n      <td>Loop</td>\n    </tr>\n    <tr>\n      <th>12667</th>\n      <td>7509 W Pratt Ave, Chicago, IL</td>\n      <td>Edison Park</td>\n    </tr>\n    <tr>\n      <th>3073</th>\n      <td>5618 S Newland Ave, Chicago, IL</td>\n      <td>Garfield Ridge</td>\n    </tr>\n    <tr>\n      <th>5608</th>\n      <td>1645 W Ogden Ave UNIT 623, Chicago, IL</td>\n      <td>United Center</td>\n    </tr>\n    <tr>\n      <th>9679</th>\n      <td>3036 N Hoyne Ave, Chicago, IL</td>\n      <td>North Center</td>\n    </tr>\n    <tr>\n      <th>12808</th>\n      <td>7033 N Kedzie Ave APT 1714, Chicago, IL</td>\n      <td>West Ridge</td>\n    </tr>\n    <tr>\n      <th>11470</th>\n      <td>5148 N Monitor Ave APT 202, Chicago, IL</td>\n      <td>Jefferson Park</td>\n    </tr>\n  </tbody>\n</table>\n</div>",
      "text/plain": "                                         address     neighborhood\n11475        4910 N Drake Ave APT 3, Chicago, IL      Albany Park\n3773          4008 S California Ave, Chicago, IL    Brighton Park\n9646              2630 W Medill Ave, Chicago, IL     Logan Square\n2422         8000 S Indiana Ave # 1, Chicago, IL          Chatham\n8660       1632 N Orchard St # 201S, Chicago, IL         Old Town\n2710                 6327 S Wood St, Chicago, IL        Englewood\n11352          5034 N Newcastle Ave, Chicago, IL     Norwood Park\n4860             31 E 26th St APT 4, Chicago, IL          Douglas\n4889                  924 W 18th Pl, Chicago, IL  Lower West Side\n682                 3337 W 114th St, Chicago, IL  Mount Greenwood\n10404            4545 W Berteau Ave, Chicago, IL      Irving Park\n2326             7529 S Emerald Ave, Chicago, IL        Englewood\n7557     240 E Illinois St APT 2010, Chicago, IL    Streeterville\n7531   450 E Waterside Dr UNIT 2603, Chicago, IL             Loop\n12667              7509 W Pratt Ave, Chicago, IL      Edison Park\n3073             5618 S Newland Ave, Chicago, IL   Garfield Ridge\n5608      1645 W Ogden Ave UNIT 623, Chicago, IL    United Center\n9679               3036 N Hoyne Ave, Chicago, IL     North Center\n12808    7033 N Kedzie Ave APT 1714, Chicago, IL       West Ridge\n11470    5148 N Monitor Ave APT 202, Chicago, IL   Jefferson Park"
     },
     "execution_count": 52,
     "metadata": {},
     "output_type": "execute_result"
    }
   ],
   "source": [
    "# Remove anything not in a neighborhood (probably incorrectly labeled as being in Chicago)\n",
    "data = data[data['neighborhood'].notnull()]\n",
    "data[['address', 'neighborhood']].sample(20)"
   ]
  },
  {
   "cell_type": "code",
   "execution_count": 53,
   "metadata": {},
   "outputs": [],
   "source": [
    "def make_point(point):\n",
    "    lon = point['geometry']['coordinates'][0]\n",
    "    lat = point['geometry']['coordinates'][1]\n",
    "    return (lon, lat), {\n",
    "            'coords': Point(lon, lat),\n",
    "            'line': point['properties']['LINES'],\n",
    "            'station': point['properties']['Name']\n",
    "        }\n",
    "        \n",
    "\n",
    "stations = {make_point(point)[0]: make_point(point)[1] for point in stations_geo['features']}\n",
    "station_points = [station['coords'] for station in stations.values()]"
   ]
  },
  {
   "cell_type": "code",
   "execution_count": 54,
   "metadata": {},
   "outputs": [
    {
     "data": {
      "text/html": "<div>\n<style scoped>\n    .dataframe tbody tr th:only-of-type {\n        vertical-align: middle;\n    }\n\n    .dataframe tbody tr th {\n        vertical-align: top;\n    }\n\n    .dataframe thead th {\n        text-align: right;\n    }\n</style>\n<table border=\"1\" class=\"dataframe\">\n  <thead>\n    <tr style=\"text-align: right;\">\n      <th></th>\n      <th>coords</th>\n      <th>line</th>\n      <th>station</th>\n      <th>neighborhood</th>\n      <th>address</th>\n    </tr>\n  </thead>\n  <tbody>\n    <tr>\n      <th>3395</th>\n      <td>POINT (-87.64402312721801 41.77902786718354)</td>\n      <td>Green Line</td>\n      <td>Halsted</td>\n      <td>Englewood</td>\n      <td>5705 S Emerald Ave, Chicago, IL</td>\n    </tr>\n    <tr>\n      <th>6617</th>\n      <td>POINT (-87.72540376831816 41.88541197876197)</td>\n      <td>Green Line (Lake)</td>\n      <td>Pulaski</td>\n      <td>Humboldt Park</td>\n      <td>1030 N Ridgeway Ave, Chicago, IL</td>\n    </tr>\n    <tr>\n      <th>12402</th>\n      <td>POINT (-87.68850260590037 41.96625004727976)</td>\n      <td>Brown Line</td>\n      <td>Western</td>\n      <td>West Ridge</td>\n      <td>6101 N Western Ave, Chicago, IL</td>\n    </tr>\n    <tr>\n      <th>2683</th>\n      <td>POINT (-87.66384484844021 41.77895340470035)</td>\n      <td>Green Line (Englewood)</td>\n      <td>Ashland</td>\n      <td>Englewood</td>\n      <td>2021 W 71st St, Chicago, IL</td>\n    </tr>\n    <tr>\n      <th>12128</th>\n      <td>POINT (-87.76089227927594 41.97063413718424)</td>\n      <td>Blue Line</td>\n      <td>Jefferson Park</td>\n      <td>Sauganash,Forest Glen</td>\n      <td>6244 N Le Mai Ave, Chicago, IL</td>\n    </tr>\n    <tr>\n      <th>5503</th>\n      <td>POINT (-87.72540376831816 41.88541197876197)</td>\n      <td>Green Line (Lake)</td>\n      <td>Pulaski</td>\n      <td>Garfield Park</td>\n      <td>4221 W Madison St, Chicago, IL</td>\n    </tr>\n    <tr>\n      <th>11550</th>\n      <td>POINT (-87.74361697430822 41.96148663210283)</td>\n      <td>Blue Line</td>\n      <td>Montrose</td>\n      <td>Albany Park</td>\n      <td>4450 W Gunnison St APT 3C, Chicago, IL</td>\n    </tr>\n    <tr>\n      <th>8304</th>\n      <td>POINT (-87.6873643813982 41.91615742819355)</td>\n      <td>Blue Line (O'Hare)</td>\n      <td>Western</td>\n      <td>Logan Square</td>\n      <td>2511 W Moffat St # 210-I, Chicago, IL</td>\n    </tr>\n    <tr>\n      <th>7614</th>\n      <td>POINT (-87.62817635256233 41.89667121189094)</td>\n      <td>Red Line</td>\n      <td>Chicago</td>\n      <td>Gold Coast</td>\n      <td>1000 N Lake Shore Plz APT 13A, Chicago, IL</td>\n    </tr>\n    <tr>\n      <th>10450</th>\n      <td>POINT (-87.76089227927594 41.97063413718424)</td>\n      <td>Blue Line</td>\n      <td>Jefferson Park</td>\n      <td>Portage Park</td>\n      <td>5506 W Eddy St, Chicago, IL</td>\n    </tr>\n    <tr>\n      <th>2888</th>\n      <td>POINT (-87.60585741747852 41.78030876683156)</td>\n      <td>Green Line</td>\n      <td>Cottage Grove</td>\n      <td>Woodlawn</td>\n      <td>6507 S Langley Ave, Chicago, IL</td>\n    </tr>\n    <tr>\n      <th>7511</th>\n      <td>POINT (-87.62618878473235 41.88322001199881)</td>\n      <td>Brown, Orange, Pink,  Purple (Express), Green</td>\n      <td>Washington/Wabash</td>\n      <td>Loop</td>\n      <td>360 E Randolph St APT 4206, Chicago, IL</td>\n    </tr>\n    <tr>\n      <th>5800</th>\n      <td>POINT (-87.62769645951256 41.88074455785451)</td>\n      <td>Red Line</td>\n      <td>Monroe</td>\n      <td>Loop</td>\n      <td>8 W Monroe St APT 1605, Chicago, IL</td>\n    </tr>\n    <tr>\n      <th>886</th>\n      <td>POINT (-87.62441474538349 41.72237598330533)</td>\n      <td>Red Line</td>\n      <td>95/Dan Ryan</td>\n      <td>Washington Heights</td>\n      <td>10641 S May St, Chicago, IL</td>\n    </tr>\n    <tr>\n      <th>5797</th>\n      <td>POINT (-87.63373997596631 41.87872328255228)</td>\n      <td>Brown, Orange, Pink, Purple (Express)</td>\n      <td>Quincy/Wells</td>\n      <td>Loop</td>\n      <td>235 W Van Buren St UNIT 3801, Chicago, IL</td>\n    </tr>\n    <tr>\n      <th>7632</th>\n      <td>POINT (-87.62802125739587 41.89166520044598)</td>\n      <td>Red Line</td>\n      <td>Grand</td>\n      <td>Streeterville</td>\n      <td>600 N Lake Shore Dr APT 1110, Chicago, IL</td>\n    </tr>\n    <tr>\n      <th>963</th>\n      <td>POINT (-87.62441474538349 41.72237598330533)</td>\n      <td>Red Line</td>\n      <td>95/Dan Ryan</td>\n      <td>Roseland</td>\n      <td>10601 S Halsted St, Chicago, IL</td>\n    </tr>\n    <tr>\n      <th>7309</th>\n      <td>POINT (-87.63594665706665 41.89677417084342)</td>\n      <td>Brown, Purple (Express)</td>\n      <td>Chicago</td>\n      <td>River North</td>\n      <td>340 W Superior St APT 1201, Chicago, IL</td>\n    </tr>\n    <tr>\n      <th>801</th>\n      <td>POINT (-87.62441474538349 41.72237598330533)</td>\n      <td>Red Line</td>\n      <td>95/Dan Ryan</td>\n      <td>Mount Greenwood</td>\n      <td>11210 S Kedzie Ave, Chicago, IL</td>\n    </tr>\n    <tr>\n      <th>8468</th>\n      <td>POINT (-87.69688979878789 41.92193917056461)</td>\n      <td>Blue Line (O'Hare)</td>\n      <td>California</td>\n      <td>Humboldt Park</td>\n      <td>2912 W North Ave, Chicago, IL</td>\n    </tr>\n  </tbody>\n</table>\n</div>",
      "text/plain": "                                             coords  \\\n3395   POINT (-87.64402312721801 41.77902786718354)   \n6617   POINT (-87.72540376831816 41.88541197876197)   \n12402  POINT (-87.68850260590037 41.96625004727976)   \n2683   POINT (-87.66384484844021 41.77895340470035)   \n12128  POINT (-87.76089227927594 41.97063413718424)   \n5503   POINT (-87.72540376831816 41.88541197876197)   \n11550  POINT (-87.74361697430822 41.96148663210283)   \n8304    POINT (-87.6873643813982 41.91615742819355)   \n7614   POINT (-87.62817635256233 41.89667121189094)   \n10450  POINT (-87.76089227927594 41.97063413718424)   \n2888   POINT (-87.60585741747852 41.78030876683156)   \n7511   POINT (-87.62618878473235 41.88322001199881)   \n5800   POINT (-87.62769645951256 41.88074455785451)   \n886    POINT (-87.62441474538349 41.72237598330533)   \n5797   POINT (-87.63373997596631 41.87872328255228)   \n7632   POINT (-87.62802125739587 41.89166520044598)   \n963    POINT (-87.62441474538349 41.72237598330533)   \n7309   POINT (-87.63594665706665 41.89677417084342)   \n801    POINT (-87.62441474538349 41.72237598330533)   \n8468   POINT (-87.69688979878789 41.92193917056461)   \n\n                                                line            station  \\\n3395                                      Green Line            Halsted   \n6617                               Green Line (Lake)            Pulaski   \n12402                                     Brown Line            Western   \n2683                          Green Line (Englewood)            Ashland   \n12128                                      Blue Line     Jefferson Park   \n5503                               Green Line (Lake)            Pulaski   \n11550                                      Blue Line           Montrose   \n8304                              Blue Line (O'Hare)            Western   \n7614                                        Red Line            Chicago   \n10450                                      Blue Line     Jefferson Park   \n2888                                      Green Line      Cottage Grove   \n7511   Brown, Orange, Pink,  Purple (Express), Green  Washington/Wabash   \n5800                                        Red Line             Monroe   \n886                                         Red Line        95/Dan Ryan   \n5797           Brown, Orange, Pink, Purple (Express)       Quincy/Wells   \n7632                                        Red Line              Grand   \n963                                         Red Line        95/Dan Ryan   \n7309                         Brown, Purple (Express)            Chicago   \n801                                         Red Line        95/Dan Ryan   \n8468                              Blue Line (O'Hare)         California   \n\n                neighborhood                                     address  \n3395               Englewood             5705 S Emerald Ave, Chicago, IL  \n6617           Humboldt Park            1030 N Ridgeway Ave, Chicago, IL  \n12402             West Ridge             6101 N Western Ave, Chicago, IL  \n2683               Englewood                 2021 W 71st St, Chicago, IL  \n12128  Sauganash,Forest Glen              6244 N Le Mai Ave, Chicago, IL  \n5503           Garfield Park              4221 W Madison St, Chicago, IL  \n11550            Albany Park      4450 W Gunnison St APT 3C, Chicago, IL  \n8304            Logan Square       2511 W Moffat St # 210-I, Chicago, IL  \n7614              Gold Coast  1000 N Lake Shore Plz APT 13A, Chicago, IL  \n10450           Portage Park                 5506 W Eddy St, Chicago, IL  \n2888                Woodlawn             6507 S Langley Ave, Chicago, IL  \n7511                    Loop     360 E Randolph St APT 4206, Chicago, IL  \n5800                    Loop         8 W Monroe St APT 1605, Chicago, IL  \n886       Washington Heights                 10641 S May St, Chicago, IL  \n5797                    Loop   235 W Van Buren St UNIT 3801, Chicago, IL  \n7632           Streeterville   600 N Lake Shore Dr APT 1110, Chicago, IL  \n963                 Roseland             10601 S Halsted St, Chicago, IL  \n7309             River North     340 W Superior St APT 1201, Chicago, IL  \n801          Mount Greenwood             11210 S Kedzie Ave, Chicago, IL  \n8468           Humboldt Park               2912 W North Ave, Chicago, IL  "
     },
     "execution_count": 54,
     "metadata": {},
     "output_type": "execute_result"
    }
   ],
   "source": [
    "# Get nearest CTA stations\n",
    "stations_multipoint = MultiPoint(station_points)\n",
    "def get_nearest_station(row):\n",
    "    lon = row['hdpData.homeInfo.longitude']\n",
    "    lat = row['hdpData.homeInfo.latitude']\n",
    "    p = Point(lon, lat)\n",
    "    np = nearest_points(p, MultiPoint(station_points))\n",
    "    # Index 0 is the input point, index 1 is the nearest station\n",
    "    nearest_station = stations[(np[1].x, np[1].y)]\n",
    "    return nearest_station\n",
    "\n",
    "data = pd.concat([data, data.apply(get_nearest_station, axis=1, result_type='expand')], axis=1)\n",
    "\n",
    "data[['coords', 'line', 'station', 'neighborhood', 'address']].sample(20)"
   ]
  },
  {
   "cell_type": "code",
   "execution_count": 55,
   "metadata": {},
   "outputs": [
    {
     "data": {
      "text/html": "<div>\n<style scoped>\n    .dataframe tbody tr th:only-of-type {\n        vertical-align: middle;\n    }\n\n    .dataframe tbody tr th {\n        vertical-align: top;\n    }\n\n    .dataframe thead th {\n        text-align: right;\n    }\n</style>\n<table border=\"1\" class=\"dataframe\">\n  <thead>\n    <tr style=\"text-align: right;\">\n      <th></th>\n      <th>hdpData.homeInfo.longitude</th>\n      <th>hdpData.homeInfo.latitude</th>\n      <th>coords</th>\n      <th>stationDistance</th>\n      <th>station</th>\n    </tr>\n  </thead>\n  <tbody>\n    <tr>\n      <th>8277</th>\n      <td>-87.697201</td>\n      <td>41.910411</td>\n      <td>POINT (-87.6873643813982 41.91615742819355)</td>\n      <td>1.076697</td>\n      <td>Western</td>\n    </tr>\n    <tr>\n      <th>3740</th>\n      <td>-87.689293</td>\n      <td>41.819460</td>\n      <td>POINT (-87.68058736862578 41.8295600871101)</td>\n      <td>1.299364</td>\n      <td>35th/Archer</td>\n    </tr>\n    <tr>\n      <th>11275</th>\n      <td>-87.801997</td>\n      <td>41.980827</td>\n      <td>POINT (-87.80889493503285 41.98232336946857)</td>\n      <td>0.579997</td>\n      <td>Harlem</td>\n    </tr>\n    <tr>\n      <th>3783</th>\n      <td>-87.692453</td>\n      <td>41.801862</td>\n      <td>POINT (-87.6840649867607 41.80468355911743)</td>\n      <td>0.774515</td>\n      <td>Western</td>\n    </tr>\n    <tr>\n      <th>2670</th>\n      <td>-87.687252</td>\n      <td>41.764121</td>\n      <td>POINT (-87.66384484844021 41.77895340470035)</td>\n      <td>2.642128</td>\n      <td>Ashland</td>\n    </tr>\n    <tr>\n      <th>3289</th>\n      <td>-87.667910</td>\n      <td>41.794783</td>\n      <td>POINT (-87.66384484844021 41.77895340470035)</td>\n      <td>1.374610</td>\n      <td>Ashland</td>\n    </tr>\n    <tr>\n      <th>7607</th>\n      <td>-87.615103</td>\n      <td>41.893069</td>\n      <td>POINT (-87.62802125739587 41.89166520044598)</td>\n      <td>0.989570</td>\n      <td>Grand</td>\n    </tr>\n    <tr>\n      <th>1364</th>\n      <td>-87.658682</td>\n      <td>41.713128</td>\n      <td>POINT (-87.62441474538349 41.72237598330533)</td>\n      <td>3.006646</td>\n      <td>95/Dan Ryan</td>\n    </tr>\n    <tr>\n      <th>11068</th>\n      <td>-87.644057</td>\n      <td>41.945785</td>\n      <td>POINT (-87.65362593077103 41.94742799653081)</td>\n      <td>0.774678</td>\n      <td>Addison</td>\n    </tr>\n    <tr>\n      <th>11509</th>\n      <td>-87.732884</td>\n      <td>41.965249</td>\n      <td>POINT (-87.74361697430822 41.96148663210283)</td>\n      <td>1.001543</td>\n      <td>Montrose</td>\n    </tr>\n    <tr>\n      <th>3340</th>\n      <td>-87.647567</td>\n      <td>41.800907</td>\n      <td>POINT (-87.63116917003116 41.7954182611776)</td>\n      <td>1.512233</td>\n      <td>Garfield</td>\n    </tr>\n    <tr>\n      <th>2258</th>\n      <td>-87.664593</td>\n      <td>41.761385</td>\n      <td>POINT (-87.66384484844021 41.77895340470035)</td>\n      <td>1.265566</td>\n      <td>Ashland</td>\n    </tr>\n    <tr>\n      <th>11039</th>\n      <td>-87.655803</td>\n      <td>41.952926</td>\n      <td>POINT (-87.65492939219291 41.95377494649394)</td>\n      <td>0.119018</td>\n      <td>Sheridan</td>\n    </tr>\n    <tr>\n      <th>9402</th>\n      <td>-87.716611</td>\n      <td>41.938967</td>\n      <td>POINT (-87.71235935057341 41.93813166884105)</td>\n      <td>0.351480</td>\n      <td>Belmont</td>\n    </tr>\n    <tr>\n      <th>3149</th>\n      <td>-87.781597</td>\n      <td>41.796991</td>\n      <td>POINT (-87.73795637168769 41.78661355009723)</td>\n      <td>3.732330</td>\n      <td>Midway</td>\n    </tr>\n    <tr>\n      <th>1872</th>\n      <td>-87.642030</td>\n      <td>41.723300</td>\n      <td>POINT (-87.62441474538349 41.72237598330533)</td>\n      <td>1.280954</td>\n      <td>95/Dan Ryan</td>\n    </tr>\n    <tr>\n      <th>8632</th>\n      <td>-87.628025</td>\n      <td>41.903744</td>\n      <td>POINT (-87.63141229300709 41.90392031189563)</td>\n      <td>0.246224</td>\n      <td>Clark/Division</td>\n    </tr>\n    <tr>\n      <th>2190</th>\n      <td>-87.731740</td>\n      <td>41.752530</td>\n      <td>POINT (-87.73795637168769 41.78661355009723)</td>\n      <td>2.784487</td>\n      <td>Midway</td>\n    </tr>\n    <tr>\n      <th>9788</th>\n      <td>-87.645481</td>\n      <td>41.937477</td>\n      <td>POINT (-87.65326645004653 41.93603260174326)</td>\n      <td>0.637728</td>\n      <td>Wellington</td>\n    </tr>\n    <tr>\n      <th>5523</th>\n      <td>-87.729158</td>\n      <td>41.864894</td>\n      <td>POINT (-87.725624930077 41.87388872350696)</td>\n      <td>0.865597</td>\n      <td>Pulaski</td>\n    </tr>\n  </tbody>\n</table>\n</div>",
      "text/plain": "       hdpData.homeInfo.longitude  hdpData.homeInfo.latitude  \\\n8277                   -87.697201                  41.910411   \n3740                   -87.689293                  41.819460   \n11275                  -87.801997                  41.980827   \n3783                   -87.692453                  41.801862   \n2670                   -87.687252                  41.764121   \n3289                   -87.667910                  41.794783   \n7607                   -87.615103                  41.893069   \n1364                   -87.658682                  41.713128   \n11068                  -87.644057                  41.945785   \n11509                  -87.732884                  41.965249   \n3340                   -87.647567                  41.800907   \n2258                   -87.664593                  41.761385   \n11039                  -87.655803                  41.952926   \n9402                   -87.716611                  41.938967   \n3149                   -87.781597                  41.796991   \n1872                   -87.642030                  41.723300   \n8632                   -87.628025                  41.903744   \n2190                   -87.731740                  41.752530   \n9788                   -87.645481                  41.937477   \n5523                   -87.729158                  41.864894   \n\n                                             coords  stationDistance  \\\n8277    POINT (-87.6873643813982 41.91615742819355)         1.076697   \n3740    POINT (-87.68058736862578 41.8295600871101)         1.299364   \n11275  POINT (-87.80889493503285 41.98232336946857)         0.579997   \n3783    POINT (-87.6840649867607 41.80468355911743)         0.774515   \n2670   POINT (-87.66384484844021 41.77895340470035)         2.642128   \n3289   POINT (-87.66384484844021 41.77895340470035)         1.374610   \n7607   POINT (-87.62802125739587 41.89166520044598)         0.989570   \n1364   POINT (-87.62441474538349 41.72237598330533)         3.006646   \n11068  POINT (-87.65362593077103 41.94742799653081)         0.774678   \n11509  POINT (-87.74361697430822 41.96148663210283)         1.001543   \n3340    POINT (-87.63116917003116 41.7954182611776)         1.512233   \n2258   POINT (-87.66384484844021 41.77895340470035)         1.265566   \n11039  POINT (-87.65492939219291 41.95377494649394)         0.119018   \n9402   POINT (-87.71235935057341 41.93813166884105)         0.351480   \n3149   POINT (-87.73795637168769 41.78661355009723)         3.732330   \n1872   POINT (-87.62441474538349 41.72237598330533)         1.280954   \n8632   POINT (-87.63141229300709 41.90392031189563)         0.246224   \n2190   POINT (-87.73795637168769 41.78661355009723)         2.784487   \n9788   POINT (-87.65326645004653 41.93603260174326)         0.637728   \n5523     POINT (-87.725624930077 41.87388872350696)         0.865597   \n\n              station  \n8277          Western  \n3740      35th/Archer  \n11275          Harlem  \n3783          Western  \n2670          Ashland  \n3289          Ashland  \n7607            Grand  \n1364      95/Dan Ryan  \n11068         Addison  \n11509        Montrose  \n3340         Garfield  \n2258          Ashland  \n11039        Sheridan  \n9402          Belmont  \n3149           Midway  \n1872      95/Dan Ryan  \n8632   Clark/Division  \n2190           Midway  \n9788       Wellington  \n5523          Pulaski  "
     },
     "execution_count": 55,
     "metadata": {},
     "output_type": "execute_result"
    }
   ],
   "source": [
    "def manhattan_distance(row):\n",
    "    R = 3958.8\n",
    "    home_lon = math.radians(row['hdpData.homeInfo.longitude'])\n",
    "    home_lat = math.radians(row['hdpData.homeInfo.latitude'])\n",
    "    station_lon = math.radians(row['coords'].x)\n",
    "    station_lat = math.radians(row['coords'].y)\n",
    "\n",
    "    # Calculate Haversine distance (https://en.wikipedia.org/wiki/Haversine_formula) \n",
    "    # using Manhattan distance (https://xlinux.nist.gov/dads/HTML/manhattanDistance.html)\n",
    "    return haversine(home_lon, station_lon) + haversine(home_lat, station_lat)\n",
    "\n",
    "def haversine(val1, val2):\n",
    "    R = 3958.8\n",
    "\n",
    "    coord_distance = abs(val1 - val2)\n",
    "    a = sin(coord_distance / 2) ** 2\n",
    "    c = 2 * atan2(sqrt(a), sqrt(1-a))\n",
    "    return R * c\n",
    "\n",
    "data['stationDistance'] = data.apply(manhattan_distance, axis=1)\n",
    "data[['hdpData.homeInfo.longitude', 'hdpData.homeInfo.latitude', 'coords', 'stationDistance', 'station']].sample(20)"
   ]
  },
  {
   "cell_type": "code",
   "execution_count": 56,
   "metadata": {},
   "outputs": [],
   "source": [
    "# save cleaned data\n",
    "data.to_csv('results-7-31-2019-cleaned.csv')"
   ]
  },
  {
   "cell_type": "code",
   "execution_count": null,
   "metadata": {},
   "outputs": [],
   "source": []
  }
 ]
}