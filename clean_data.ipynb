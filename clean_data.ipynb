{
 "nbformat": 4,
 "nbformat_minor": 2,
 "metadata": {
  "language_info": {
   "name": "python",
   "codemirror_mode": {
    "name": "ipython",
    "version": 3
   }
  },
  "orig_nbformat": 2,
  "file_extension": ".py",
  "mimetype": "text/x-python",
  "name": "python",
  "npconvert_exporter": "python",
  "pygments_lexer": "ipython3",
  "version": 3
 },
 "cells": [
  {
   "cell_type": "code",
   "execution_count": 12,
   "metadata": {},
   "outputs": [],
   "source": [
    "import pandas as pd\n",
    "import json\n",
    "from geopy import distance\n",
    "from math import sin, cos, sqrt, atan2\n",
    "from pandas.io.json import json_normalize\n",
    "from shapely.geometry import shape, Point, MultiPoint\n",
    "from shapely.ops import nearest_points"
   ]
  },
  {
   "cell_type": "code",
   "execution_count": 13,
   "metadata": {},
   "outputs": [],
   "source": [
    "with open('./results-7-31-2019.json') as f:\n",
    "    # flatten json structures\n",
    "    data = json_normalize(json.load(f))\n",
    "    # Remove non-Chicago entries\n",
    "    data = data[data['address'].str.contains('Chicago, IL')]"
   ]
  },
  {
   "cell_type": "code",
   "execution_count": 14,
   "metadata": {},
   "outputs": [],
   "source": [
    "with open('./CTA_RailStations.geojson') as f:\n",
    "    stations_geo = json.load(f)"
   ]
  },
  {
   "cell_type": "code",
   "execution_count": 15,
   "metadata": {},
   "outputs": [],
   "source": [
    "with open('./chicago_neighborhoods.geojson') as f:\n",
    "    neighborhoods_geo = json.load(f)"
   ]
  },
  {
   "cell_type": "code",
   "execution_count": 16,
   "metadata": {},
   "outputs": [],
   "source": [
    "# Make the neighborhood json easier to work with\n",
    "neighborhood_polygons = [{'geometry': shape(feature['geometry']), 'properties': feature['properties']} for feature in neighborhoods_geo['features']]"
   ]
  },
  {
   "cell_type": "code",
   "execution_count": 17,
   "metadata": {},
   "outputs": [],
   "source": [
    "def get_neighborhood(row):\n",
    "    lon = row['hdpData.homeInfo.longitude']\n",
    "    lat = row['hdpData.homeInfo.latitude']\n",
    "    hoods = [polygon['properties']['pri_neigh'] for polygon in neighborhood_polygons if polygon['geometry'].contains(Point(lon, lat))]\n",
    "    return hoods[0] if len(hoods) > 0 else None\n",
    "\n",
    "# Add neighborhoods to entries\n",
    "data['neighborhood'] = data.apply(get_neighborhood, axis=1)"
   ]
  },
  {
   "cell_type": "code",
   "execution_count": 18,
   "metadata": {},
   "outputs": [
    {
     "data": {
      "text/html": "<div>\n<style scoped>\n    .dataframe tbody tr th:only-of-type {\n        vertical-align: middle;\n    }\n\n    .dataframe tbody tr th {\n        vertical-align: top;\n    }\n\n    .dataframe thead th {\n        text-align: right;\n    }\n</style>\n<table border=\"1\" class=\"dataframe\">\n  <thead>\n    <tr style=\"text-align: right;\">\n      <th></th>\n      <th>address</th>\n      <th>neighborhood</th>\n    </tr>\n  </thead>\n  <tbody>\n    <tr>\n      <th>11927</th>\n      <td>4950 N Marine Dr APT 1003, Chicago, IL</td>\n      <td>Uptown</td>\n    </tr>\n    <tr>\n      <th>5826</th>\n      <td>1000 S Michigan Ave # 6802, Chicago, IL</td>\n      <td>Loop</td>\n    </tr>\n    <tr>\n      <th>12055</th>\n      <td>5716 N Oriole Ave, Chicago, IL</td>\n      <td>Norwood Park</td>\n    </tr>\n    <tr>\n      <th>8083</th>\n      <td>1842 N Albany Ave, Chicago, IL</td>\n      <td>Logan Square</td>\n    </tr>\n    <tr>\n      <th>1506</th>\n      <td>10414 S Maryland Ave, Chicago, IL</td>\n      <td>Pullman</td>\n    </tr>\n    <tr>\n      <th>8433</th>\n      <td>1747 N Honore St, Chicago, IL</td>\n      <td>Wicker Park</td>\n    </tr>\n    <tr>\n      <th>7552</th>\n      <td>505 N Lake Shore Dr APT 4806, Chicago, IL</td>\n      <td>Streeterville</td>\n    </tr>\n    <tr>\n      <th>8888</th>\n      <td>70 E Scott St APT 607, Chicago, IL</td>\n      <td>Gold Coast</td>\n    </tr>\n    <tr>\n      <th>5894</th>\n      <td>1234 S State St, Chicago, IL</td>\n      <td>Near South Side</td>\n    </tr>\n    <tr>\n      <th>6847</th>\n      <td>1516 W Grand Ave APT 4W, Chicago, IL</td>\n      <td>West Town</td>\n    </tr>\n    <tr>\n      <th>7399</th>\n      <td>8 E Randolph St UNIT 1608, Chicago, IL</td>\n      <td>Loop</td>\n    </tr>\n    <tr>\n      <th>5689</th>\n      <td>780 S Federal St APT 207, Chicago, IL</td>\n      <td>Printers Row</td>\n    </tr>\n    <tr>\n      <th>8443</th>\n      <td>1447 W Blackhawk St # 1, Chicago, IL</td>\n      <td>West Town</td>\n    </tr>\n    <tr>\n      <th>8808</th>\n      <td>1222 N Orleans St, Chicago, IL</td>\n      <td>Old Town</td>\n    </tr>\n    <tr>\n      <th>8388</th>\n      <td>1702 W North Ave UNIT B2, Chicago, IL</td>\n      <td>Wicker Park</td>\n    </tr>\n    <tr>\n      <th>10218</th>\n      <td>3529 N Paris Ave, Chicago, IL</td>\n      <td>Dunning</td>\n    </tr>\n    <tr>\n      <th>11330</th>\n      <td>4913 N Sayre Ave, Chicago, IL</td>\n      <td>Norwood Park</td>\n    </tr>\n    <tr>\n      <th>744</th>\n      <td>11154 S Albany Ave, Chicago, IL</td>\n      <td>Mount Greenwood</td>\n    </tr>\n    <tr>\n      <th>8450</th>\n      <td>1452 N Fairfield Ave, Chicago, IL</td>\n      <td>Humboldt Park</td>\n    </tr>\n    <tr>\n      <th>9159</th>\n      <td>2331 N Sayre Ave APT 2D, Chicago, IL</td>\n      <td>Montclare</td>\n    </tr>\n  </tbody>\n</table>\n</div>",
      "text/plain": "                                         address     neighborhood\n11927     4950 N Marine Dr APT 1003, Chicago, IL           Uptown\n5826     1000 S Michigan Ave # 6802, Chicago, IL             Loop\n12055             5716 N Oriole Ave, Chicago, IL     Norwood Park\n8083              1842 N Albany Ave, Chicago, IL     Logan Square\n1506           10414 S Maryland Ave, Chicago, IL          Pullman\n8433               1747 N Honore St, Chicago, IL      Wicker Park\n7552   505 N Lake Shore Dr APT 4806, Chicago, IL    Streeterville\n8888          70 E Scott St APT 607, Chicago, IL       Gold Coast\n5894                1234 S State St, Chicago, IL  Near South Side\n6847        1516 W Grand Ave APT 4W, Chicago, IL        West Town\n7399      8 E Randolph St UNIT 1608, Chicago, IL             Loop\n5689       780 S Federal St APT 207, Chicago, IL     Printers Row\n8443        1447 W Blackhawk St # 1, Chicago, IL        West Town\n8808              1222 N Orleans St, Chicago, IL         Old Town\n8388       1702 W North Ave UNIT B2, Chicago, IL      Wicker Park\n10218              3529 N Paris Ave, Chicago, IL          Dunning\n11330              4913 N Sayre Ave, Chicago, IL     Norwood Park\n744              11154 S Albany Ave, Chicago, IL  Mount Greenwood\n8450           1452 N Fairfield Ave, Chicago, IL    Humboldt Park\n9159        2331 N Sayre Ave APT 2D, Chicago, IL        Montclare"
     },
     "execution_count": 18,
     "metadata": {},
     "output_type": "execute_result"
    }
   ],
   "source": [
    "# Remove anything not in a neighborhood (probably incorrectly labeled as being in Chicago)\n",
    "data = data[data['neighborhood'].notnull()]\n",
    "data[['address', 'neighborhood']].sample(20)"
   ]
  },
  {
   "cell_type": "code",
   "execution_count": 19,
   "metadata": {},
   "outputs": [],
   "source": [
    "def make_point(point):\n",
    "    lon = point['geometry']['coordinates'][0]\n",
    "    lat = point['geometry']['coordinates'][1]\n",
    "    return (lon, lat), {\n",
    "            'coords': Point(lon, lat),\n",
    "            'line': point['properties']['LINES'],\n",
    "            'station': point['properties']['Name']\n",
    "        }\n",
    "        \n",
    "\n",
    "stations = {make_point(point)[0]: make_point(point)[1] for point in stations_geo['features']}\n",
    "station_points = [station['coords'] for station in stations.values()]"
   ]
  },
  {
   "cell_type": "code",
   "execution_count": 20,
   "metadata": {},
   "outputs": [
    {
     "data": {
      "text/html": "<div>\n<style scoped>\n    .dataframe tbody tr th:only-of-type {\n        vertical-align: middle;\n    }\n\n    .dataframe tbody tr th {\n        vertical-align: top;\n    }\n\n    .dataframe thead th {\n        text-align: right;\n    }\n</style>\n<table border=\"1\" class=\"dataframe\">\n  <thead>\n    <tr style=\"text-align: right;\">\n      <th></th>\n      <th>coords</th>\n      <th>line</th>\n      <th>station</th>\n      <th>neighborhood</th>\n      <th>address</th>\n    </tr>\n  </thead>\n  <tbody>\n    <tr>\n      <th>9354</th>\n      <td>POINT (-87.7085413860205 41.92972804131357)</td>\n      <td>Blue Line</td>\n      <td>Logan Square</td>\n      <td>Avondale</td>\n      <td>2925 N Whipple St UNIT 1, Chicago, IL</td>\n    </tr>\n    <tr>\n      <th>4795</th>\n      <td>POINT (-87.7148802641176 41.85399195400796)</td>\n      <td>Pink</td>\n      <td>Central Park</td>\n      <td>North Lawndale</td>\n      <td>1805 S Trumbull Ave, Chicago, IL</td>\n    </tr>\n    <tr>\n      <th>510</th>\n      <td>POINT (-87.62441474538349 41.72237598330533)</td>\n      <td>Red Line</td>\n      <td>95/Dan Ryan</td>\n      <td>West Pullman</td>\n      <td>11845 S Perry Ave, Chicago, IL</td>\n    </tr>\n    <tr>\n      <th>8421</th>\n      <td>POINT (-87.6873643813982 41.91615742819355)</td>\n      <td>Blue Line (O'Hare)</td>\n      <td>Western</td>\n      <td>Wicker Park</td>\n      <td>1302 N Artesian Ave # E, Chicago, IL</td>\n    </tr>\n    <tr>\n      <th>10184</th>\n      <td>POINT (-87.65313085718887 41.93273150006873)</td>\n      <td>Brown, Purple (Express)</td>\n      <td>Diversey</td>\n      <td>Lake View</td>\n      <td>340 W Diversey Pkwy APT 2018, Chicago, IL</td>\n    </tr>\n    <tr>\n      <th>3850</th>\n      <td>POINT (-87.61850159987594 41.80209158340622)</td>\n      <td>Green Line</td>\n      <td>51st</td>\n      <td>Grand Boulevard</td>\n      <td>650 E 51st St # C, Chicago, IL</td>\n    </tr>\n    <tr>\n      <th>8846</th>\n      <td>POINT (-87.63141229300709 41.90392031189563)</td>\n      <td>Red Line</td>\n      <td>Clark/Division</td>\n      <td>Gold Coast</td>\n      <td>45 E Cedar St APT 200, Chicago, IL</td>\n    </tr>\n    <tr>\n      <th>6623</th>\n      <td>POINT (-87.70615542049478 41.8843210952809)</td>\n      <td>Green Line (Lake)</td>\n      <td>Kedzie</td>\n      <td>Humboldt Park</td>\n      <td>643 N Sawyer Ave, Chicago, IL</td>\n    </tr>\n    <tr>\n      <th>10505</th>\n      <td>POINT (-87.7190993021528 41.94736010155727)</td>\n      <td>Blue Line</td>\n      <td>Addison</td>\n      <td>Irving Park</td>\n      <td>3853 N Kimball Ave, Chicago, IL</td>\n    </tr>\n    <tr>\n      <th>11691</th>\n      <td>POINT (-87.65852996352429 41.97345332194149)</td>\n      <td>Red Line</td>\n      <td>Argyle</td>\n      <td>Uptown</td>\n      <td>1254 W Winnemac Ave # 1N, Chicago, IL</td>\n    </tr>\n    <tr>\n      <th>6023</th>\n      <td>POINT (-87.65945550927005 41.87588563384138)</td>\n      <td>Blue Line</td>\n      <td>Racine</td>\n      <td>West Loop</td>\n      <td>1201 W Adams St APT 1008, Chicago, IL</td>\n    </tr>\n    <tr>\n      <th>3925</th>\n      <td>POINT (-87.60585741747852 41.78030876683156)</td>\n      <td>Green Line</td>\n      <td>Cottage Grove</td>\n      <td>Kenwood</td>\n      <td>5000 S East End Ave APT 12C, Chicago, IL</td>\n    </tr>\n    <tr>\n      <th>5695</th>\n      <td>POINT (-87.65945550927005 41.87588563384138)</td>\n      <td>Blue Line</td>\n      <td>Racine</td>\n      <td>West Loop</td>\n      <td>1117 W Monroe St UNIT 19, Chicago, IL</td>\n    </tr>\n    <tr>\n      <th>8914</th>\n      <td>POINT (-87.63141229300709 41.90392031189563)</td>\n      <td>Red Line</td>\n      <td>Clark/Division</td>\n      <td>Gold Coast</td>\n      <td>1100 N Lake Shore Dr APT 19C, Chicago, IL</td>\n    </tr>\n    <tr>\n      <th>6759</th>\n      <td>POINT (-87.69623421620008 41.88421953068843)</td>\n      <td>Green Line (Lake)</td>\n      <td>California</td>\n      <td>Ukrainian Village</td>\n      <td>2540 W Iowa St, Chicago, IL</td>\n    </tr>\n    <tr>\n      <th>4913</th>\n      <td>POINT (-87.64813110426745 41.84690143993671)</td>\n      <td>Orange Line</td>\n      <td>Halsted</td>\n      <td>Lower West Side</td>\n      <td>1621 S Halsted St, Chicago, IL</td>\n    </tr>\n    <tr>\n      <th>2706</th>\n      <td>POINT (-87.66384484844021 41.77895340470035)</td>\n      <td>Green Line (Englewood)</td>\n      <td>Ashland</td>\n      <td>Chicago Lawn</td>\n      <td>(undisclosed Address), Chicago, IL</td>\n    </tr>\n    <tr>\n      <th>5696</th>\n      <td>POINT (-87.62658988700279 41.86740495869866)</td>\n      <td>Orange &amp; Green Lines</td>\n      <td>Roosevelt</td>\n      <td>Loop</td>\n      <td>1020 S Wabash Ave APT 2A, Chicago, IL</td>\n    </tr>\n    <tr>\n      <th>11291</th>\n      <td>POINT (-87.80889493503285 41.98232336946857)</td>\n      <td>Blue Line (O'Hare)</td>\n      <td>Harlem</td>\n      <td>Norwood Park</td>\n      <td>5471 N Oconto Ave, Chicago, IL</td>\n    </tr>\n    <tr>\n      <th>7119</th>\n      <td>POINT (-87.65521427917493 41.89607523646576)</td>\n      <td>Blue Line</td>\n      <td>Chicago</td>\n      <td>West Town</td>\n      <td>1345 W Huron St APT 2, Chicago, IL</td>\n    </tr>\n  </tbody>\n</table>\n</div>",
      "text/plain": "                                             coords                     line  \\\n9354    POINT (-87.7085413860205 41.92972804131357)                Blue Line   \n4795    POINT (-87.7148802641176 41.85399195400796)                     Pink   \n510    POINT (-87.62441474538349 41.72237598330533)                 Red Line   \n8421    POINT (-87.6873643813982 41.91615742819355)       Blue Line (O'Hare)   \n10184  POINT (-87.65313085718887 41.93273150006873)  Brown, Purple (Express)   \n3850   POINT (-87.61850159987594 41.80209158340622)               Green Line   \n8846   POINT (-87.63141229300709 41.90392031189563)                 Red Line   \n6623    POINT (-87.70615542049478 41.8843210952809)        Green Line (Lake)   \n10505   POINT (-87.7190993021528 41.94736010155727)                Blue Line   \n11691  POINT (-87.65852996352429 41.97345332194149)                 Red Line   \n6023   POINT (-87.65945550927005 41.87588563384138)                Blue Line   \n3925   POINT (-87.60585741747852 41.78030876683156)               Green Line   \n5695   POINT (-87.65945550927005 41.87588563384138)                Blue Line   \n8914   POINT (-87.63141229300709 41.90392031189563)                 Red Line   \n6759   POINT (-87.69623421620008 41.88421953068843)        Green Line (Lake)   \n4913   POINT (-87.64813110426745 41.84690143993671)              Orange Line   \n2706   POINT (-87.66384484844021 41.77895340470035)   Green Line (Englewood)   \n5696   POINT (-87.62658988700279 41.86740495869866)     Orange & Green Lines   \n11291  POINT (-87.80889493503285 41.98232336946857)       Blue Line (O'Hare)   \n7119   POINT (-87.65521427917493 41.89607523646576)                Blue Line   \n\n              station       neighborhood  \\\n9354     Logan Square           Avondale   \n4795     Central Park     North Lawndale   \n510       95/Dan Ryan       West Pullman   \n8421          Western        Wicker Park   \n10184        Diversey          Lake View   \n3850             51st    Grand Boulevard   \n8846   Clark/Division         Gold Coast   \n6623           Kedzie      Humboldt Park   \n10505         Addison        Irving Park   \n11691          Argyle             Uptown   \n6023           Racine          West Loop   \n3925    Cottage Grove            Kenwood   \n5695           Racine          West Loop   \n8914   Clark/Division         Gold Coast   \n6759       California  Ukrainian Village   \n4913          Halsted    Lower West Side   \n2706          Ashland       Chicago Lawn   \n5696        Roosevelt               Loop   \n11291          Harlem       Norwood Park   \n7119          Chicago          West Town   \n\n                                         address  \n9354       2925 N Whipple St UNIT 1, Chicago, IL  \n4795            1805 S Trumbull Ave, Chicago, IL  \n510               11845 S Perry Ave, Chicago, IL  \n8421        1302 N Artesian Ave # E, Chicago, IL  \n10184  340 W Diversey Pkwy APT 2018, Chicago, IL  \n3850              650 E 51st St # C, Chicago, IL  \n8846          45 E Cedar St APT 200, Chicago, IL  \n6623               643 N Sawyer Ave, Chicago, IL  \n10505            3853 N Kimball Ave, Chicago, IL  \n11691      1254 W Winnemac Ave # 1N, Chicago, IL  \n6023       1201 W Adams St APT 1008, Chicago, IL  \n3925    5000 S East End Ave APT 12C, Chicago, IL  \n5695       1117 W Monroe St UNIT 19, Chicago, IL  \n8914   1100 N Lake Shore Dr APT 19C, Chicago, IL  \n6759                 2540 W Iowa St, Chicago, IL  \n4913              1621 S Halsted St, Chicago, IL  \n2706          (undisclosed Address), Chicago, IL  \n5696       1020 S Wabash Ave APT 2A, Chicago, IL  \n11291             5471 N Oconto Ave, Chicago, IL  \n7119          1345 W Huron St APT 2, Chicago, IL  "
     },
     "execution_count": 20,
     "metadata": {},
     "output_type": "execute_result"
    }
   ],
   "source": [
    "# Get nearest CTA stations\n",
    "stations_multipoint = MultiPoint(station_points)\n",
    "def get_nearest_station(row):\n",
    "    lon = row['hdpData.homeInfo.longitude']\n",
    "    lat = row['hdpData.homeInfo.latitude']\n",
    "    p = Point(lon, lat)\n",
    "    np = nearest_points(p, MultiPoint(station_points))\n",
    "    # Index 0 is the input point, index 1 is the nearest station\n",
    "    nearest_station = stations[(np[1].x, np[1].y)]\n",
    "    return nearest_station\n",
    "\n",
    "data = pd.concat([data, data.apply(get_nearest_station, axis=1, result_type='expand')], axis=1)\n",
    "\n",
    "data[['coords', 'line', 'station', 'neighborhood', 'address']].sample(20)"
   ]
  },
  {
   "cell_type": "code",
   "execution_count": 21,
   "metadata": {},
   "outputs": [
    {
     "data": {
      "text/html": "<div>\n<style scoped>\n    .dataframe tbody tr th:only-of-type {\n        vertical-align: middle;\n    }\n\n    .dataframe tbody tr th {\n        vertical-align: top;\n    }\n\n    .dataframe thead th {\n        text-align: right;\n    }\n</style>\n<table border=\"1\" class=\"dataframe\">\n  <thead>\n    <tr style=\"text-align: right;\">\n      <th></th>\n      <th>hdpData.homeInfo.longitude</th>\n      <th>hdpData.homeInfo.latitude</th>\n      <th>coords</th>\n      <th>stationDistance</th>\n      <th>station</th>\n    </tr>\n  </thead>\n  <tbody>\n    <tr>\n      <th>2774</th>\n      <td>-87.658720</td>\n      <td>41.769082</td>\n      <td>POINT (-87.66384484844021 41.77895340470035)</td>\n      <td>0.946060</td>\n      <td>Ashland</td>\n    </tr>\n    <tr>\n      <th>4039</th>\n      <td>-87.602052</td>\n      <td>41.817741</td>\n      <td>POINT (-87.61903578127783 41.81646322193995)</td>\n      <td>0.965020</td>\n      <td>43rd</td>\n    </tr>\n    <tr>\n      <th>5937</th>\n      <td>-87.625378</td>\n      <td>41.868581</td>\n      <td>POINT (-87.62658988700279 41.86740495869866)</td>\n      <td>0.143683</td>\n      <td>Roosevelt</td>\n    </tr>\n    <tr>\n      <th>7032</th>\n      <td>-87.654808</td>\n      <td>41.898323</td>\n      <td>POINT (-87.65521427917493 41.89607523646576)</td>\n      <td>0.176082</td>\n      <td>Chicago</td>\n    </tr>\n    <tr>\n      <th>7482</th>\n      <td>-87.618799</td>\n      <td>41.887493</td>\n      <td>POINT (-87.62618878473235 41.88322001199881)</td>\n      <td>0.676010</td>\n      <td>Washington/Wabash</td>\n    </tr>\n    <tr>\n      <th>5544</th>\n      <td>-87.693407</td>\n      <td>41.876511</td>\n      <td>POINT (-87.68843451104553 41.87552957304013)</td>\n      <td>0.324218</td>\n      <td>Western</td>\n    </tr>\n    <tr>\n      <th>3837</th>\n      <td>-87.659258</td>\n      <td>41.803863</td>\n      <td>POINT (-87.6840649867607 41.80468355911743)</td>\n      <td>1.337636</td>\n      <td>Western</td>\n    </tr>\n    <tr>\n      <th>8096</th>\n      <td>-87.708807</td>\n      <td>41.906193</td>\n      <td>POINT (-87.69688979878789 41.92193917056461)</td>\n      <td>1.701159</td>\n      <td>California</td>\n    </tr>\n    <tr>\n      <th>6691</th>\n      <td>-87.709800</td>\n      <td>41.885117</td>\n      <td>POINT (-87.70615542049478 41.8843210952809)</td>\n      <td>0.242894</td>\n      <td>Kedzie</td>\n    </tr>\n    <tr>\n      <th>4812</th>\n      <td>-87.672074</td>\n      <td>41.858364</td>\n      <td>POINT (-87.66916012488008 41.85790770749379)</td>\n      <td>0.181833</td>\n      <td>18th</td>\n    </tr>\n    <tr>\n      <th>456</th>\n      <td>-87.629558</td>\n      <td>41.680030</td>\n      <td>POINT (-87.62441474538349 41.72237598330533)</td>\n      <td>3.188574</td>\n      <td>95/Dan Ryan</td>\n    </tr>\n    <tr>\n      <th>1873</th>\n      <td>-87.642071</td>\n      <td>41.736842</td>\n      <td>POINT (-87.62475307324942 41.73537121043779)</td>\n      <td>0.996715</td>\n      <td>87th</td>\n    </tr>\n    <tr>\n      <th>5817</th>\n      <td>-87.621987</td>\n      <td>41.867006</td>\n      <td>POINT (-87.62658988700279 41.86740495869866)</td>\n      <td>0.264989</td>\n      <td>Roosevelt</td>\n    </tr>\n    <tr>\n      <th>4454</th>\n      <td>-87.632754</td>\n      <td>41.822445</td>\n      <td>POINT (-87.63063629512068 41.83119055925151)</td>\n      <td>0.712905</td>\n      <td>Sox-35th</td>\n    </tr>\n    <tr>\n      <th>8169</th>\n      <td>-87.662121</td>\n      <td>41.904666</td>\n      <td>POINT (-87.66649606690224 41.90335508455351)</td>\n      <td>0.316044</td>\n      <td>Division</td>\n    </tr>\n    <tr>\n      <th>8257</th>\n      <td>-87.674133</td>\n      <td>41.907102</td>\n      <td>POINT (-87.67743665449984 41.9097437915267)</td>\n      <td>0.352650</td>\n      <td>Damen</td>\n    </tr>\n    <tr>\n      <th>6717</th>\n      <td>-87.668990</td>\n      <td>41.900709</td>\n      <td>POINT (-87.66649606690224 41.90335508455351)</td>\n      <td>0.311213</td>\n      <td>Division</td>\n    </tr>\n    <tr>\n      <th>10426</th>\n      <td>-87.753663</td>\n      <td>41.952653</td>\n      <td>POINT (-87.74361697430822 41.96148663210283)</td>\n      <td>1.127236</td>\n      <td>Montrose</td>\n    </tr>\n    <tr>\n      <th>3345</th>\n      <td>-87.646439</td>\n      <td>41.800914</td>\n      <td>POINT (-87.63116917003116 41.7954182611776)</td>\n      <td>1.167843</td>\n      <td>Garfield</td>\n    </tr>\n    <tr>\n      <th>5608</th>\n      <td>-87.667329</td>\n      <td>41.879460</td>\n      <td>POINT (-87.66695093661281 41.88531139464179)</td>\n      <td>0.423342</td>\n      <td>Ashland</td>\n    </tr>\n  </tbody>\n</table>\n</div>",
      "text/plain": "       hdpData.homeInfo.longitude  hdpData.homeInfo.latitude  \\\n2774                   -87.658720                  41.769082   \n4039                   -87.602052                  41.817741   \n5937                   -87.625378                  41.868581   \n7032                   -87.654808                  41.898323   \n7482                   -87.618799                  41.887493   \n5544                   -87.693407                  41.876511   \n3837                   -87.659258                  41.803863   \n8096                   -87.708807                  41.906193   \n6691                   -87.709800                  41.885117   \n4812                   -87.672074                  41.858364   \n456                    -87.629558                  41.680030   \n1873                   -87.642071                  41.736842   \n5817                   -87.621987                  41.867006   \n4454                   -87.632754                  41.822445   \n8169                   -87.662121                  41.904666   \n8257                   -87.674133                  41.907102   \n6717                   -87.668990                  41.900709   \n10426                  -87.753663                  41.952653   \n3345                   -87.646439                  41.800914   \n5608                   -87.667329                  41.879460   \n\n                                             coords  stationDistance  \\\n2774   POINT (-87.66384484844021 41.77895340470035)         0.946060   \n4039   POINT (-87.61903578127783 41.81646322193995)         0.965020   \n5937   POINT (-87.62658988700279 41.86740495869866)         0.143683   \n7032   POINT (-87.65521427917493 41.89607523646576)         0.176082   \n7482   POINT (-87.62618878473235 41.88322001199881)         0.676010   \n5544   POINT (-87.68843451104553 41.87552957304013)         0.324218   \n3837    POINT (-87.6840649867607 41.80468355911743)         1.337636   \n8096   POINT (-87.69688979878789 41.92193917056461)         1.701159   \n6691    POINT (-87.70615542049478 41.8843210952809)         0.242894   \n4812   POINT (-87.66916012488008 41.85790770749379)         0.181833   \n456    POINT (-87.62441474538349 41.72237598330533)         3.188574   \n1873   POINT (-87.62475307324942 41.73537121043779)         0.996715   \n5817   POINT (-87.62658988700279 41.86740495869866)         0.264989   \n4454   POINT (-87.63063629512068 41.83119055925151)         0.712905   \n8169   POINT (-87.66649606690224 41.90335508455351)         0.316044   \n8257    POINT (-87.67743665449984 41.9097437915267)         0.352650   \n6717   POINT (-87.66649606690224 41.90335508455351)         0.311213   \n10426  POINT (-87.74361697430822 41.96148663210283)         1.127236   \n3345    POINT (-87.63116917003116 41.7954182611776)         1.167843   \n5608   POINT (-87.66695093661281 41.88531139464179)         0.423342   \n\n                 station  \n2774             Ashland  \n4039                43rd  \n5937           Roosevelt  \n7032             Chicago  \n7482   Washington/Wabash  \n5544             Western  \n3837             Western  \n8096          California  \n6691              Kedzie  \n4812                18th  \n456          95/Dan Ryan  \n1873                87th  \n5817           Roosevelt  \n4454            Sox-35th  \n8169            Division  \n8257               Damen  \n6717            Division  \n10426           Montrose  \n3345            Garfield  \n5608             Ashland  "
     },
     "execution_count": 21,
     "metadata": {},
     "output_type": "execute_result"
    }
   ],
   "source": [
    "def manhattan_distance(row):\n",
    "    home_lon = row['hdpData.homeInfo.longitude']\n",
    "    home_lat = row['hdpData.homeInfo.latitude']\n",
    "    station_lon = row['coords'].x\n",
    "    station_lat = row['coords'].y\n",
    "\n",
    "    # Calculate Haversine distance (https://en.wikipedia.org/wiki/Haversine_formula) \n",
    "    # using Manhattan distance (https://xlinux.nist.gov/dads/HTML/manhattanDistance.html)\n",
    "    return distance.distance((home_lat, home_lon), (station_lat, home_lon)).miles + \\\n",
    "        distance.distance((home_lat, home_lon), (home_lat, station_lon)).miles\n",
    "\n",
    "data['stationDistance'] = data.apply(manhattan_distance, axis=1)\n",
    "data[['hdpData.homeInfo.longitude', 'hdpData.homeInfo.latitude', 'coords', 'stationDistance', 'station']].sample(20)"
   ]
  },
  {
   "cell_type": "code",
   "execution_count": 22,
   "metadata": {},
   "outputs": [],
   "source": [
    "# save cleaned data\n",
    "data.to_csv('results-7-31-2019-cleaned.csv')"
   ]
  },
  {
   "cell_type": "code",
   "execution_count": null,
   "metadata": {},
   "outputs": [],
   "source": []
  }
 ]
}