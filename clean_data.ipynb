{
 "nbformat": 4,
 "nbformat_minor": 2,
 "metadata": {
  "language_info": {
   "name": "python",
   "codemirror_mode": {
    "name": "ipython",
    "version": 3
   }
  },
  "orig_nbformat": 2,
  "file_extension": ".py",
  "mimetype": "text/x-python",
  "name": "python",
  "npconvert_exporter": "python",
  "pygments_lexer": "ipython3",
  "version": 3
 },
 "cells": [
  {
   "cell_type": "code",
   "execution_count": 123,
   "metadata": {},
   "outputs": [],
   "source": [
    "import pandas as pd\n",
    "import json\n",
    "from numpy import nan\n",
    "from geopy import distance\n",
    "from pandas.io.json import json_normalize\n",
    "from shapely.geometry import shape, Point, MultiPoint\n",
    "from shapely.ops import nearest_points"
   ]
  },
  {
   "cell_type": "code",
   "execution_count": 124,
   "metadata": {},
   "outputs": [],
   "source": [
    "with open('./results-7-31-2019.json') as f:\n",
    "    # flatten json structures\n",
    "    data = json_normalize(json.load(f))\n",
    "    # Remove non-Chicago entries\n",
    "    data = data[data['address'].str.contains('Chicago, IL')]"
   ]
  },
  {
   "cell_type": "code",
   "execution_count": 125,
   "metadata": {},
   "outputs": [],
   "source": [
    "data = data.rename(columns={\n",
    "    'latLong.longitude': 'lon', \n",
    "    'latLong.latitude': 'lat',\n",
    "    'hdpData.homeInfo.yearBuilt': 'yearBuilt',\n",
    "    'hdpData.homeInfo.homeType': 'homeType'\n",
    "    }, errors='raise')"
   ]
  },
  {
   "cell_type": "code",
   "execution_count": 126,
   "metadata": {},
   "outputs": [],
   "source": [
    "data = data[['price', 'beds', 'baths', 'area', 'lat', 'lon', 'yearBuilt', 'homeType']]"
   ]
  },
  {
   "cell_type": "code",
   "execution_count": 127,
   "metadata": {},
   "outputs": [],
   "source": [
    "with open('./CTA_RailStations.geojson') as f:\n",
    "    stations_geo = json.load(f)"
   ]
  },
  {
   "cell_type": "code",
   "execution_count": 128,
   "metadata": {},
   "outputs": [],
   "source": [
    "with open('./chicago_neighborhoods.geojson') as f:\n",
    "    neighborhoods_geo = json.load(f)"
   ]
  },
  {
   "cell_type": "code",
   "execution_count": 129,
   "metadata": {},
   "outputs": [],
   "source": [
    "# Make the neighborhood json easier to work with\n",
    "neighborhood_polygons = [{'geometry': shape(feature['geometry']), 'properties': feature['properties']} for feature in neighborhoods_geo['features']]"
   ]
  },
  {
   "cell_type": "code",
   "execution_count": 130,
   "metadata": {},
   "outputs": [],
   "source": [
    "def get_neighborhood(row):\n",
    "    lon = row['lon']\n",
    "    lat = row['lat']\n",
    "    hoods = [polygon['properties']['pri_neigh'] for polygon in neighborhood_polygons if polygon['geometry'].contains(Point(lon, lat))]\n",
    "    return hoods[0] if len(hoods) > 0 else None\n",
    "\n",
    "# Add neighborhoods to entries\n",
    "data['neighborhood'] = data.apply(get_neighborhood, axis=1)"
   ]
  },
  {
   "cell_type": "code",
   "execution_count": 131,
   "metadata": {},
   "outputs": [
    {
     "data": {
      "text/html": "<div>\n<style scoped>\n    .dataframe tbody tr th:only-of-type {\n        vertical-align: middle;\n    }\n\n    .dataframe tbody tr th {\n        vertical-align: top;\n    }\n\n    .dataframe thead th {\n        text-align: right;\n    }\n</style>\n<table border=\"1\" class=\"dataframe\">\n  <thead>\n    <tr style=\"text-align: right;\">\n      <th></th>\n      <th>lat</th>\n      <th>lon</th>\n      <th>neighborhood</th>\n    </tr>\n  </thead>\n  <tbody>\n    <tr>\n      <th>12287</th>\n      <td>41.997712</td>\n      <td>-87.674043</td>\n      <td>Edgewater</td>\n    </tr>\n    <tr>\n      <th>9420</th>\n      <td>41.923879</td>\n      <td>-87.722731</td>\n      <td>Logan Square</td>\n    </tr>\n    <tr>\n      <th>506</th>\n      <td>41.674874</td>\n      <td>-87.627029</td>\n      <td>West Pullman</td>\n    </tr>\n    <tr>\n      <th>4444</th>\n      <td>41.835859</td>\n      <td>-87.638049</td>\n      <td>Bridgeport</td>\n    </tr>\n    <tr>\n      <th>11109</th>\n      <td>41.942484</td>\n      <td>-87.656263</td>\n      <td>Lake View</td>\n    </tr>\n    <tr>\n      <th>8841</th>\n      <td>41.899792</td>\n      <td>-87.628724</td>\n      <td>Rush &amp; Division</td>\n    </tr>\n    <tr>\n      <th>6905</th>\n      <td>41.900465</td>\n      <td>-87.695925</td>\n      <td>Humboldt Park</td>\n    </tr>\n    <tr>\n      <th>5720</th>\n      <td>41.871161</td>\n      <td>-87.656482</td>\n      <td>Little Italy, UIC</td>\n    </tr>\n    <tr>\n      <th>834</th>\n      <td>41.693623</td>\n      <td>-87.623477</td>\n      <td>Roseland</td>\n    </tr>\n    <tr>\n      <th>6571</th>\n      <td>41.882670</td>\n      <td>-87.751420</td>\n      <td>Austin</td>\n    </tr>\n    <tr>\n      <th>2195</th>\n      <td>41.754873</td>\n      <td>-87.711620</td>\n      <td>Ashburn</td>\n    </tr>\n    <tr>\n      <th>9623</th>\n      <td>41.924464</td>\n      <td>-87.662951</td>\n      <td>Lincoln Park</td>\n    </tr>\n    <tr>\n      <th>3327</th>\n      <td>41.792367</td>\n      <td>-87.664939</td>\n      <td>Englewood</td>\n    </tr>\n    <tr>\n      <th>2717</th>\n      <td>41.765324</td>\n      <td>-87.690250</td>\n      <td>Chicago Lawn</td>\n    </tr>\n    <tr>\n      <th>9798</th>\n      <td>41.922993</td>\n      <td>-87.644771</td>\n      <td>Lincoln Park</td>\n    </tr>\n    <tr>\n      <th>2383</th>\n      <td>41.745199</td>\n      <td>-87.592039</td>\n      <td>Avalon Park</td>\n    </tr>\n    <tr>\n      <th>2396</th>\n      <td>41.744504</td>\n      <td>-87.603426</td>\n      <td>Chatham</td>\n    </tr>\n    <tr>\n      <th>12648</th>\n      <td>42.003109</td>\n      <td>-87.808300</td>\n      <td>Edison Park</td>\n    </tr>\n    <tr>\n      <th>12909</th>\n      <td>42.016726</td>\n      <td>-87.671281</td>\n      <td>Rogers Park</td>\n    </tr>\n    <tr>\n      <th>10071</th>\n      <td>41.922045</td>\n      <td>-87.642498</td>\n      <td>Lincoln Park</td>\n    </tr>\n  </tbody>\n</table>\n</div>",
      "text/plain": "             lat        lon       neighborhood\n12287  41.997712 -87.674043          Edgewater\n9420   41.923879 -87.722731       Logan Square\n506    41.674874 -87.627029       West Pullman\n4444   41.835859 -87.638049         Bridgeport\n11109  41.942484 -87.656263          Lake View\n8841   41.899792 -87.628724    Rush & Division\n6905   41.900465 -87.695925      Humboldt Park\n5720   41.871161 -87.656482  Little Italy, UIC\n834    41.693623 -87.623477           Roseland\n6571   41.882670 -87.751420             Austin\n2195   41.754873 -87.711620            Ashburn\n9623   41.924464 -87.662951       Lincoln Park\n3327   41.792367 -87.664939          Englewood\n2717   41.765324 -87.690250       Chicago Lawn\n9798   41.922993 -87.644771       Lincoln Park\n2383   41.745199 -87.592039        Avalon Park\n2396   41.744504 -87.603426            Chatham\n12648  42.003109 -87.808300        Edison Park\n12909  42.016726 -87.671281        Rogers Park\n10071  41.922045 -87.642498       Lincoln Park"
     },
     "execution_count": 131,
     "metadata": {},
     "output_type": "execute_result"
    }
   ],
   "source": [
    "# Remove anything not in a neighborhood (probably incorrectly labeled as being in Chicago)\n",
    "data = data[data['neighborhood'].notnull()]\n",
    "data[['lat', 'lon', 'neighborhood']].sample(20)"
   ]
  },
  {
   "cell_type": "code",
   "execution_count": 132,
   "metadata": {},
   "outputs": [
    {
     "name": "stdout",
     "output_type": "stream",
     "text": "Records before drop: (9758, 9)\nRecords after drop: (7142, 9)\n"
    },
    {
     "data": {
      "text/html": "<div>\n<style scoped>\n    .dataframe tbody tr th:only-of-type {\n        vertical-align: middle;\n    }\n\n    .dataframe tbody tr th {\n        vertical-align: top;\n    }\n\n    .dataframe thead th {\n        text-align: right;\n    }\n</style>\n<table border=\"1\" class=\"dataframe\">\n  <thead>\n    <tr style=\"text-align: right;\">\n      <th></th>\n      <th>price</th>\n      <th>beds</th>\n      <th>baths</th>\n      <th>area</th>\n      <th>lat</th>\n      <th>lon</th>\n      <th>yearBuilt</th>\n      <th>homeType</th>\n      <th>neighborhood</th>\n    </tr>\n  </thead>\n  <tbody>\n    <tr>\n      <th>11880</th>\n      <td>188000.0</td>\n      <td>1.0</td>\n      <td>1.0</td>\n      <td>800.0</td>\n      <td>41.979076</td>\n      <td>-87.655460</td>\n      <td>1984</td>\n      <td>MULTI_FAMILY</td>\n      <td>Edgewater</td>\n    </tr>\n    <tr>\n      <th>2455</th>\n      <td>74000.0</td>\n      <td>6.0</td>\n      <td>2.0</td>\n      <td>2400.0</td>\n      <td>41.761545</td>\n      <td>-87.597305</td>\n      <td>1895</td>\n      <td>MULTI_FAMILY</td>\n      <td>Grand Crossing</td>\n    </tr>\n    <tr>\n      <th>5866</th>\n      <td>319900.0</td>\n      <td>1.0</td>\n      <td>2.0</td>\n      <td>817.0</td>\n      <td>41.878330</td>\n      <td>-87.642109</td>\n      <td>2009</td>\n      <td>CONDO</td>\n      <td>West Loop</td>\n    </tr>\n    <tr>\n      <th>1907</th>\n      <td>199900.0</td>\n      <td>4.0</td>\n      <td>1.5</td>\n      <td>902.0</td>\n      <td>41.732959</td>\n      <td>-87.658978</td>\n      <td>1913</td>\n      <td>SINGLE_FAMILY</td>\n      <td>Auburn Gresham</td>\n    </tr>\n    <tr>\n      <th>8057</th>\n      <td>289900.0</td>\n      <td>4.0</td>\n      <td>2.0</td>\n      <td>1000.0</td>\n      <td>41.907902</td>\n      <td>-87.724893</td>\n      <td>1955</td>\n      <td>SINGLE_FAMILY</td>\n      <td>Humboldt Park</td>\n    </tr>\n    <tr>\n      <th>7001</th>\n      <td>489000.0</td>\n      <td>3.0</td>\n      <td>2.0</td>\n      <td>2000.0</td>\n      <td>41.893103</td>\n      <td>-87.648938</td>\n      <td>1996</td>\n      <td>TOWNHOUSE</td>\n      <td>West Town</td>\n    </tr>\n    <tr>\n      <th>9310</th>\n      <td>299000.0</td>\n      <td>4.0</td>\n      <td>2.0</td>\n      <td>1300.0</td>\n      <td>41.934205</td>\n      <td>-87.711125</td>\n      <td>1960</td>\n      <td>SINGLE_FAMILY</td>\n      <td>Avondale</td>\n    </tr>\n    <tr>\n      <th>2516</th>\n      <td>298000.0</td>\n      <td>3.0</td>\n      <td>2.0</td>\n      <td>1100.0</td>\n      <td>41.775385</td>\n      <td>-87.794704</td>\n      <td>1964</td>\n      <td>SINGLE_FAMILY</td>\n      <td>Clearing</td>\n    </tr>\n    <tr>\n      <th>2591</th>\n      <td>145000.0</td>\n      <td>5.0</td>\n      <td>2.0</td>\n      <td>900.0</td>\n      <td>41.773121</td>\n      <td>-87.711357</td>\n      <td>1922</td>\n      <td>SINGLE_FAMILY</td>\n      <td>Chicago Lawn</td>\n    </tr>\n    <tr>\n      <th>2452</th>\n      <td>100026.0</td>\n      <td>4.0</td>\n      <td>2.0</td>\n      <td>1634.0</td>\n      <td>41.757442</td>\n      <td>-87.604402</td>\n      <td>1885</td>\n      <td>SINGLE_FAMILY</td>\n      <td>Grand Crossing</td>\n    </tr>\n    <tr>\n      <th>9237</th>\n      <td>384900.0</td>\n      <td>6.0</td>\n      <td>3.0</td>\n      <td>1693.0</td>\n      <td>41.941230</td>\n      <td>-87.752304</td>\n      <td>1950</td>\n      <td>SINGLE_FAMILY</td>\n      <td>Portage Park</td>\n    </tr>\n    <tr>\n      <th>2583</th>\n      <td>244900.0</td>\n      <td>4.0</td>\n      <td>2.0</td>\n      <td>1728.0</td>\n      <td>41.770102</td>\n      <td>-87.730723</td>\n      <td>1949</td>\n      <td>SINGLE_FAMILY</td>\n      <td>West Lawn</td>\n    </tr>\n    <tr>\n      <th>4356</th>\n      <td>399000.0</td>\n      <td>3.0</td>\n      <td>3.0</td>\n      <td>2200.0</td>\n      <td>41.825572</td>\n      <td>-87.693999</td>\n      <td>2019</td>\n      <td>TOWNHOUSE</td>\n      <td>Brighton Park</td>\n    </tr>\n    <tr>\n      <th>9335</th>\n      <td>689000.0</td>\n      <td>3.0</td>\n      <td>4.0</td>\n      <td>2600.0</td>\n      <td>41.922391</td>\n      <td>-87.717800</td>\n      <td>2018</td>\n      <td>SINGLE_FAMILY</td>\n      <td>Logan Square</td>\n    </tr>\n    <tr>\n      <th>9227</th>\n      <td>312900.0</td>\n      <td>6.0</td>\n      <td>3.0</td>\n      <td>1873.0</td>\n      <td>41.939369</td>\n      <td>-87.755212</td>\n      <td>1923</td>\n      <td>SINGLE_FAMILY</td>\n      <td>Portage Park</td>\n    </tr>\n    <tr>\n      <th>8082</th>\n      <td>995000.0</td>\n      <td>4.0</td>\n      <td>3.5</td>\n      <td>3100.0</td>\n      <td>41.916766</td>\n      <td>-87.706033</td>\n      <td>2019</td>\n      <td>SINGLE_FAMILY</td>\n      <td>Logan Square</td>\n    </tr>\n    <tr>\n      <th>3888</th>\n      <td>250000.0</td>\n      <td>5.0</td>\n      <td>3.0</td>\n      <td>3240.0</td>\n      <td>41.811860</td>\n      <td>-87.615655</td>\n      <td>1883</td>\n      <td>MULTI_FAMILY</td>\n      <td>Grand Boulevard</td>\n    </tr>\n    <tr>\n      <th>1905</th>\n      <td>112200.0</td>\n      <td>3.0</td>\n      <td>1.0</td>\n      <td>1272.0</td>\n      <td>41.738714</td>\n      <td>-87.646990</td>\n      <td>1921</td>\n      <td>SINGLE_FAMILY</td>\n      <td>Auburn Gresham</td>\n    </tr>\n    <tr>\n      <th>1339</th>\n      <td>189900.0</td>\n      <td>3.0</td>\n      <td>1.0</td>\n      <td>1235.0</td>\n      <td>41.717199</td>\n      <td>-87.658020</td>\n      <td>1924</td>\n      <td>SINGLE_FAMILY</td>\n      <td>Washington Heights</td>\n    </tr>\n    <tr>\n      <th>10168</th>\n      <td>375000.0</td>\n      <td>2.0</td>\n      <td>1.0</td>\n      <td>1100.0</td>\n      <td>41.923565</td>\n      <td>-87.663613</td>\n      <td>1925</td>\n      <td>CONDO</td>\n      <td>Lincoln Park</td>\n    </tr>\n  </tbody>\n</table>\n</div>",
      "text/plain": "          price  beds  baths    area        lat        lon  yearBuilt  \\\n11880  188000.0   1.0    1.0   800.0  41.979076 -87.655460       1984   \n2455    74000.0   6.0    2.0  2400.0  41.761545 -87.597305       1895   \n5866   319900.0   1.0    2.0   817.0  41.878330 -87.642109       2009   \n1907   199900.0   4.0    1.5   902.0  41.732959 -87.658978       1913   \n8057   289900.0   4.0    2.0  1000.0  41.907902 -87.724893       1955   \n7001   489000.0   3.0    2.0  2000.0  41.893103 -87.648938       1996   \n9310   299000.0   4.0    2.0  1300.0  41.934205 -87.711125       1960   \n2516   298000.0   3.0    2.0  1100.0  41.775385 -87.794704       1964   \n2591   145000.0   5.0    2.0   900.0  41.773121 -87.711357       1922   \n2452   100026.0   4.0    2.0  1634.0  41.757442 -87.604402       1885   \n9237   384900.0   6.0    3.0  1693.0  41.941230 -87.752304       1950   \n2583   244900.0   4.0    2.0  1728.0  41.770102 -87.730723       1949   \n4356   399000.0   3.0    3.0  2200.0  41.825572 -87.693999       2019   \n9335   689000.0   3.0    4.0  2600.0  41.922391 -87.717800       2018   \n9227   312900.0   6.0    3.0  1873.0  41.939369 -87.755212       1923   \n8082   995000.0   4.0    3.5  3100.0  41.916766 -87.706033       2019   \n3888   250000.0   5.0    3.0  3240.0  41.811860 -87.615655       1883   \n1905   112200.0   3.0    1.0  1272.0  41.738714 -87.646990       1921   \n1339   189900.0   3.0    1.0  1235.0  41.717199 -87.658020       1924   \n10168  375000.0   2.0    1.0  1100.0  41.923565 -87.663613       1925   \n\n            homeType        neighborhood  \n11880   MULTI_FAMILY           Edgewater  \n2455    MULTI_FAMILY      Grand Crossing  \n5866           CONDO           West Loop  \n1907   SINGLE_FAMILY      Auburn Gresham  \n8057   SINGLE_FAMILY       Humboldt Park  \n7001       TOWNHOUSE           West Town  \n9310   SINGLE_FAMILY            Avondale  \n2516   SINGLE_FAMILY            Clearing  \n2591   SINGLE_FAMILY        Chicago Lawn  \n2452   SINGLE_FAMILY      Grand Crossing  \n9237   SINGLE_FAMILY        Portage Park  \n2583   SINGLE_FAMILY           West Lawn  \n4356       TOWNHOUSE       Brighton Park  \n9335   SINGLE_FAMILY        Logan Square  \n9227   SINGLE_FAMILY        Portage Park  \n8082   SINGLE_FAMILY        Logan Square  \n3888    MULTI_FAMILY     Grand Boulevard  \n1905   SINGLE_FAMILY      Auburn Gresham  \n1339   SINGLE_FAMILY  Washington Heights  \n10168          CONDO        Lincoln Park  "
     },
     "execution_count": 132,
     "metadata": {},
     "output_type": "execute_result"
    }
   ],
   "source": [
    "# Convert prices to ints, drop any entries without prices\n",
    "data['price'] = data.apply(lambda row: nan if (price:=row['price'].replace('$', '').replace(',', '')) == '' else int(price), axis=1)\n",
    "\n",
    "print(f'Records before drop: {data.shape}')\n",
    "data = data.dropna()\n",
    "data = data[data['yearBuilt'] > 0]\n",
    "print(f'Records after drop: {data.shape}')\n",
    "data.sample(20)"
   ]
  },
  {
   "cell_type": "code",
   "execution_count": 133,
   "metadata": {},
   "outputs": [],
   "source": [
    "def make_point(point):\n",
    "    lon = point['geometry']['coordinates'][0]\n",
    "    lat = point['geometry']['coordinates'][1]\n",
    "    return (lon, lat), {\n",
    "            'coords': Point(lon, lat),\n",
    "            'line': point['properties']['LINES'],\n",
    "            'station': point['properties']['Name']\n",
    "        }\n",
    "        \n",
    "\n",
    "stations = {(p:=make_point(point))[0]: p[1] for point in stations_geo['features']}\n",
    "station_points = [station['coords'] for station in stations.values()]"
   ]
  },
  {
   "cell_type": "code",
   "execution_count": 134,
   "metadata": {},
   "outputs": [
    {
     "data": {
      "text/html": "<div>\n<style scoped>\n    .dataframe tbody tr th:only-of-type {\n        vertical-align: middle;\n    }\n\n    .dataframe tbody tr th {\n        vertical-align: top;\n    }\n\n    .dataframe thead th {\n        text-align: right;\n    }\n</style>\n<table border=\"1\" class=\"dataframe\">\n  <thead>\n    <tr style=\"text-align: right;\">\n      <th></th>\n      <th>coords</th>\n      <th>line</th>\n      <th>station</th>\n      <th>neighborhood</th>\n    </tr>\n  </thead>\n  <tbody>\n    <tr>\n      <th>6071</th>\n      <td>POINT (-87.62658988700279 41.86740495869866)</td>\n      <td>Orange &amp; Green Lines</td>\n      <td>Roosevelt</td>\n      <td>Near South Side</td>\n    </tr>\n    <tr>\n      <th>11116</th>\n      <td>POINT (-87.65362593077103 41.94742799653081)</td>\n      <td>Red Line</td>\n      <td>Addison</td>\n      <td>Lake View</td>\n    </tr>\n    <tr>\n      <th>5542</th>\n      <td>POINT (-87.66954322799872 41.87156300339059)</td>\n      <td>Pink</td>\n      <td>Polk</td>\n      <td>Little Italy, UIC</td>\n    </tr>\n    <tr>\n      <th>5021</th>\n      <td>POINT (-87.62640238492894 41.85311508247467)</td>\n      <td>Green Line</td>\n      <td>Cermak-McCormick Pl</td>\n      <td>Near South Side</td>\n    </tr>\n    <tr>\n      <th>11684</th>\n      <td>POINT (-87.67863488433055 41.96641097182644)</td>\n      <td>Brown Line</td>\n      <td>Damen</td>\n      <td>Lincoln Square</td>\n    </tr>\n    <tr>\n      <th>8042</th>\n      <td>POINT (-87.72540376831816 41.88541197876197)</td>\n      <td>Green Line (Lake)</td>\n      <td>Pulaski</td>\n      <td>Humboldt Park</td>\n    </tr>\n    <tr>\n      <th>8708</th>\n      <td>POINT (-87.63141229300709 41.90392031189563)</td>\n      <td>Red Line</td>\n      <td>Clark/Division</td>\n      <td>Old Town</td>\n    </tr>\n    <tr>\n      <th>10180</th>\n      <td>POINT (-87.65313085718887 41.93273150006873)</td>\n      <td>Brown, Purple (Express)</td>\n      <td>Diversey</td>\n      <td>Lincoln Park</td>\n    </tr>\n    <tr>\n      <th>9544</th>\n      <td>POINT (-87.67088394357924 41.94370914759255)</td>\n      <td>Brown Line</td>\n      <td>Paulina</td>\n      <td>Lake View</td>\n    </tr>\n    <tr>\n      <th>10301</th>\n      <td>POINT (-87.80889493503285 41.98232336946857)</td>\n      <td>Blue Line (O'Hare)</td>\n      <td>Harlem</td>\n      <td>Dunning</td>\n    </tr>\n    <tr>\n      <th>3153</th>\n      <td>POINT (-87.73795637168769 41.78661355009723)</td>\n      <td>Orange Line</td>\n      <td>Midway</td>\n      <td>Garfield Ridge</td>\n    </tr>\n    <tr>\n      <th>10806</th>\n      <td>POINT (-87.67495574333226 41.95452313859697)</td>\n      <td>Brown Line</td>\n      <td>Irving Park</td>\n      <td>North Center</td>\n    </tr>\n    <tr>\n      <th>3410</th>\n      <td>POINT (-87.63116917003116 41.7954182611776)</td>\n      <td>Red Line</td>\n      <td>Garfield</td>\n      <td>New City</td>\n    </tr>\n    <tr>\n      <th>2645</th>\n      <td>POINT (-87.66384484844021 41.77895340470035)</td>\n      <td>Green Line (Englewood)</td>\n      <td>Ashland</td>\n      <td>Englewood</td>\n    </tr>\n    <tr>\n      <th>2749</th>\n      <td>POINT (-87.64402312721801 41.77902786718354)</td>\n      <td>Green Line</td>\n      <td>Halsted</td>\n      <td>Englewood</td>\n    </tr>\n    <tr>\n      <th>6090</th>\n      <td>POINT (-87.62658988700279 41.86740495869866)</td>\n      <td>Orange &amp; Green Lines</td>\n      <td>Roosevelt</td>\n      <td>Near South Side</td>\n    </tr>\n    <tr>\n      <th>7935</th>\n      <td>POINT (-87.74469840019536 41.88651935258224)</td>\n      <td>Green Line (Lake)</td>\n      <td>Cicero</td>\n      <td>Belmont Cragin</td>\n    </tr>\n    <tr>\n      <th>12930</th>\n      <td>POINT (-87.67832941601363 42.02761184768367)</td>\n      <td>Purple Line, Evanston Express</td>\n      <td>South Boulevard</td>\n      <td>West Ridge</td>\n    </tr>\n    <tr>\n      <th>6716</th>\n      <td>POINT (-87.67743665449984 41.9097437915267)</td>\n      <td>Blue Line</td>\n      <td>Damen</td>\n      <td>Ukrainian Village</td>\n    </tr>\n    <tr>\n      <th>8235</th>\n      <td>POINT (-87.67743665449984 41.9097437915267)</td>\n      <td>Blue Line</td>\n      <td>Damen</td>\n      <td>Wicker Park</td>\n    </tr>\n  </tbody>\n</table>\n</div>",
      "text/plain": "                                             coords  \\\n6071   POINT (-87.62658988700279 41.86740495869866)   \n11116  POINT (-87.65362593077103 41.94742799653081)   \n5542   POINT (-87.66954322799872 41.87156300339059)   \n5021   POINT (-87.62640238492894 41.85311508247467)   \n11684  POINT (-87.67863488433055 41.96641097182644)   \n8042   POINT (-87.72540376831816 41.88541197876197)   \n8708   POINT (-87.63141229300709 41.90392031189563)   \n10180  POINT (-87.65313085718887 41.93273150006873)   \n9544   POINT (-87.67088394357924 41.94370914759255)   \n10301  POINT (-87.80889493503285 41.98232336946857)   \n3153   POINT (-87.73795637168769 41.78661355009723)   \n10806  POINT (-87.67495574333226 41.95452313859697)   \n3410    POINT (-87.63116917003116 41.7954182611776)   \n2645   POINT (-87.66384484844021 41.77895340470035)   \n2749   POINT (-87.64402312721801 41.77902786718354)   \n6090   POINT (-87.62658988700279 41.86740495869866)   \n7935   POINT (-87.74469840019536 41.88651935258224)   \n12930  POINT (-87.67832941601363 42.02761184768367)   \n6716    POINT (-87.67743665449984 41.9097437915267)   \n8235    POINT (-87.67743665449984 41.9097437915267)   \n\n                                line              station       neighborhood  \n6071            Orange & Green Lines            Roosevelt    Near South Side  \n11116                       Red Line              Addison          Lake View  \n5542                            Pink                 Polk  Little Italy, UIC  \n5021                      Green Line  Cermak-McCormick Pl    Near South Side  \n11684                     Brown Line                Damen     Lincoln Square  \n8042               Green Line (Lake)              Pulaski      Humboldt Park  \n8708                        Red Line       Clark/Division           Old Town  \n10180        Brown, Purple (Express)             Diversey       Lincoln Park  \n9544                      Brown Line              Paulina          Lake View  \n10301             Blue Line (O'Hare)               Harlem            Dunning  \n3153                     Orange Line               Midway     Garfield Ridge  \n10806                     Brown Line          Irving Park       North Center  \n3410                        Red Line             Garfield           New City  \n2645          Green Line (Englewood)              Ashland          Englewood  \n2749                      Green Line              Halsted          Englewood  \n6090            Orange & Green Lines            Roosevelt    Near South Side  \n7935               Green Line (Lake)               Cicero     Belmont Cragin  \n12930  Purple Line, Evanston Express      South Boulevard         West Ridge  \n6716                       Blue Line                Damen  Ukrainian Village  \n8235                       Blue Line                Damen        Wicker Park  "
     },
     "execution_count": 134,
     "metadata": {},
     "output_type": "execute_result"
    }
   ],
   "source": [
    "# Get nearest CTA stations\n",
    "stations_multipoint = MultiPoint(station_points)\n",
    "def get_nearest_station(row):\n",
    "    lon = row['lon']\n",
    "    lat = row['lat']\n",
    "    p = Point(lon, lat)\n",
    "    np = nearest_points(p, MultiPoint(station_points))\n",
    "    # Index 0 is the input point, index 1 is the nearest station\n",
    "    nearest_station = stations[(np[1].x, np[1].y)]\n",
    "    return nearest_station\n",
    "\n",
    "data = pd.concat([data, data.apply(get_nearest_station, axis=1, result_type='expand')], axis=1)\n",
    "\n",
    "data[['coords', 'line', 'station', 'neighborhood']].sample(20)"
   ]
  },
  {
   "cell_type": "code",
   "execution_count": 135,
   "metadata": {},
   "outputs": [
    {
     "data": {
      "text/html": "<div>\n<style scoped>\n    .dataframe tbody tr th:only-of-type {\n        vertical-align: middle;\n    }\n\n    .dataframe tbody tr th {\n        vertical-align: top;\n    }\n\n    .dataframe thead th {\n        text-align: right;\n    }\n</style>\n<table border=\"1\" class=\"dataframe\">\n  <thead>\n    <tr style=\"text-align: right;\">\n      <th></th>\n      <th>lon</th>\n      <th>lat</th>\n      <th>coords</th>\n      <th>stationDistance</th>\n      <th>station</th>\n    </tr>\n  </thead>\n  <tbody>\n    <tr>\n      <th>1759</th>\n      <td>-87.724740</td>\n      <td>41.735383</td>\n      <td>POINT (-87.73795637168769 41.78661355009723)</td>\n      <td>4.218874</td>\n      <td>Midway</td>\n    </tr>\n    <tr>\n      <th>9405</th>\n      <td>-87.725230</td>\n      <td>41.925767</td>\n      <td>POINT (-87.7085413860205 41.92972804131357)</td>\n      <td>1.133524</td>\n      <td>Logan Square</td>\n    </tr>\n    <tr>\n      <th>888</th>\n      <td>-87.658420</td>\n      <td>41.693336</td>\n      <td>POINT (-87.62441474538349 41.72237598330533)</td>\n      <td>3.763179</td>\n      <td>95/Dan Ryan</td>\n    </tr>\n    <tr>\n      <th>7572</th>\n      <td>-87.616094</td>\n      <td>41.885689</td>\n      <td>POINT (-87.62618878473235 41.88322001199881)</td>\n      <td>0.691020</td>\n      <td>Washington/Wabash</td>\n    </tr>\n    <tr>\n      <th>6891</th>\n      <td>-87.663310</td>\n      <td>41.882026</td>\n      <td>POINT (-87.66695093661281 41.88531139464179)</td>\n      <td>0.414531</td>\n      <td>Ashland</td>\n    </tr>\n    <tr>\n      <th>8861</th>\n      <td>-87.642656</td>\n      <td>41.914004</td>\n      <td>POINT (-87.63930216454519 41.91040917935941)</td>\n      <td>0.420994</td>\n      <td>Sedgwick</td>\n    </tr>\n    <tr>\n      <th>838</th>\n      <td>-87.634455</td>\n      <td>41.682255</td>\n      <td>POINT (-87.62441474538349 41.72237598330533)</td>\n      <td>3.288362</td>\n      <td>95/Dan Ryan</td>\n    </tr>\n    <tr>\n      <th>8627</th>\n      <td>-87.630180</td>\n      <td>41.907120</td>\n      <td>POINT (-87.63141229300709 41.90392031189563)</td>\n      <td>0.284364</td>\n      <td>Clark/Division</td>\n    </tr>\n    <tr>\n      <th>12061</th>\n      <td>-87.797556</td>\n      <td>41.993995</td>\n      <td>POINT (-87.80889493503285 41.98232336946857)</td>\n      <td>1.389343</td>\n      <td>Harlem</td>\n    </tr>\n    <tr>\n      <th>9830</th>\n      <td>-87.642375</td>\n      <td>41.934055</td>\n      <td>POINT (-87.65313085718887 41.93273150006873)</td>\n      <td>0.645638</td>\n      <td>Diversey</td>\n    </tr>\n    <tr>\n      <th>4333</th>\n      <td>-87.676784</td>\n      <td>41.827875</td>\n      <td>POINT (-87.68058736862578 41.8295600871101)</td>\n      <td>0.312626</td>\n      <td>35th/Archer</td>\n    </tr>\n    <tr>\n      <th>1357</th>\n      <td>-87.629494</td>\n      <td>41.720095</td>\n      <td>POINT (-87.62441474538349 41.72237598330533)</td>\n      <td>0.420049</td>\n      <td>95/Dan Ryan</td>\n    </tr>\n    <tr>\n      <th>11326</th>\n      <td>-87.782722</td>\n      <td>41.973470</td>\n      <td>POINT (-87.76089227927594 41.97063413718424)</td>\n      <td>1.320008</td>\n      <td>Jefferson Park</td>\n    </tr>\n    <tr>\n      <th>11644</th>\n      <td>-87.695774</td>\n      <td>41.976045</td>\n      <td>POINT (-87.69411112481461 41.96620994853978)</td>\n      <td>0.764428</td>\n      <td>Rockwell</td>\n    </tr>\n    <tr>\n      <th>9965</th>\n      <td>-87.648319</td>\n      <td>41.922792</td>\n      <td>POINT (-87.6528658377562 41.92505136765153)</td>\n      <td>0.390293</td>\n      <td>Fullerton</td>\n    </tr>\n    <tr>\n      <th>8964</th>\n      <td>-87.623501</td>\n      <td>41.899793</td>\n      <td>POINT (-87.62817635256233 41.89667121189094)</td>\n      <td>0.456524</td>\n      <td>Chicago</td>\n    </tr>\n    <tr>\n      <th>9164</th>\n      <td>-87.803232</td>\n      <td>41.932468</td>\n      <td>POINT (-87.80317598719213 41.88684830253859)</td>\n      <td>3.151405</td>\n      <td>Harlem</td>\n    </tr>\n    <tr>\n      <th>2612</th>\n      <td>-87.726713</td>\n      <td>41.776492</td>\n      <td>POINT (-87.73795637168769 41.78661355009723)</td>\n      <td>1.279382</td>\n      <td>Midway</td>\n    </tr>\n    <tr>\n      <th>3712</th>\n      <td>-87.741242</td>\n      <td>41.814313</td>\n      <td>POINT (-87.72444964277844 41.79988781946131)</td>\n      <td>1.862557</td>\n      <td>Pulaski</td>\n    </tr>\n    <tr>\n      <th>1800</th>\n      <td>-87.691237</td>\n      <td>41.736475</td>\n      <td>POINT (-87.66384484844021 41.77895340470035)</td>\n      <td>4.347620</td>\n      <td>Ashland</td>\n    </tr>\n  </tbody>\n</table>\n</div>",
      "text/plain": "             lon        lat                                        coords  \\\n1759  -87.724740  41.735383  POINT (-87.73795637168769 41.78661355009723)   \n9405  -87.725230  41.925767   POINT (-87.7085413860205 41.92972804131357)   \n888   -87.658420  41.693336  POINT (-87.62441474538349 41.72237598330533)   \n7572  -87.616094  41.885689  POINT (-87.62618878473235 41.88322001199881)   \n6891  -87.663310  41.882026  POINT (-87.66695093661281 41.88531139464179)   \n8861  -87.642656  41.914004  POINT (-87.63930216454519 41.91040917935941)   \n838   -87.634455  41.682255  POINT (-87.62441474538349 41.72237598330533)   \n8627  -87.630180  41.907120  POINT (-87.63141229300709 41.90392031189563)   \n12061 -87.797556  41.993995  POINT (-87.80889493503285 41.98232336946857)   \n9830  -87.642375  41.934055  POINT (-87.65313085718887 41.93273150006873)   \n4333  -87.676784  41.827875   POINT (-87.68058736862578 41.8295600871101)   \n1357  -87.629494  41.720095  POINT (-87.62441474538349 41.72237598330533)   \n11326 -87.782722  41.973470  POINT (-87.76089227927594 41.97063413718424)   \n11644 -87.695774  41.976045  POINT (-87.69411112481461 41.96620994853978)   \n9965  -87.648319  41.922792   POINT (-87.6528658377562 41.92505136765153)   \n8964  -87.623501  41.899793  POINT (-87.62817635256233 41.89667121189094)   \n9164  -87.803232  41.932468  POINT (-87.80317598719213 41.88684830253859)   \n2612  -87.726713  41.776492  POINT (-87.73795637168769 41.78661355009723)   \n3712  -87.741242  41.814313  POINT (-87.72444964277844 41.79988781946131)   \n1800  -87.691237  41.736475  POINT (-87.66384484844021 41.77895340470035)   \n\n       stationDistance            station  \n1759          4.218874             Midway  \n9405          1.133524       Logan Square  \n888           3.763179        95/Dan Ryan  \n7572          0.691020  Washington/Wabash  \n6891          0.414531            Ashland  \n8861          0.420994           Sedgwick  \n838           3.288362        95/Dan Ryan  \n8627          0.284364     Clark/Division  \n12061         1.389343             Harlem  \n9830          0.645638           Diversey  \n4333          0.312626        35th/Archer  \n1357          0.420049        95/Dan Ryan  \n11326         1.320008     Jefferson Park  \n11644         0.764428           Rockwell  \n9965          0.390293          Fullerton  \n8964          0.456524            Chicago  \n9164          3.151405             Harlem  \n2612          1.279382             Midway  \n3712          1.862557            Pulaski  \n1800          4.347620            Ashland  "
     },
     "execution_count": 135,
     "metadata": {},
     "output_type": "execute_result"
    }
   ],
   "source": [
    "def manhattan_distance(row):\n",
    "    home_lon = row['lon']\n",
    "    home_lat = row['lat']\n",
    "    station_lon = row['coords'].x\n",
    "    station_lat = row['coords'].y\n",
    "\n",
    "    # Calculate Haversine distance (https://en.wikipedia.org/wiki/Haversine_formula) \n",
    "    # using Manhattan distance (https://xlinux.nist.gov/dads/HTML/manhattanDistance.html)\n",
    "    return distance.distance((home_lat, home_lon), (station_lat, home_lon)).miles + \\\n",
    "        distance.distance((home_lat, home_lon), (home_lat, station_lon)).miles\n",
    "\n",
    "data['stationDistance'] = data.apply(manhattan_distance, axis=1)\n",
    "data[['lon', 'lat', 'coords', 'stationDistance', 'station']].sample(20)"
   ]
  },
  {
   "cell_type": "code",
   "execution_count": 136,
   "metadata": {},
   "outputs": [],
   "source": [
    "# Turn neighborhood and home type data into numeric form\n",
    "data = pd.concat([data, pd.get_dummies(data['neighborhood'], drop_first=True)], axis=1)\n",
    "data = pd.concat([data, pd.get_dummies(data['homeType'], drop_first=True)], axis=1)"
   ]
  },
  {
   "cell_type": "code",
   "execution_count": 137,
   "metadata": {},
   "outputs": [],
   "source": [
    "# save cleaned data\n",
    "data.to_csv('results-7-31-2019-cleaned.csv')"
   ]
  },
  {
   "cell_type": "code",
   "execution_count": null,
   "metadata": {},
   "outputs": [],
   "source": []
  }
 ]
}