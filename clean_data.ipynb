{
 "nbformat": 4,
 "nbformat_minor": 2,
 "metadata": {
  "language_info": {
   "name": "python",
   "codemirror_mode": {
    "name": "ipython",
    "version": 3
   }
  },
  "orig_nbformat": 2,
  "file_extension": ".py",
  "mimetype": "text/x-python",
  "name": "python",
  "npconvert_exporter": "python",
  "pygments_lexer": "ipython3",
  "version": 3
 },
 "cells": [
  {
   "cell_type": "code",
   "execution_count": 1,
   "metadata": {},
   "outputs": [],
   "source": [
    "import pandas as pd\n",
    "import json\n",
    "from pandas.io.json import json_normalize\n",
    "from shapely.geometry import shape, Point, MultiPoint\n",
    "from shapely.ops import nearest_points"
   ]
  },
  {
   "cell_type": "code",
   "execution_count": 2,
   "metadata": {},
   "outputs": [],
   "source": [
    "with open('./results-7-31-2019.json') as f:\n",
    "    # flatten json structures\n",
    "    data = json_normalize(json.load(f))\n",
    "    # Remove non-Chicago entries\n",
    "    data = data[data['address'].str.contains('Chicago, IL')]"
   ]
  },
  {
   "cell_type": "code",
   "execution_count": 3,
   "metadata": {},
   "outputs": [],
   "source": [
    "with open('./CTA_RailStations.geojson') as f:\n",
    "    stations_geo = json.load(f)"
   ]
  },
  {
   "cell_type": "code",
   "execution_count": 4,
   "metadata": {},
   "outputs": [],
   "source": [
    "with open('./chicago_neighborhoods.geojson') as f:\n",
    "    neighborhoods_geo = json.load(f)"
   ]
  },
  {
   "cell_type": "code",
   "execution_count": 5,
   "metadata": {},
   "outputs": [],
   "source": [
    "# Make the neighborhood json easier to work with\n",
    "neighborhood_polygons = [{'geometry': shape(feature['geometry']), 'properties': feature['properties']} for feature in neighborhoods_geo['features']]"
   ]
  },
  {
   "cell_type": "code",
   "execution_count": 6,
   "metadata": {},
   "outputs": [],
   "source": [
    "def get_neighborhood(lon, lat):\n",
    "    hoods = [polygon['properties']['pri_neigh'] for polygon in neighborhood_polygons if polygon['geometry'].contains(Point(lon, lat))]\n",
    "    return hoods[0] if len(hoods) > 0 else None\n",
    "\n",
    "# Add neighborhoods to entries\n",
    "data['neighborhood'] = data \\\n",
    "    .apply(lambda row: get_neighborhood(row['hdpData.homeInfo.longitude'], row['hdpData.homeInfo.latitude']), axis=1)"
   ]
  },
  {
   "cell_type": "code",
   "execution_count": 7,
   "metadata": {},
   "outputs": [
    {
     "data": {
      "text/html": "<div>\n<style scoped>\n    .dataframe tbody tr th:only-of-type {\n        vertical-align: middle;\n    }\n\n    .dataframe tbody tr th {\n        vertical-align: top;\n    }\n\n    .dataframe thead th {\n        text-align: right;\n    }\n</style>\n<table border=\"1\" class=\"dataframe\">\n  <thead>\n    <tr style=\"text-align: right;\">\n      <th></th>\n      <th>address</th>\n      <th>neighborhood</th>\n    </tr>\n  </thead>\n  <tbody>\n    <tr>\n      <th>192</th>\n      <td>12841 S Union Ave, Chicago, IL</td>\n      <td>West Pullman</td>\n    </tr>\n    <tr>\n      <th>193</th>\n      <td>12816 S Sangamon St, Chicago, IL</td>\n      <td>West Pullman</td>\n    </tr>\n    <tr>\n      <th>194</th>\n      <td>901 W 129th Pl, Chicago, IL</td>\n      <td>West Pullman</td>\n    </tr>\n    <tr>\n      <th>199</th>\n      <td>915 W Vermont Ave, Chicago, IL</td>\n      <td>West Pullman</td>\n    </tr>\n    <tr>\n      <th>202</th>\n      <td>12907 S Normal Ave, Chicago, IL</td>\n      <td>West Pullman</td>\n    </tr>\n    <tr>\n      <th>203</th>\n      <td>442 W 129th Pl, Chicago, IL</td>\n      <td>West Pullman</td>\n    </tr>\n    <tr>\n      <th>207</th>\n      <td>12766 S Union Ave, Chicago, IL</td>\n      <td>West Pullman</td>\n    </tr>\n    <tr>\n      <th>209</th>\n      <td>1000 W 129th Pl, Chicago, IL</td>\n      <td>West Pullman</td>\n    </tr>\n    <tr>\n      <th>215</th>\n      <td>552 W 129th Pl, Chicago, IL</td>\n      <td>West Pullman</td>\n    </tr>\n    <tr>\n      <th>216</th>\n      <td>12819 S Sangamon St, Chicago, IL</td>\n      <td>West Pullman</td>\n    </tr>\n    <tr>\n      <th>222</th>\n      <td>13333 S Prairie Ave, Chicago, IL</td>\n      <td>Riverdale</td>\n    </tr>\n    <tr>\n      <th>224</th>\n      <td>251 E 135th Pl, Chicago, IL</td>\n      <td>Riverdale</td>\n    </tr>\n    <tr>\n      <th>226</th>\n      <td>332 E 134th St, Chicago, IL</td>\n      <td>Riverdale</td>\n    </tr>\n    <tr>\n      <th>229</th>\n      <td>13136 S Eberhart Ave, Chicago, IL</td>\n      <td>Riverdale</td>\n    </tr>\n    <tr>\n      <th>231</th>\n      <td>13293 S Eberhart Ave, Chicago, IL</td>\n      <td>Riverdale</td>\n    </tr>\n    <tr>\n      <th>232</th>\n      <td>13249 S Vernon Ave, Chicago, IL</td>\n      <td>Riverdale</td>\n    </tr>\n    <tr>\n      <th>387</th>\n      <td>2414 W 119th St, Chicago, IL</td>\n      <td>Morgan Park</td>\n    </tr>\n    <tr>\n      <th>388</th>\n      <td>11750 S Artesian Ave, Chicago, IL</td>\n      <td>Morgan Park</td>\n    </tr>\n    <tr>\n      <th>392</th>\n      <td>11752 S Vincennes Ave, Chicago, IL</td>\n      <td>Morgan Park</td>\n    </tr>\n    <tr>\n      <th>397</th>\n      <td>2442 W 119th St, Chicago, IL</td>\n      <td>Morgan Park</td>\n    </tr>\n    <tr>\n      <th>399</th>\n      <td>11702 S Oakley Ave, Chicago, IL</td>\n      <td>Morgan Park</td>\n    </tr>\n    <tr>\n      <th>402</th>\n      <td>2553 W 117th St, Chicago, IL</td>\n      <td>Morgan Park</td>\n    </tr>\n    <tr>\n      <th>409</th>\n      <td>11701 S Western Ave, Chicago, IL</td>\n      <td>Morgan Park</td>\n    </tr>\n    <tr>\n      <th>417</th>\n      <td>12239 S Emerald Ave, Chicago, IL</td>\n      <td>West Pullman</td>\n    </tr>\n    <tr>\n      <th>418</th>\n      <td>11835 S Lafayette Ave, Chicago, IL</td>\n      <td>West Pullman</td>\n    </tr>\n    <tr>\n      <th>420</th>\n      <td>11834 S Wallace St, Chicago, IL</td>\n      <td>West Pullman</td>\n    </tr>\n    <tr>\n      <th>423</th>\n      <td>11703 S Lafayette Ave, Chicago, IL</td>\n      <td>West Pullman</td>\n    </tr>\n    <tr>\n      <th>424</th>\n      <td>12336 S Perry Ave, Chicago, IL</td>\n      <td>West Pullman</td>\n    </tr>\n    <tr>\n      <th>425</th>\n      <td>12239 S Perry Ave, Chicago, IL</td>\n      <td>West Pullman</td>\n    </tr>\n    <tr>\n      <th>427</th>\n      <td>11918 S State St, Chicago, IL</td>\n      <td>West Pullman</td>\n    </tr>\n    <tr>\n      <th>...</th>\n      <td>...</td>\n      <td>...</td>\n    </tr>\n    <tr>\n      <th>13045</th>\n      <td>1514 W Pratt Blvd APT 1C, Chicago, IL</td>\n      <td>Rogers Park</td>\n    </tr>\n    <tr>\n      <th>13046</th>\n      <td>1834 W Birchwood Ave, Chicago, IL</td>\n      <td>Rogers Park</td>\n    </tr>\n    <tr>\n      <th>13047</th>\n      <td>7301 N Wolcott Ave APT 1, Chicago, IL</td>\n      <td>Rogers Park</td>\n    </tr>\n    <tr>\n      <th>13048</th>\n      <td>7517 N Damen Ave APT GG, Chicago, IL</td>\n      <td>Rogers Park</td>\n    </tr>\n    <tr>\n      <th>13049</th>\n      <td>7301 N Wolcott Ave APT 1, Chicago, IL</td>\n      <td>Rogers Park</td>\n    </tr>\n    <tr>\n      <th>13050</th>\n      <td>7410 N Claremont Ave, Chicago, IL</td>\n      <td>West Ridge</td>\n    </tr>\n    <tr>\n      <th>13051</th>\n      <td>1622 W Wallen Ave APT 3N, Chicago, IL</td>\n      <td>Rogers Park</td>\n    </tr>\n    <tr>\n      <th>13052</th>\n      <td>7333 N Damen Ave, Chicago, IL</td>\n      <td>Rogers Park</td>\n    </tr>\n    <tr>\n      <th>13053</th>\n      <td>7054 N Damen Ave # 1, Chicago, IL</td>\n      <td>Rogers Park</td>\n    </tr>\n    <tr>\n      <th>13054</th>\n      <td>7334 N Honore St UNIT D, Chicago, IL</td>\n      <td>Rogers Park</td>\n    </tr>\n    <tr>\n      <th>13056</th>\n      <td>7501 N Western Ave, Chicago, IL</td>\n      <td>West Ridge</td>\n    </tr>\n    <tr>\n      <th>13057</th>\n      <td>7501 N California Ave, Chicago, IL</td>\n      <td>West Ridge</td>\n    </tr>\n    <tr>\n      <th>13058</th>\n      <td>7230 N Rogers Ave, Chicago, IL</td>\n      <td>Rogers Park</td>\n    </tr>\n    <tr>\n      <th>13059</th>\n      <td>1122 W Lunt Ave APT 4B, Chicago, IL</td>\n      <td>Rogers Park</td>\n    </tr>\n    <tr>\n      <th>13060</th>\n      <td>1110 W Pratt Blvd APT 3S, Chicago, IL</td>\n      <td>Rogers Park</td>\n    </tr>\n    <tr>\n      <th>13061</th>\n      <td>1138 W Lunt Ave APT 3B, Chicago, IL</td>\n      <td>Rogers Park</td>\n    </tr>\n    <tr>\n      <th>13062</th>\n      <td>6741 N Sheridan Rd APT 3S, Chicago, IL</td>\n      <td>Rogers Park</td>\n    </tr>\n    <tr>\n      <th>13063</th>\n      <td>6702 N Sheridan Rd # 2-N, Chicago, IL</td>\n      <td>Rogers Park</td>\n    </tr>\n    <tr>\n      <th>13064</th>\n      <td>1138 W Farwell Ave # 1E, Chicago, IL</td>\n      <td>Rogers Park</td>\n    </tr>\n    <tr>\n      <th>13065</th>\n      <td>1132 W Lunt Ave APT 1C, Chicago, IL</td>\n      <td>Rogers Park</td>\n    </tr>\n    <tr>\n      <th>13066</th>\n      <td>1122 W Lunt Ave APT 2C, Chicago, IL</td>\n      <td>Rogers Park</td>\n    </tr>\n    <tr>\n      <th>13067</th>\n      <td>1121 W Columbia Ave, Chicago, IL</td>\n      <td>Rogers Park</td>\n    </tr>\n    <tr>\n      <th>13068</th>\n      <td>1063 W North Shore Ave APT 1, Chicago, IL</td>\n      <td>Rogers Park</td>\n    </tr>\n    <tr>\n      <th>13463</th>\n      <td>7768 N Sheridan Rd # 1, Chicago, IL</td>\n      <td>Rogers Park</td>\n    </tr>\n    <tr>\n      <th>13473</th>\n      <td>7722 N Paulina St # 3S, Chicago, IL</td>\n      <td>Rogers Park</td>\n    </tr>\n    <tr>\n      <th>13522</th>\n      <td>7721 N Marshfield Ave APT 3, Chicago, IL</td>\n      <td>Rogers Park</td>\n    </tr>\n    <tr>\n      <th>13528</th>\n      <td>7750 N Sheridan Rd APT 1L, Chicago, IL</td>\n      <td>Rogers Park</td>\n    </tr>\n    <tr>\n      <th>13534</th>\n      <td>7742 N Sheridan Rd APT 3R, Chicago, IL</td>\n      <td>Rogers Park</td>\n    </tr>\n    <tr>\n      <th>13551</th>\n      <td>7732 N Marshfield Ave, Chicago, IL</td>\n      <td>Rogers Park</td>\n    </tr>\n    <tr>\n      <th>13552</th>\n      <td>7742 N Sheridan Rd APT 4R, Chicago, IL</td>\n      <td>Rogers Park</td>\n    </tr>\n  </tbody>\n</table>\n<p>9758 rows × 2 columns</p>\n</div>",
      "text/plain": "                                        address  neighborhood\n192              12841 S Union Ave, Chicago, IL  West Pullman\n193            12816 S Sangamon St, Chicago, IL  West Pullman\n194                 901 W 129th Pl, Chicago, IL  West Pullman\n199              915 W Vermont Ave, Chicago, IL  West Pullman\n202             12907 S Normal Ave, Chicago, IL  West Pullman\n...                                         ...           ...\n13522  7721 N Marshfield Ave APT 3, Chicago, IL   Rogers Park\n13528    7750 N Sheridan Rd APT 1L, Chicago, IL   Rogers Park\n13534    7742 N Sheridan Rd APT 3R, Chicago, IL   Rogers Park\n13551        7732 N Marshfield Ave, Chicago, IL   Rogers Park\n13552    7742 N Sheridan Rd APT 4R, Chicago, IL   Rogers Park\n\n[9758 rows x 2 columns]"
     },
     "execution_count": 7,
     "metadata": {},
     "output_type": "execute_result"
    }
   ],
   "source": [
    "# Remove anything not in a neighborhood (probably incorrectly labeled as being in Chicago\n",
    "data = data[data['neighborhood'].notnull()]\n",
    "data[['address', 'neighborhood']]"
   ]
  },
  {
   "cell_type": "code",
   "execution_count": 8,
   "metadata": {},
   "outputs": [],
   "source": [
    "station_points = [Point(point['geometry']['coordinates'][1], point['geometry']['coordinates'][0]) for point in stations_geo['features']]"
   ]
  },
  {
   "cell_type": "code",
   "execution_count": 9,
   "metadata": {},
   "outputs": [],
   "source": [
    "# Get nearest CTA stations\n",
    "p = Point(data.iloc[0]['hdpData.homeInfo.longitude'], data.iloc[0]['hdpData.homeInfo.latitude'])\n",
    "np = nearest_points(p, MultiPoint(station_points))"
   ]
  },
  {
   "cell_type": "code",
   "execution_count": null,
   "metadata": {},
   "outputs": [],
   "source": [
    "# save cleaned data\n",
    "data.to_csv('results-7-31-2019-cleaned.csv')"
   ]
  }
 ]
}