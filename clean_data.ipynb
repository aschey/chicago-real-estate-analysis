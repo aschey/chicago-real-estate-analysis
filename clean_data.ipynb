{
 "nbformat": 4,
 "nbformat_minor": 2,
 "metadata": {
  "language_info": {
   "name": "python",
   "codemirror_mode": {
    "name": "ipython",
    "version": 3
   }
  },
  "orig_nbformat": 2,
  "file_extension": ".py",
  "mimetype": "text/x-python",
  "name": "python",
  "npconvert_exporter": "python",
  "pygments_lexer": "ipython3",
  "version": 3
 },
 "cells": [
  {
   "cell_type": "code",
   "execution_count": 46,
   "metadata": {},
   "outputs": [],
   "source": [
    "import pandas as pd\n",
    "import json\n",
    "from numpy import nan\n",
    "from geopy import distance\n",
    "from pandas.io.json import json_normalize\n",
    "from shapely.geometry import shape, Point, MultiPoint\n",
    "from shapely.ops import nearest_points"
   ]
  },
  {
   "cell_type": "code",
   "execution_count": 47,
   "metadata": {},
   "outputs": [],
   "source": [
    "with open('./results-7-31-2019.json') as f:\n",
    "    # flatten json structures\n",
    "    data = json_normalize(json.load(f))\n",
    "    # Remove non-Chicago entries\n",
    "    data = data[data['address'].str.contains('Chicago, IL')]"
   ]
  },
  {
   "cell_type": "code",
   "execution_count": 48,
   "metadata": {},
   "outputs": [],
   "source": [
    "data = data.rename(columns={'hdpData.homeInfo.longitude': 'lon', 'hdpData.homeInfo.latitude': 'lat'}, errors='raise')"
   ]
  },
  {
   "cell_type": "code",
   "execution_count": 49,
   "metadata": {},
   "outputs": [],
   "source": [
    "with open('./CTA_RailStations.geojson') as f:\n",
    "    stations_geo = json.load(f)"
   ]
  },
  {
   "cell_type": "code",
   "execution_count": 50,
   "metadata": {},
   "outputs": [],
   "source": [
    "with open('./chicago_neighborhoods.geojson') as f:\n",
    "    neighborhoods_geo = json.load(f)"
   ]
  },
  {
   "cell_type": "code",
   "execution_count": 51,
   "metadata": {},
   "outputs": [],
   "source": [
    "# Make the neighborhood json easier to work with\n",
    "neighborhood_polygons = [{'geometry': shape(feature['geometry']), 'properties': feature['properties']} for feature in neighborhoods_geo['features']]"
   ]
  },
  {
   "cell_type": "code",
   "execution_count": 52,
   "metadata": {},
   "outputs": [],
   "source": [
    "def get_neighborhood(row):\n",
    "    lon = row['lon']\n",
    "    lat = row['lat']\n",
    "    hoods = [polygon['properties']['pri_neigh'] for polygon in neighborhood_polygons if polygon['geometry'].contains(Point(lon, lat))]\n",
    "    return hoods[0] if len(hoods) > 0 else None\n",
    "\n",
    "# Add neighborhoods to entries\n",
    "data['neighborhood'] = data.apply(get_neighborhood, axis=1)"
   ]
  },
  {
   "cell_type": "code",
   "execution_count": 53,
   "metadata": {},
   "outputs": [
    {
     "data": {
      "text/html": "<div>\n<style scoped>\n    .dataframe tbody tr th:only-of-type {\n        vertical-align: middle;\n    }\n\n    .dataframe tbody tr th {\n        vertical-align: top;\n    }\n\n    .dataframe thead th {\n        text-align: right;\n    }\n</style>\n<table border=\"1\" class=\"dataframe\">\n  <thead>\n    <tr style=\"text-align: right;\">\n      <th></th>\n      <th>address</th>\n      <th>neighborhood</th>\n    </tr>\n  </thead>\n  <tbody>\n    <tr>\n      <th>4509</th>\n      <td>3843 S Giles Ave # 45, Chicago, IL</td>\n      <td>Douglas</td>\n    </tr>\n    <tr>\n      <th>8181</th>\n      <td>1521 N Paulina St # 4F, Chicago, IL</td>\n      <td>Wicker Park</td>\n    </tr>\n    <tr>\n      <th>3312</th>\n      <td>5600 S Washtenaw Ave, Chicago, IL</td>\n      <td>Gage Park</td>\n    </tr>\n    <tr>\n      <th>10119</th>\n      <td>2107 N Magnolia Ave APT 1B, Chicago, IL</td>\n      <td>Lincoln Park</td>\n    </tr>\n    <tr>\n      <th>10606</th>\n      <td>2444 W Dakin St APT 1, Chicago, IL</td>\n      <td>Irving Park</td>\n    </tr>\n    <tr>\n      <th>12148</th>\n      <td>6548 N Spokane Ave, Chicago, IL</td>\n      <td>Sauganash,Forest Glen</td>\n    </tr>\n    <tr>\n      <th>12425</th>\n      <td>5555 N Sheridan Rd APT 1014, Chicago, IL</td>\n      <td>Edgewater</td>\n    </tr>\n    <tr>\n      <th>3253</th>\n      <td>5516 S Seeley Ave, Chicago, IL</td>\n      <td>Englewood</td>\n    </tr>\n    <tr>\n      <th>8962</th>\n      <td>1120 N Lake Shore Dr # 2B, Chicago, IL</td>\n      <td>Gold Coast</td>\n    </tr>\n    <tr>\n      <th>2314</th>\n      <td>7700 S Lowe Ave, Chicago, IL</td>\n      <td>Auburn Gresham</td>\n    </tr>\n    <tr>\n      <th>11559</th>\n      <td>2954 W Catalpa Ave, Chicago, IL</td>\n      <td>Lincoln Square</td>\n    </tr>\n    <tr>\n      <th>11761</th>\n      <td>1448 W Montrose Ave APT 2W, Chicago, IL</td>\n      <td>Uptown</td>\n    </tr>\n    <tr>\n      <th>8402</th>\n      <td>2138 W Potomac Ave # 1, Chicago, IL</td>\n      <td>Wicker Park</td>\n    </tr>\n    <tr>\n      <th>5473</th>\n      <td>4220 W Jackson Blvd, Chicago, IL</td>\n      <td>Garfield Park</td>\n    </tr>\n    <tr>\n      <th>11055</th>\n      <td>3514 N Fremont St APT 1R, Chicago, IL</td>\n      <td>Lake View</td>\n    </tr>\n    <tr>\n      <th>1475</th>\n      <td>10236 S Rhodes Ave, Chicago, IL</td>\n      <td>Roseland</td>\n    </tr>\n    <tr>\n      <th>4488</th>\n      <td>3626 S Calumet Ave, Chicago, IL</td>\n      <td>Douglas</td>\n    </tr>\n    <tr>\n      <th>9445</th>\n      <td>3151 N Karlov Ave BLDG 1, Chicago, IL</td>\n      <td>Avondale</td>\n    </tr>\n    <tr>\n      <th>7372</th>\n      <td>550 N Kingsbury St APT 417, Chicago, IL</td>\n      <td>River North</td>\n    </tr>\n    <tr>\n      <th>9649</th>\n      <td>2222 W Belmont Ave UNIT 501, Chicago, IL</td>\n      <td>North Center</td>\n    </tr>\n  </tbody>\n</table>\n</div>",
      "text/plain": "                                        address           neighborhood\n4509         3843 S Giles Ave # 45, Chicago, IL                Douglas\n8181        1521 N Paulina St # 4F, Chicago, IL            Wicker Park\n3312          5600 S Washtenaw Ave, Chicago, IL              Gage Park\n10119   2107 N Magnolia Ave APT 1B, Chicago, IL           Lincoln Park\n10606        2444 W Dakin St APT 1, Chicago, IL            Irving Park\n12148           6548 N Spokane Ave, Chicago, IL  Sauganash,Forest Glen\n12425  5555 N Sheridan Rd APT 1014, Chicago, IL              Edgewater\n3253             5516 S Seeley Ave, Chicago, IL              Englewood\n8962     1120 N Lake Shore Dr # 2B, Chicago, IL             Gold Coast\n2314               7700 S Lowe Ave, Chicago, IL         Auburn Gresham\n11559           2954 W Catalpa Ave, Chicago, IL         Lincoln Square\n11761   1448 W Montrose Ave APT 2W, Chicago, IL                 Uptown\n8402        2138 W Potomac Ave # 1, Chicago, IL            Wicker Park\n5473           4220 W Jackson Blvd, Chicago, IL          Garfield Park\n11055     3514 N Fremont St APT 1R, Chicago, IL              Lake View\n1475            10236 S Rhodes Ave, Chicago, IL               Roseland\n4488            3626 S Calumet Ave, Chicago, IL                Douglas\n9445      3151 N Karlov Ave BLDG 1, Chicago, IL               Avondale\n7372    550 N Kingsbury St APT 417, Chicago, IL            River North\n9649   2222 W Belmont Ave UNIT 501, Chicago, IL           North Center"
     },
     "execution_count": 53,
     "metadata": {},
     "output_type": "execute_result"
    }
   ],
   "source": [
    "# Remove anything not in a neighborhood (probably incorrectly labeled as being in Chicago)\n",
    "data = data[data['neighborhood'].notnull()]\n",
    "data[['address', 'neighborhood']].sample(20)"
   ]
  },
  {
   "cell_type": "code",
   "execution_count": 54,
   "metadata": {},
   "outputs": [],
   "source": [
    "# Convert prices to ints, drop any entries without prices\n",
    "data['price'] = data.apply(lambda row: nan if (price:=row['price'].replace('$', '').replace(',', '')) == '' else int(price), axis=1)\n",
    "data = data.dropna(subset=['price'])"
   ]
  },
  {
   "cell_type": "code",
   "execution_count": 55,
   "metadata": {},
   "outputs": [],
   "source": [
    "def make_point(point):\n",
    "    lon = point['geometry']['coordinates'][0]\n",
    "    lat = point['geometry']['coordinates'][1]\n",
    "    return (lon, lat), {\n",
    "            'coords': Point(lon, lat),\n",
    "            'line': point['properties']['LINES'],\n",
    "            'station': point['properties']['Name']\n",
    "        }\n",
    "        \n",
    "\n",
    "stations = {(p:=make_point(point))[0]: p[1] for point in stations_geo['features']}\n",
    "station_points = [station['coords'] for station in stations.values()]"
   ]
  },
  {
   "cell_type": "code",
   "execution_count": 56,
   "metadata": {},
   "outputs": [
    {
     "data": {
      "text/html": "<div>\n<style scoped>\n    .dataframe tbody tr th:only-of-type {\n        vertical-align: middle;\n    }\n\n    .dataframe tbody tr th {\n        vertical-align: top;\n    }\n\n    .dataframe thead th {\n        text-align: right;\n    }\n</style>\n<table border=\"1\" class=\"dataframe\">\n  <thead>\n    <tr style=\"text-align: right;\">\n      <th></th>\n      <th>coords</th>\n      <th>line</th>\n      <th>station</th>\n      <th>neighborhood</th>\n      <th>address</th>\n    </tr>\n  </thead>\n  <tbody>\n    <tr>\n      <th>12205</th>\n      <td>POINT (-87.71314203532829 41.96792815058559)</td>\n      <td>Brown Line</td>\n      <td>Kimball</td>\n      <td>Sauganash,Forest Glen</td>\n      <td>6112 N Kedvale Ave, Chicago, IL</td>\n    </tr>\n    <tr>\n      <th>436</th>\n      <td>POINT (-87.62441474538349 41.72237598330533)</td>\n      <td>Red Line</td>\n      <td>95/Dan Ryan</td>\n      <td>West Pullman</td>\n      <td>12034 S Eggleston Ave, Chicago, IL</td>\n    </tr>\n    <tr>\n      <th>1763</th>\n      <td>POINT (-87.73795637168769 41.78661355009723)</td>\n      <td>Orange Line</td>\n      <td>Midway</td>\n      <td>Ashburn</td>\n      <td>4663 W 83rd Pl, Chicago, IL</td>\n    </tr>\n    <tr>\n      <th>2815</th>\n      <td>POINT (-87.64402312721801 41.77902786718354)</td>\n      <td>Green Line</td>\n      <td>Halsted</td>\n      <td>Englewood</td>\n      <td>6715 S Union Ave, Chicago, IL</td>\n    </tr>\n    <tr>\n      <th>9323</th>\n      <td>POINT (-87.71235935057341 41.93813166884105)</td>\n      <td>Blue Line</td>\n      <td>Belmont</td>\n      <td>Logan Square</td>\n      <td>2637 N Hamlin Ave, Chicago, IL</td>\n    </tr>\n    <tr>\n      <th>5381</th>\n      <td>POINT (-87.74469840019536 41.88651935258224)</td>\n      <td>Green Line (Lake)</td>\n      <td>Cicero</td>\n      <td>Austin</td>\n      <td>4741-43 W Madison St # 2, Chicago, IL</td>\n    </tr>\n    <tr>\n      <th>11093</th>\n      <td>POINT (-87.65338048799256 41.93975074521462)</td>\n      <td>Red, Brown, Purple (Express)</td>\n      <td>Belmont</td>\n      <td>Lake View</td>\n      <td>3228 N Clifton Ave # 3N, Chicago, IL</td>\n    </tr>\n    <tr>\n      <th>5711</th>\n      <td>POINT (-87.65212799206752 41.88557678778864)</td>\n      <td>Green (Lake), Pink</td>\n      <td>Morgan</td>\n      <td>West Loop</td>\n      <td>901 W Madison St UNIT 502, Chicago, IL</td>\n    </tr>\n    <tr>\n      <th>6897</th>\n      <td>POINT (-87.66695093661281 41.88531139464179)</td>\n      <td>Green (Lake), Pink</td>\n      <td>Ashland</td>\n      <td>West Town</td>\n      <td>1424 W Grand Ave APT 5, Chicago, IL</td>\n    </tr>\n    <tr>\n      <th>10594</th>\n      <td>POINT (-87.7190993021528 41.94736010155727)</td>\n      <td>Blue Line</td>\n      <td>Addison</td>\n      <td>Irving Park</td>\n      <td>3804 N Troy St APT 1, Chicago, IL</td>\n    </tr>\n    <tr>\n      <th>3984</th>\n      <td>POINT (-87.61903578127783 41.81646322193995)</td>\n      <td>Green Line</td>\n      <td>43rd</td>\n      <td>Grand Boulevard</td>\n      <td>4142 S Calumet Ave, Chicago, IL</td>\n    </tr>\n    <tr>\n      <th>11524</th>\n      <td>POINT (-87.71314203532829 41.96792815058559)</td>\n      <td>Brown Line</td>\n      <td>Kimball</td>\n      <td>Albany Park</td>\n      <td>4941 N St Louis Ave # G, Chicago, IL</td>\n    </tr>\n    <tr>\n      <th>2705</th>\n      <td>POINT (-87.66384484844021 41.77895340470035)</td>\n      <td>Green Line (Englewood)</td>\n      <td>Ashland</td>\n      <td>Englewood</td>\n      <td>6446 S Seeley Ave, Chicago, IL</td>\n    </tr>\n    <tr>\n      <th>6131</th>\n      <td>POINT (-87.62658988700279 41.86740495869866)</td>\n      <td>Orange &amp; Green Lines</td>\n      <td>Roosevelt</td>\n      <td>Loop</td>\n      <td>1000 S Michigan Ave # 6402, Chicago, IL</td>\n    </tr>\n    <tr>\n      <th>10813</th>\n      <td>POINT (-87.66360955994172 41.94381225523734)</td>\n      <td>Brown Line</td>\n      <td>Southport</td>\n      <td>Lake View</td>\n      <td>3312 N Lakewood Ave, Chicago, IL</td>\n    </tr>\n    <tr>\n      <th>2315</th>\n      <td>POINT (-87.62475307324942 41.73537121043779)</td>\n      <td>Red Line</td>\n      <td>87th</td>\n      <td>Auburn Gresham</td>\n      <td>8407 S Morgan St, Chicago, IL</td>\n    </tr>\n    <tr>\n      <th>9720</th>\n      <td>POINT (-87.71235935057341 41.93813166884105)</td>\n      <td>Blue Line</td>\n      <td>Belmont</td>\n      <td>Avondale</td>\n      <td>3260 N Washtenaw Ave # 266, Chicago, IL</td>\n    </tr>\n    <tr>\n      <th>1784</th>\n      <td>POINT (-87.62441474538349 41.72237598330533)</td>\n      <td>Red Line</td>\n      <td>95/Dan Ryan</td>\n      <td>Beverly</td>\n      <td>9332 S Damen Ave, Chicago, IL</td>\n    </tr>\n    <tr>\n      <th>11918</th>\n      <td>POINT (-87.65866841969589 41.97798399160598)</td>\n      <td>Red Line</td>\n      <td>Berwyn</td>\n      <td>Edgewater</td>\n      <td>5415 N Sheridan Rd APT 4715, Chicago, IL</td>\n    </tr>\n    <tr>\n      <th>7025</th>\n      <td>POINT (-87.62817635256233 41.89667121189094)</td>\n      <td>Red Line</td>\n      <td>Chicago</td>\n      <td>Streeterville</td>\n      <td>175 E Delaware Pl # 8306-07, Chicago, IL</td>\n    </tr>\n  </tbody>\n</table>\n</div>",
      "text/plain": "                                             coords  \\\n12205  POINT (-87.71314203532829 41.96792815058559)   \n436    POINT (-87.62441474538349 41.72237598330533)   \n1763   POINT (-87.73795637168769 41.78661355009723)   \n2815   POINT (-87.64402312721801 41.77902786718354)   \n9323   POINT (-87.71235935057341 41.93813166884105)   \n5381   POINT (-87.74469840019536 41.88651935258224)   \n11093  POINT (-87.65338048799256 41.93975074521462)   \n5711   POINT (-87.65212799206752 41.88557678778864)   \n6897   POINT (-87.66695093661281 41.88531139464179)   \n10594   POINT (-87.7190993021528 41.94736010155727)   \n3984   POINT (-87.61903578127783 41.81646322193995)   \n11524  POINT (-87.71314203532829 41.96792815058559)   \n2705   POINT (-87.66384484844021 41.77895340470035)   \n6131   POINT (-87.62658988700279 41.86740495869866)   \n10813  POINT (-87.66360955994172 41.94381225523734)   \n2315   POINT (-87.62475307324942 41.73537121043779)   \n9720   POINT (-87.71235935057341 41.93813166884105)   \n1784   POINT (-87.62441474538349 41.72237598330533)   \n11918  POINT (-87.65866841969589 41.97798399160598)   \n7025   POINT (-87.62817635256233 41.89667121189094)   \n\n                               line      station           neighborhood  \\\n12205                    Brown Line      Kimball  Sauganash,Forest Glen   \n436                        Red Line  95/Dan Ryan           West Pullman   \n1763                    Orange Line       Midway                Ashburn   \n2815                     Green Line      Halsted              Englewood   \n9323                      Blue Line      Belmont           Logan Square   \n5381              Green Line (Lake)       Cicero                 Austin   \n11093  Red, Brown, Purple (Express)      Belmont              Lake View   \n5711             Green (Lake), Pink       Morgan              West Loop   \n6897             Green (Lake), Pink      Ashland              West Town   \n10594                     Blue Line      Addison            Irving Park   \n3984                     Green Line         43rd        Grand Boulevard   \n11524                    Brown Line      Kimball            Albany Park   \n2705         Green Line (Englewood)      Ashland              Englewood   \n6131           Orange & Green Lines    Roosevelt                   Loop   \n10813                    Brown Line    Southport              Lake View   \n2315                       Red Line         87th         Auburn Gresham   \n9720                      Blue Line      Belmont               Avondale   \n1784                       Red Line  95/Dan Ryan                Beverly   \n11918                      Red Line       Berwyn              Edgewater   \n7025                       Red Line      Chicago          Streeterville   \n\n                                        address  \n12205           6112 N Kedvale Ave, Chicago, IL  \n436          12034 S Eggleston Ave, Chicago, IL  \n1763                4663 W 83rd Pl, Chicago, IL  \n2815              6715 S Union Ave, Chicago, IL  \n9323             2637 N Hamlin Ave, Chicago, IL  \n5381      4741-43 W Madison St # 2, Chicago, IL  \n11093      3228 N Clifton Ave # 3N, Chicago, IL  \n5711     901 W Madison St UNIT 502, Chicago, IL  \n6897        1424 W Grand Ave APT 5, Chicago, IL  \n10594         3804 N Troy St APT 1, Chicago, IL  \n3984            4142 S Calumet Ave, Chicago, IL  \n11524      4941 N St Louis Ave # G, Chicago, IL  \n2705             6446 S Seeley Ave, Chicago, IL  \n6131    1000 S Michigan Ave # 6402, Chicago, IL  \n10813          3312 N Lakewood Ave, Chicago, IL  \n2315              8407 S Morgan St, Chicago, IL  \n9720    3260 N Washtenaw Ave # 266, Chicago, IL  \n1784              9332 S Damen Ave, Chicago, IL  \n11918  5415 N Sheridan Rd APT 4715, Chicago, IL  \n7025   175 E Delaware Pl # 8306-07, Chicago, IL  "
     },
     "execution_count": 56,
     "metadata": {},
     "output_type": "execute_result"
    }
   ],
   "source": [
    "# Get nearest CTA stations\n",
    "stations_multipoint = MultiPoint(station_points)\n",
    "def get_nearest_station(row):\n",
    "    lon = row['lon']\n",
    "    lat = row['lat']\n",
    "    p = Point(lon, lat)\n",
    "    np = nearest_points(p, MultiPoint(station_points))\n",
    "    # Index 0 is the input point, index 1 is the nearest station\n",
    "    nearest_station = stations[(np[1].x, np[1].y)]\n",
    "    return nearest_station\n",
    "\n",
    "data = pd.concat([data, data.apply(get_nearest_station, axis=1, result_type='expand')], axis=1)\n",
    "\n",
    "data[['coords', 'line', 'station', 'neighborhood', 'address']].sample(20)"
   ]
  },
  {
   "cell_type": "code",
   "execution_count": 57,
   "metadata": {},
   "outputs": [
    {
     "data": {
      "text/html": "<div>\n<style scoped>\n    .dataframe tbody tr th:only-of-type {\n        vertical-align: middle;\n    }\n\n    .dataframe tbody tr th {\n        vertical-align: top;\n    }\n\n    .dataframe thead th {\n        text-align: right;\n    }\n</style>\n<table border=\"1\" class=\"dataframe\">\n  <thead>\n    <tr style=\"text-align: right;\">\n      <th></th>\n      <th>lon</th>\n      <th>lat</th>\n      <th>coords</th>\n      <th>stationDistance</th>\n      <th>station</th>\n    </tr>\n  </thead>\n  <tbody>\n    <tr>\n      <th>2238</th>\n      <td>-87.695326</td>\n      <td>41.746769</td>\n      <td>POINT (-87.66384484844021 41.77895340470035)</td>\n      <td>3.848296</td>\n      <td>Ashland</td>\n    </tr>\n    <tr>\n      <th>9617</th>\n      <td>-87.663416</td>\n      <td>41.922755</td>\n      <td>POINT (-87.6528658377562 41.92505136765153)</td>\n      <td>0.702278</td>\n      <td>Fullerton</td>\n    </tr>\n    <tr>\n      <th>3205</th>\n      <td>-87.721459</td>\n      <td>41.791159</td>\n      <td>POINT (-87.72444964277844 41.79988781946131)</td>\n      <td>0.756886</td>\n      <td>Pulaski</td>\n    </tr>\n    <tr>\n      <th>7336</th>\n      <td>-87.629242</td>\n      <td>41.892817</td>\n      <td>POINT (-87.62802125739587 41.89166520044598)</td>\n      <td>0.142444</td>\n      <td>Grand</td>\n    </tr>\n    <tr>\n      <th>12936</th>\n      <td>-87.683775</td>\n      <td>42.009747</td>\n      <td>POINT (-87.6728924507902 42.01906321923584)</td>\n      <td>1.203146</td>\n      <td>Howard</td>\n    </tr>\n    <tr>\n      <th>11583</th>\n      <td>-87.730712</td>\n      <td>41.964735</td>\n      <td>POINT (-87.72917726558204 41.95294026078555)</td>\n      <td>0.893094</td>\n      <td>Irving Park</td>\n    </tr>\n    <tr>\n      <th>9758</th>\n      <td>-87.681560</td>\n      <td>41.938359</td>\n      <td>POINT (-87.67473610744641 41.94702865443908)</td>\n      <td>0.949994</td>\n      <td>Addison</td>\n    </tr>\n    <tr>\n      <th>6914</th>\n      <td>-87.667391</td>\n      <td>41.892286</td>\n      <td>POINT (-87.66695093661281 41.88531139464179)</td>\n      <td>0.504055</td>\n      <td>Ashland</td>\n    </tr>\n    <tr>\n      <th>11551</th>\n      <td>-87.724971</td>\n      <td>41.975298</td>\n      <td>POINT (-87.71314203532829 41.96792815058559)</td>\n      <td>1.117851</td>\n      <td>Kimball</td>\n    </tr>\n    <tr>\n      <th>7789</th>\n      <td>-87.616721</td>\n      <td>41.891725</td>\n      <td>POINT (-87.62802125739587 41.89166520044598)</td>\n      <td>0.586862</td>\n      <td>Grand</td>\n    </tr>\n    <tr>\n      <th>11728</th>\n      <td>-87.665226</td>\n      <td>41.972839</td>\n      <td>POINT (-87.65852996352429 41.97345332194149)</td>\n      <td>0.387265</td>\n      <td>Argyle</td>\n    </tr>\n    <tr>\n      <th>1876</th>\n      <td>-87.650638</td>\n      <td>41.738737</td>\n      <td>POINT (-87.62475307324942 41.73537121043779)</td>\n      <td>1.570309</td>\n      <td>87th</td>\n    </tr>\n    <tr>\n      <th>6019</th>\n      <td>-87.647112</td>\n      <td>41.863097</td>\n      <td>POINT (-87.64964223079028 41.87551620822291)</td>\n      <td>0.987664</td>\n      <td>UIC-Halsted</td>\n    </tr>\n    <tr>\n      <th>8166</th>\n      <td>-87.675935</td>\n      <td>41.918049</td>\n      <td>POINT (-87.67743665449984 41.9097437915267)</td>\n      <td>0.650604</td>\n      <td>Damen</td>\n    </tr>\n    <tr>\n      <th>2224</th>\n      <td>-87.673514</td>\n      <td>41.750978</td>\n      <td>POINT (-87.66384484844021 41.77895340470035)</td>\n      <td>2.430434</td>\n      <td>Ashland</td>\n    </tr>\n    <tr>\n      <th>4434</th>\n      <td>-87.639256</td>\n      <td>41.820733</td>\n      <td>POINT (-87.63102579710097 41.81033813187484)</td>\n      <td>1.142294</td>\n      <td>47th</td>\n    </tr>\n    <tr>\n      <th>5464</th>\n      <td>-87.714233</td>\n      <td>41.871510</td>\n      <td>POINT (-87.7059782953903 41.87442550807229)</td>\n      <td>0.627032</td>\n      <td>Kedzie-Homan</td>\n    </tr>\n    <tr>\n      <th>2768</th>\n      <td>-87.660187</td>\n      <td>41.778127</td>\n      <td>POINT (-87.66384484844021 41.77895340470035)</td>\n      <td>0.245997</td>\n      <td>Ashland</td>\n    </tr>\n    <tr>\n      <th>1505</th>\n      <td>-87.617791</td>\n      <td>41.707853</td>\n      <td>POINT (-87.62441474538349 41.72237598330533)</td>\n      <td>1.344846</td>\n      <td>95/Dan Ryan</td>\n    </tr>\n    <tr>\n      <th>9421</th>\n      <td>-87.717526</td>\n      <td>41.937794</td>\n      <td>POINT (-87.71235935057341 41.93813166884105)</td>\n      <td>0.289548</td>\n      <td>Belmont</td>\n    </tr>\n  </tbody>\n</table>\n</div>",
      "text/plain": "             lon        lat                                        coords  \\\n2238  -87.695326  41.746769  POINT (-87.66384484844021 41.77895340470035)   \n9617  -87.663416  41.922755   POINT (-87.6528658377562 41.92505136765153)   \n3205  -87.721459  41.791159  POINT (-87.72444964277844 41.79988781946131)   \n7336  -87.629242  41.892817  POINT (-87.62802125739587 41.89166520044598)   \n12936 -87.683775  42.009747   POINT (-87.6728924507902 42.01906321923584)   \n11583 -87.730712  41.964735  POINT (-87.72917726558204 41.95294026078555)   \n9758  -87.681560  41.938359  POINT (-87.67473610744641 41.94702865443908)   \n6914  -87.667391  41.892286  POINT (-87.66695093661281 41.88531139464179)   \n11551 -87.724971  41.975298  POINT (-87.71314203532829 41.96792815058559)   \n7789  -87.616721  41.891725  POINT (-87.62802125739587 41.89166520044598)   \n11728 -87.665226  41.972839  POINT (-87.65852996352429 41.97345332194149)   \n1876  -87.650638  41.738737  POINT (-87.62475307324942 41.73537121043779)   \n6019  -87.647112  41.863097  POINT (-87.64964223079028 41.87551620822291)   \n8166  -87.675935  41.918049   POINT (-87.67743665449984 41.9097437915267)   \n2224  -87.673514  41.750978  POINT (-87.66384484844021 41.77895340470035)   \n4434  -87.639256  41.820733  POINT (-87.63102579710097 41.81033813187484)   \n5464  -87.714233  41.871510   POINT (-87.7059782953903 41.87442550807229)   \n2768  -87.660187  41.778127  POINT (-87.66384484844021 41.77895340470035)   \n1505  -87.617791  41.707853  POINT (-87.62441474538349 41.72237598330533)   \n9421  -87.717526  41.937794  POINT (-87.71235935057341 41.93813166884105)   \n\n       stationDistance       station  \n2238          3.848296       Ashland  \n9617          0.702278     Fullerton  \n3205          0.756886       Pulaski  \n7336          0.142444         Grand  \n12936         1.203146        Howard  \n11583         0.893094   Irving Park  \n9758          0.949994       Addison  \n6914          0.504055       Ashland  \n11551         1.117851       Kimball  \n7789          0.586862         Grand  \n11728         0.387265        Argyle  \n1876          1.570309          87th  \n6019          0.987664   UIC-Halsted  \n8166          0.650604         Damen  \n2224          2.430434       Ashland  \n4434          1.142294          47th  \n5464          0.627032  Kedzie-Homan  \n2768          0.245997       Ashland  \n1505          1.344846   95/Dan Ryan  \n9421          0.289548       Belmont  "
     },
     "execution_count": 57,
     "metadata": {},
     "output_type": "execute_result"
    }
   ],
   "source": [
    "def manhattan_distance(row):\n",
    "    home_lon = row['lon']\n",
    "    home_lat = row['lat']\n",
    "    station_lon = row['coords'].x\n",
    "    station_lat = row['coords'].y\n",
    "\n",
    "    # Calculate Haversine distance (https://en.wikipedia.org/wiki/Haversine_formula) \n",
    "    # using Manhattan distance (https://xlinux.nist.gov/dads/HTML/manhattanDistance.html)\n",
    "    return distance.distance((home_lat, home_lon), (station_lat, home_lon)).miles + \\\n",
    "        distance.distance((home_lat, home_lon), (home_lat, station_lon)).miles\n",
    "\n",
    "data['stationDistance'] = data.apply(manhattan_distance, axis=1)\n",
    "data[['lon', 'lat', 'coords', 'stationDistance', 'station']].sample(20)"
   ]
  },
  {
   "cell_type": "code",
   "execution_count": 58,
   "metadata": {},
   "outputs": [],
   "source": [
    "# save cleaned data\n",
    "data.to_csv('results-7-31-2019-cleaned.csv')"
   ]
  },
  {
   "cell_type": "code",
   "execution_count": 62,
   "metadata": {},
   "outputs": [
    {
     "data": {
      "text/html": "<div>\n<style scoped>\n    .dataframe tbody tr th:only-of-type {\n        vertical-align: middle;\n    }\n\n    .dataframe tbody tr th {\n        vertical-align: top;\n    }\n\n    .dataframe thead th {\n        text-align: right;\n    }\n</style>\n<table border=\"1\" class=\"dataframe\">\n  <thead>\n    <tr style=\"text-align: right;\">\n      <th></th>\n      <th>price</th>\n    </tr>\n    <tr>\n      <th>neighborhood</th>\n      <th></th>\n    </tr>\n  </thead>\n  <tbody>\n    <tr>\n      <th>Boystown</th>\n      <td>862500.0</td>\n    </tr>\n    <tr>\n      <th>Gold Coast</th>\n      <td>818000.0</td>\n    </tr>\n    <tr>\n      <th>Bucktown</th>\n      <td>767500.0</td>\n    </tr>\n    <tr>\n      <th>Andersonville</th>\n      <td>762500.0</td>\n    </tr>\n    <tr>\n      <th>Wrigleyville</th>\n      <td>700000.0</td>\n    </tr>\n    <tr>\n      <th>Sheffield &amp; DePaul</th>\n      <td>699000.0</td>\n    </tr>\n    <tr>\n      <th>Old Town</th>\n      <td>675000.0</td>\n    </tr>\n    <tr>\n      <th>Lincoln Park</th>\n      <td>649888.0</td>\n    </tr>\n    <tr>\n      <th>Rush &amp; Division</th>\n      <td>637500.0</td>\n    </tr>\n    <tr>\n      <th>Chinatown</th>\n      <td>630000.0</td>\n    </tr>\n    <tr>\n      <th>North Center</th>\n      <td>625000.0</td>\n    </tr>\n    <tr>\n      <th>Wicker Park</th>\n      <td>619900.0</td>\n    </tr>\n    <tr>\n      <th>Streeterville</th>\n      <td>614000.0</td>\n    </tr>\n    <tr>\n      <th>Ukrainian Village</th>\n      <td>599950.0</td>\n    </tr>\n    <tr>\n      <th>West Town</th>\n      <td>584900.0</td>\n    </tr>\n    <tr>\n      <th>East Village</th>\n      <td>574900.0</td>\n    </tr>\n    <tr>\n      <th>Logan Square</th>\n      <td>569950.0</td>\n    </tr>\n    <tr>\n      <th>Greektown</th>\n      <td>560000.0</td>\n    </tr>\n    <tr>\n      <th>Sauganash,Forest Glen</th>\n      <td>499000.0</td>\n    </tr>\n    <tr>\n      <th>Lake View</th>\n      <td>495000.0</td>\n    </tr>\n    <tr>\n      <th>River North</th>\n      <td>485000.0</td>\n    </tr>\n    <tr>\n      <th>Loop</th>\n      <td>475000.0</td>\n    </tr>\n    <tr>\n      <th>Armour Square</th>\n      <td>469000.0</td>\n    </tr>\n    <tr>\n      <th>Avondale</th>\n      <td>459900.0</td>\n    </tr>\n    <tr>\n      <th>West Loop</th>\n      <td>449950.0</td>\n    </tr>\n    <tr>\n      <th>Oakland</th>\n      <td>439450.0</td>\n    </tr>\n    <tr>\n      <th>Bridgeport</th>\n      <td>438500.0</td>\n    </tr>\n    <tr>\n      <th>Near South Side</th>\n      <td>419900.0</td>\n    </tr>\n    <tr>\n      <th>North Park</th>\n      <td>408995.0</td>\n    </tr>\n    <tr>\n      <th>Grant Park</th>\n      <td>405000.0</td>\n    </tr>\n    <tr>\n      <th>Irving Park</th>\n      <td>399000.0</td>\n    </tr>\n    <tr>\n      <th>Lower West Side</th>\n      <td>394900.0</td>\n    </tr>\n    <tr>\n      <th>Lincoln Square</th>\n      <td>384500.0</td>\n    </tr>\n    <tr>\n      <th>Edison Park</th>\n      <td>370000.0</td>\n    </tr>\n    <tr>\n      <th>Portage Park</th>\n      <td>369900.0</td>\n    </tr>\n    <tr>\n      <th>Norwood Park</th>\n      <td>359931.0</td>\n    </tr>\n    <tr>\n      <th>Albany Park</th>\n      <td>354950.0</td>\n    </tr>\n    <tr>\n      <th>Magnificent Mile</th>\n      <td>349900.0</td>\n    </tr>\n    <tr>\n      <th>Jefferson Park</th>\n      <td>349900.0</td>\n    </tr>\n    <tr>\n      <th>Beverly</th>\n      <td>349000.0</td>\n    </tr>\n    <tr>\n      <th>Little Italy, UIC</th>\n      <td>339999.0</td>\n    </tr>\n    <tr>\n      <th>Dunning</th>\n      <td>319500.0</td>\n    </tr>\n    <tr>\n      <th>Montclare</th>\n      <td>315000.0</td>\n    </tr>\n    <tr>\n      <th>Mckinley Park</th>\n      <td>314000.0</td>\n    </tr>\n    <tr>\n      <th>Hermosa</th>\n      <td>309900.0</td>\n    </tr>\n    <tr>\n      <th>Humboldt Park</th>\n      <td>300000.0</td>\n    </tr>\n    <tr>\n      <th>Uptown</th>\n      <td>299900.0</td>\n    </tr>\n    <tr>\n      <th>Archer Heights</th>\n      <td>299900.0</td>\n    </tr>\n    <tr>\n      <th>Belmont Cragin</th>\n      <td>299387.5</td>\n    </tr>\n    <tr>\n      <th>Kenwood</th>\n      <td>298750.0</td>\n    </tr>\n    <tr>\n      <th>United Center</th>\n      <td>298500.0</td>\n    </tr>\n    <tr>\n      <th>Douglas</th>\n      <td>296900.0</td>\n    </tr>\n    <tr>\n      <th>Garfield Ridge</th>\n      <td>285000.0</td>\n    </tr>\n    <tr>\n      <th>Hyde Park</th>\n      <td>284900.0</td>\n    </tr>\n    <tr>\n      <th>Grand Boulevard</th>\n      <td>282499.5</td>\n    </tr>\n    <tr>\n      <th>Printers Row</th>\n      <td>279000.0</td>\n    </tr>\n    <tr>\n      <th>West Ridge</th>\n      <td>278000.0</td>\n    </tr>\n    <tr>\n      <th>Mount Greenwood</th>\n      <td>249000.0</td>\n    </tr>\n    <tr>\n      <th>Clearing</th>\n      <td>245000.0</td>\n    </tr>\n    <tr>\n      <th>Brighton Park</th>\n      <td>242509.0</td>\n    </tr>\n    <tr>\n      <th>Edgewater</th>\n      <td>242450.0</td>\n    </tr>\n    <tr>\n      <th>Galewood</th>\n      <td>240000.0</td>\n    </tr>\n    <tr>\n      <th>West Lawn</th>\n      <td>234900.0</td>\n    </tr>\n    <tr>\n      <th>West Elsdon</th>\n      <td>230000.0</td>\n    </tr>\n    <tr>\n      <th>Gage Park</th>\n      <td>225000.0</td>\n    </tr>\n    <tr>\n      <th>Ashburn</th>\n      <td>197900.0</td>\n    </tr>\n    <tr>\n      <th>Rogers Park</th>\n      <td>189900.0</td>\n    </tr>\n    <tr>\n      <th>Little Village</th>\n      <td>179995.0</td>\n    </tr>\n    <tr>\n      <th>Morgan Park</th>\n      <td>174900.0</td>\n    </tr>\n    <tr>\n      <th>Chicago Lawn</th>\n      <td>162750.0</td>\n    </tr>\n    <tr>\n      <th>O'Hare</th>\n      <td>158000.0</td>\n    </tr>\n    <tr>\n      <th>Woodlawn</th>\n      <td>149900.0</td>\n    </tr>\n    <tr>\n      <th>Washington Heights</th>\n      <td>139900.0</td>\n    </tr>\n    <tr>\n      <th>Calumet Heights</th>\n      <td>137400.0</td>\n    </tr>\n    <tr>\n      <th>South Shore</th>\n      <td>137395.0</td>\n    </tr>\n    <tr>\n      <th>Garfield Park</th>\n      <td>135900.0</td>\n    </tr>\n    <tr>\n      <th>Chatham</th>\n      <td>135565.5</td>\n    </tr>\n    <tr>\n      <th>Auburn Gresham</th>\n      <td>133250.0</td>\n    </tr>\n    <tr>\n      <th>Austin</th>\n      <td>131400.0</td>\n    </tr>\n    <tr>\n      <th>Avalon Park</th>\n      <td>130000.0</td>\n    </tr>\n    <tr>\n      <th>Pullman</th>\n      <td>110000.0</td>\n    </tr>\n    <tr>\n      <th>Grand Crossing</th>\n      <td>102513.0</td>\n    </tr>\n    <tr>\n      <th>Burnside</th>\n      <td>91200.0</td>\n    </tr>\n    <tr>\n      <th>Roseland</th>\n      <td>82500.0</td>\n    </tr>\n    <tr>\n      <th>Washington Park</th>\n      <td>81999.0</td>\n    </tr>\n    <tr>\n      <th>West Pullman</th>\n      <td>79900.0</td>\n    </tr>\n    <tr>\n      <th>New City</th>\n      <td>76000.0</td>\n    </tr>\n    <tr>\n      <th>North Lawndale</th>\n      <td>64200.0</td>\n    </tr>\n    <tr>\n      <th>Fuller Park</th>\n      <td>59000.0</td>\n    </tr>\n    <tr>\n      <th>Englewood</th>\n      <td>56110.0</td>\n    </tr>\n    <tr>\n      <th>Riverdale</th>\n      <td>27425.0</td>\n    </tr>\n    <tr>\n      <th>South Chicago</th>\n      <td>18000.0</td>\n    </tr>\n  </tbody>\n</table>\n</div>",
      "text/plain": "                          price\nneighborhood                   \nBoystown               862500.0\nGold Coast             818000.0\nBucktown               767500.0\nAndersonville          762500.0\nWrigleyville           700000.0\nSheffield & DePaul     699000.0\nOld Town               675000.0\nLincoln Park           649888.0\nRush & Division        637500.0\nChinatown              630000.0\nNorth Center           625000.0\nWicker Park            619900.0\nStreeterville          614000.0\nUkrainian Village      599950.0\nWest Town              584900.0\nEast Village           574900.0\nLogan Square           569950.0\nGreektown              560000.0\nSauganash,Forest Glen  499000.0\nLake View              495000.0\nRiver North            485000.0\nLoop                   475000.0\nArmour Square          469000.0\nAvondale               459900.0\nWest Loop              449950.0\nOakland                439450.0\nBridgeport             438500.0\nNear South Side        419900.0\nNorth Park             408995.0\nGrant Park             405000.0\nIrving Park            399000.0\nLower West Side        394900.0\nLincoln Square         384500.0\nEdison Park            370000.0\nPortage Park           369900.0\nNorwood Park           359931.0\nAlbany Park            354950.0\nMagnificent Mile       349900.0\nJefferson Park         349900.0\nBeverly                349000.0\nLittle Italy, UIC      339999.0\nDunning                319500.0\nMontclare              315000.0\nMckinley Park          314000.0\nHermosa                309900.0\nHumboldt Park          300000.0\nUptown                 299900.0\nArcher Heights         299900.0\nBelmont Cragin         299387.5\nKenwood                298750.0\nUnited Center          298500.0\nDouglas                296900.0\nGarfield Ridge         285000.0\nHyde Park              284900.0\nGrand Boulevard        282499.5\nPrinters Row           279000.0\nWest Ridge             278000.0\nMount Greenwood        249000.0\nClearing               245000.0\nBrighton Park          242509.0\nEdgewater              242450.0\nGalewood               240000.0\nWest Lawn              234900.0\nWest Elsdon            230000.0\nGage Park              225000.0\nAshburn                197900.0\nRogers Park            189900.0\nLittle Village         179995.0\nMorgan Park            174900.0\nChicago Lawn           162750.0\nO'Hare                 158000.0\nWoodlawn               149900.0\nWashington Heights     139900.0\nCalumet Heights        137400.0\nSouth Shore            137395.0\nGarfield Park          135900.0\nChatham                135565.5\nAuburn Gresham         133250.0\nAustin                 131400.0\nAvalon Park            130000.0\nPullman                110000.0\nGrand Crossing         102513.0\nBurnside                91200.0\nRoseland                82500.0\nWashington Park         81999.0\nWest Pullman            79900.0\nNew City                76000.0\nNorth Lawndale          64200.0\nFuller Park             59000.0\nEnglewood               56110.0\nRiverdale               27425.0\nSouth Chicago           18000.0"
     },
     "metadata": {},
     "output_type": "display_data"
    }
   ],
   "source": [
    "with pd.option_context(\"display.max_rows\", 100):\n",
    "    display(data[['neighborhood', 'price']].groupby('neighborhood').median().sort_values(by=['price'], ascending=False))"
   ]
  },
  {
   "cell_type": "code",
   "execution_count": null,
   "metadata": {},
   "outputs": [],
   "source": []
  }
 ]
}