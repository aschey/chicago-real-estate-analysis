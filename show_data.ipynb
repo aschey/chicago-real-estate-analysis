{
 "nbformat": 4,
 "nbformat_minor": 2,
 "metadata": {
  "language_info": {
   "name": "python",
   "codemirror_mode": {
    "name": "ipython",
    "version": 3
   }
  },
  "orig_nbformat": 2,
  "file_extension": ".py",
  "mimetype": "text/x-python",
  "name": "python",
  "npconvert_exporter": "python",
  "pygments_lexer": "ipython3",
  "version": 3
 },
 "cells": [
  {
   "cell_type": "code",
   "execution_count": 130,
   "metadata": {},
   "outputs": [],
   "source": [
    "import pandas as pd\n",
    "import json\n",
    "from scipy import stats\n",
    "from numpy.random import randn\n",
    "import numpy as np\n",
    "from matplotlib import pyplot"
   ]
  },
  {
   "cell_type": "code",
   "execution_count": 7,
   "metadata": {},
   "outputs": [],
   "source": [
    "data = pd.read_csv('./results-7-31-2019-cleaned.csv')"
   ]
  },
  {
   "cell_type": "code",
   "execution_count": 8,
   "metadata": {},
   "outputs": [
    {
     "data": {
      "text/html": "<div>\n<style scoped>\n    .dataframe tbody tr th:only-of-type {\n        vertical-align: middle;\n    }\n\n    .dataframe tbody tr th {\n        vertical-align: top;\n    }\n\n    .dataframe thead th {\n        text-align: right;\n    }\n</style>\n<table border=\"1\" class=\"dataframe\">\n  <thead>\n    <tr style=\"text-align: right;\">\n      <th></th>\n      <th>price</th>\n    </tr>\n    <tr>\n      <th>neighborhood</th>\n      <th></th>\n    </tr>\n  </thead>\n  <tbody>\n    <tr>\n      <th>Andersonville</th>\n      <td>1050000.0</td>\n    </tr>\n    <tr>\n      <th>Gold Coast</th>\n      <td>854500.0</td>\n    </tr>\n    <tr>\n      <th>Boystown</th>\n      <td>814500.0</td>\n    </tr>\n    <tr>\n      <th>Bucktown</th>\n      <td>750000.0</td>\n    </tr>\n    <tr>\n      <th>Sheffield &amp; DePaul</th>\n      <td>742500.0</td>\n    </tr>\n    <tr>\n      <th>Wrigleyville</th>\n      <td>712500.0</td>\n    </tr>\n    <tr>\n      <th>Rush &amp; Division</th>\n      <td>700000.0</td>\n    </tr>\n    <tr>\n      <th>Old Town</th>\n      <td>699900.0</td>\n    </tr>\n    <tr>\n      <th>Lincoln Park</th>\n      <td>697450.0</td>\n    </tr>\n    <tr>\n      <th>North Center</th>\n      <td>644950.0</td>\n    </tr>\n    <tr>\n      <th>Wicker Park</th>\n      <td>615000.0</td>\n    </tr>\n    <tr>\n      <th>Streeterville</th>\n      <td>606750.0</td>\n    </tr>\n    <tr>\n      <th>Ukrainian Village</th>\n      <td>589988.0</td>\n    </tr>\n    <tr>\n      <th>West Town</th>\n      <td>585000.0</td>\n    </tr>\n    <tr>\n      <th>Chinatown</th>\n      <td>550000.0</td>\n    </tr>\n    <tr>\n      <th>Greektown</th>\n      <td>550000.0</td>\n    </tr>\n    <tr>\n      <th>East Village</th>\n      <td>549900.0</td>\n    </tr>\n    <tr>\n      <th>Logan Square</th>\n      <td>530000.0</td>\n    </tr>\n    <tr>\n      <th>Lake View</th>\n      <td>500000.0</td>\n    </tr>\n    <tr>\n      <th>River North</th>\n      <td>499950.0</td>\n    </tr>\n    <tr>\n      <th>Sauganash,Forest Glen</th>\n      <td>499000.0</td>\n    </tr>\n    <tr>\n      <th>Loop</th>\n      <td>469900.0</td>\n    </tr>\n    <tr>\n      <th>Armour Square</th>\n      <td>464000.0</td>\n    </tr>\n    <tr>\n      <th>West Loop</th>\n      <td>452500.0</td>\n    </tr>\n    <tr>\n      <th>Oakland</th>\n      <td>449450.0</td>\n    </tr>\n    <tr>\n      <th>Bridgeport</th>\n      <td>438000.0</td>\n    </tr>\n    <tr>\n      <th>Near South Side</th>\n      <td>430950.0</td>\n    </tr>\n    <tr>\n      <th>Avondale</th>\n      <td>427999.5</td>\n    </tr>\n    <tr>\n      <th>Irving Park</th>\n      <td>420000.0</td>\n    </tr>\n    <tr>\n      <th>North Park</th>\n      <td>409900.0</td>\n    </tr>\n    <tr>\n      <th>Grant Park</th>\n      <td>405000.0</td>\n    </tr>\n    <tr>\n      <th>Lincoln Square</th>\n      <td>399950.0</td>\n    </tr>\n    <tr>\n      <th>Edison Park</th>\n      <td>389900.0</td>\n    </tr>\n    <tr>\n      <th>Beverly</th>\n      <td>384900.0</td>\n    </tr>\n    <tr>\n      <th>Lower West Side</th>\n      <td>366000.0</td>\n    </tr>\n    <tr>\n      <th>Portage Park</th>\n      <td>364999.5</td>\n    </tr>\n    <tr>\n      <th>Norwood Park</th>\n      <td>359900.0</td>\n    </tr>\n    <tr>\n      <th>Humboldt Park</th>\n      <td>359000.0</td>\n    </tr>\n    <tr>\n      <th>Mckinley Park</th>\n      <td>357450.0</td>\n    </tr>\n    <tr>\n      <th>Magnificent Mile</th>\n      <td>349900.0</td>\n    </tr>\n    <tr>\n      <th>Jefferson Park</th>\n      <td>345000.0</td>\n    </tr>\n    <tr>\n      <th>Little Italy, UIC</th>\n      <td>339900.0</td>\n    </tr>\n    <tr>\n      <th>Albany Park</th>\n      <td>329475.0</td>\n    </tr>\n    <tr>\n      <th>Montclare</th>\n      <td>327000.0</td>\n    </tr>\n    <tr>\n      <th>Dunning</th>\n      <td>319945.0</td>\n    </tr>\n    <tr>\n      <th>Hyde Park</th>\n      <td>315000.0</td>\n    </tr>\n    <tr>\n      <th>Douglas</th>\n      <td>311950.0</td>\n    </tr>\n    <tr>\n      <th>Hermosa</th>\n      <td>309900.0</td>\n    </tr>\n    <tr>\n      <th>Grand Boulevard</th>\n      <td>309499.5</td>\n    </tr>\n    <tr>\n      <th>Archer Heights</th>\n      <td>299900.0</td>\n    </tr>\n    <tr>\n      <th>Uptown</th>\n      <td>299900.0</td>\n    </tr>\n    <tr>\n      <th>United Center</th>\n      <td>299000.0</td>\n    </tr>\n    <tr>\n      <th>Kenwood</th>\n      <td>298000.0</td>\n    </tr>\n    <tr>\n      <th>Garfield Ridge</th>\n      <td>285000.0</td>\n    </tr>\n    <tr>\n      <th>Printers Row</th>\n      <td>284250.0</td>\n    </tr>\n    <tr>\n      <th>Belmont Cragin</th>\n      <td>275000.0</td>\n    </tr>\n    <tr>\n      <th>Brighton Park</th>\n      <td>251806.0</td>\n    </tr>\n    <tr>\n      <th>Mount Greenwood</th>\n      <td>249945.0</td>\n    </tr>\n    <tr>\n      <th>Clearing</th>\n      <td>249000.0</td>\n    </tr>\n    <tr>\n      <th>West Ridge</th>\n      <td>248888.0</td>\n    </tr>\n    <tr>\n      <th>West Elsdon</th>\n      <td>244950.0</td>\n    </tr>\n    <tr>\n      <th>West Lawn</th>\n      <td>234900.0</td>\n    </tr>\n    <tr>\n      <th>Gage Park</th>\n      <td>231950.0</td>\n    </tr>\n    <tr>\n      <th>Galewood</th>\n      <td>230000.0</td>\n    </tr>\n    <tr>\n      <th>Edgewater</th>\n      <td>229500.0</td>\n    </tr>\n    <tr>\n      <th>Ashburn</th>\n      <td>199900.0</td>\n    </tr>\n    <tr>\n      <th>Garfield Park</th>\n      <td>189900.0</td>\n    </tr>\n    <tr>\n      <th>Rogers Park</th>\n      <td>189900.0</td>\n    </tr>\n    <tr>\n      <th>Morgan Park</th>\n      <td>185450.0</td>\n    </tr>\n    <tr>\n      <th>O'Hare</th>\n      <td>172400.0</td>\n    </tr>\n    <tr>\n      <th>North Lawndale</th>\n      <td>167987.0</td>\n    </tr>\n    <tr>\n      <th>New City</th>\n      <td>163450.0</td>\n    </tr>\n    <tr>\n      <th>Woodlawn</th>\n      <td>163250.0</td>\n    </tr>\n    <tr>\n      <th>Austin</th>\n      <td>151621.0</td>\n    </tr>\n    <tr>\n      <th>Chicago Lawn</th>\n      <td>149758.0</td>\n    </tr>\n    <tr>\n      <th>Avalon Park</th>\n      <td>142500.0</td>\n    </tr>\n    <tr>\n      <th>South Shore</th>\n      <td>141150.0</td>\n    </tr>\n    <tr>\n      <th>Little Village</th>\n      <td>140000.0</td>\n    </tr>\n    <tr>\n      <th>Washington Heights</th>\n      <td>139900.0</td>\n    </tr>\n    <tr>\n      <th>Calumet Heights</th>\n      <td>137400.0</td>\n    </tr>\n    <tr>\n      <th>Chatham</th>\n      <td>132500.0</td>\n    </tr>\n    <tr>\n      <th>Auburn Gresham</th>\n      <td>130000.0</td>\n    </tr>\n    <tr>\n      <th>Grand Crossing</th>\n      <td>117000.0</td>\n    </tr>\n    <tr>\n      <th>Roseland</th>\n      <td>104900.0</td>\n    </tr>\n    <tr>\n      <th>Pullman</th>\n      <td>104466.0</td>\n    </tr>\n    <tr>\n      <th>Washington Park</th>\n      <td>95999.5</td>\n    </tr>\n    <tr>\n      <th>Burnside</th>\n      <td>91200.0</td>\n    </tr>\n    <tr>\n      <th>West Pullman</th>\n      <td>89900.0</td>\n    </tr>\n    <tr>\n      <th>Fuller Park</th>\n      <td>72500.0</td>\n    </tr>\n    <tr>\n      <th>Englewood</th>\n      <td>59900.0</td>\n    </tr>\n    <tr>\n      <th>Riverdale</th>\n      <td>27425.0</td>\n    </tr>\n  </tbody>\n</table>\n</div>",
      "text/plain": "                           price\nneighborhood                    \nAndersonville          1050000.0\nGold Coast              854500.0\nBoystown                814500.0\nBucktown                750000.0\nSheffield & DePaul      742500.0\nWrigleyville            712500.0\nRush & Division         700000.0\nOld Town                699900.0\nLincoln Park            697450.0\nNorth Center            644950.0\nWicker Park             615000.0\nStreeterville           606750.0\nUkrainian Village       589988.0\nWest Town               585000.0\nChinatown               550000.0\nGreektown               550000.0\nEast Village            549900.0\nLogan Square            530000.0\nLake View               500000.0\nRiver North             499950.0\nSauganash,Forest Glen   499000.0\nLoop                    469900.0\nArmour Square           464000.0\nWest Loop               452500.0\nOakland                 449450.0\nBridgeport              438000.0\nNear South Side         430950.0\nAvondale                427999.5\nIrving Park             420000.0\nNorth Park              409900.0\nGrant Park              405000.0\nLincoln Square          399950.0\nEdison Park             389900.0\nBeverly                 384900.0\nLower West Side         366000.0\nPortage Park            364999.5\nNorwood Park            359900.0\nHumboldt Park           359000.0\nMckinley Park           357450.0\nMagnificent Mile        349900.0\nJefferson Park          345000.0\nLittle Italy, UIC       339900.0\nAlbany Park             329475.0\nMontclare               327000.0\nDunning                 319945.0\nHyde Park               315000.0\nDouglas                 311950.0\nHermosa                 309900.0\nGrand Boulevard         309499.5\nArcher Heights          299900.0\nUptown                  299900.0\nUnited Center           299000.0\nKenwood                 298000.0\nGarfield Ridge          285000.0\nPrinters Row            284250.0\nBelmont Cragin          275000.0\nBrighton Park           251806.0\nMount Greenwood         249945.0\nClearing                249000.0\nWest Ridge              248888.0\nWest Elsdon             244950.0\nWest Lawn               234900.0\nGage Park               231950.0\nGalewood                230000.0\nEdgewater               229500.0\nAshburn                 199900.0\nGarfield Park           189900.0\nRogers Park             189900.0\nMorgan Park             185450.0\nO'Hare                  172400.0\nNorth Lawndale          167987.0\nNew City                163450.0\nWoodlawn                163250.0\nAustin                  151621.0\nChicago Lawn            149758.0\nAvalon Park             142500.0\nSouth Shore             141150.0\nLittle Village          140000.0\nWashington Heights      139900.0\nCalumet Heights         137400.0\nChatham                 132500.0\nAuburn Gresham          130000.0\nGrand Crossing          117000.0\nRoseland                104900.0\nPullman                 104466.0\nWashington Park          95999.5\nBurnside                 91200.0\nWest Pullman             89900.0\nFuller Park              72500.0\nEnglewood                59900.0\nRiverdale                27425.0"
     },
     "metadata": {},
     "output_type": "display_data"
    }
   ],
   "source": [
    "with pd.option_context(\"display.max_rows\", 100):\n",
    "    display(data[['neighborhood', 'price']].groupby('neighborhood').median().sort_values(by=['price'], ascending=False))"
   ]
  },
  {
   "cell_type": "code",
   "execution_count": 191,
   "metadata": {},
   "outputs": [
    {
     "data": {
      "image/png": "[encoded data removed]",
      "text/plain": "<Figure size 432x288 with 1 Axes>"
     },
     "metadata": {
      "needs_background": "light"
     },
     "output_type": "display_data"
    }
   ],
   "source": [
    "def remove_outliers(df, q=0.05):\n",
    "    upper = df.quantile(1-q)\n",
    "    lower = df.quantile(q)\n",
    "    mask = (df < upper) & (df > lower)\n",
    "    return mask\n",
    "\n",
    "d = data[(data['neighborhood'] == 'Uptown') & (data['homeType'] == 'CONDO') & (data['beds'] == 2) & (data['baths'] == 2)]\n",
    "mask = remove_outliers(d['price'], 0.1)\n",
    "mask = remove_outliers(d['yearBuilt'], 0.1)\n",
    "d = d[mask]\n",
    "pyplot.scatter(d['yearBuilt'], d['price'])\n",
    "pyplot.show()"
   ]
  },
  {
   "cell_type": "code",
   "execution_count": 128,
   "metadata": {},
   "outputs": [
    {
     "data": {
      "text/plain": "SpearmanrResult(correlation=-0.0375313501254005, pvalue=0.4023559170440286)"
     },
     "execution_count": 128,
     "metadata": {},
     "output_type": "execute_result"
    }
   ],
   "source": [
    "lon = data['beds'].to_numpy()\n",
    "#np.random.shuffle(lon)\n",
    "price = data['price'].to_numpy()\n",
    "#np.random.shuffle(price)\n",
    "rvs1 = stats.norm.rvs(loc=5,scale=10,size=500)\n",
    "rvs2 = stats.norm.rvs(loc=5,scale=100,size=500)\n",
    "test1 = lon[0:7000]\n",
    "test2 = price[0:7000]\n",
    "#np.random.shuffle(test1)\n",
    "#np.random.shuffle(test2)\n",
    "#print(test1)\n",
    "#print(test2)\n",
    "#print(test2/test1)\n",
    "res = stats.spearmanr(rvs1, rvs2)\n",
    "res"
   ]
  },
  {
   "cell_type": "code",
   "execution_count": null,
   "metadata": {},
   "outputs": [],
   "source": []
  }
 ]
}