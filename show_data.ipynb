{
 "nbformat": 4,
 "nbformat_minor": 2,
 "metadata": {
  "language_info": {
   "name": "python",
   "codemirror_mode": {
    "name": "ipython",
    "version": 3
   }
  },
  "orig_nbformat": 2,
  "file_extension": ".py",
  "mimetype": "text/x-python",
  "name": "python",
  "npconvert_exporter": "python",
  "pygments_lexer": "ipython3",
  "version": 3
 },
 "cells": [
  {
   "cell_type": "code",
   "execution_count": 2,
   "metadata": {},
   "outputs": [],
   "source": [
    "import pandas as pd\n",
    "import json"
   ]
  },
  {
   "cell_type": "code",
   "execution_count": 5,
   "metadata": {},
   "outputs": [],
   "source": [
    "data = pd.read_csv('./results-7-31-2019-cleaned.csv')"
   ]
  },
  {
   "cell_type": "code",
   "execution_count": 6,
   "metadata": {},
   "outputs": [
    {
     "data": {
      "text/html": "<div>\n<style scoped>\n    .dataframe tbody tr th:only-of-type {\n        vertical-align: middle;\n    }\n\n    .dataframe tbody tr th {\n        vertical-align: top;\n    }\n\n    .dataframe thead th {\n        text-align: right;\n    }\n</style>\n<table border=\"1\" class=\"dataframe\">\n  <thead>\n    <tr style=\"text-align: right;\">\n      <th></th>\n      <th>price</th>\n    </tr>\n    <tr>\n      <th>neighborhood</th>\n      <th></th>\n    </tr>\n  </thead>\n  <tbody>\n    <tr>\n      <th>Boystown</th>\n      <td>862500.0</td>\n    </tr>\n    <tr>\n      <th>Gold Coast</th>\n      <td>818000.0</td>\n    </tr>\n    <tr>\n      <th>Bucktown</th>\n      <td>767500.0</td>\n    </tr>\n    <tr>\n      <th>Andersonville</th>\n      <td>762500.0</td>\n    </tr>\n    <tr>\n      <th>Wrigleyville</th>\n      <td>700000.0</td>\n    </tr>\n    <tr>\n      <th>Sheffield &amp; DePaul</th>\n      <td>699000.0</td>\n    </tr>\n    <tr>\n      <th>Old Town</th>\n      <td>675000.0</td>\n    </tr>\n    <tr>\n      <th>Lincoln Park</th>\n      <td>649888.0</td>\n    </tr>\n    <tr>\n      <th>Rush &amp; Division</th>\n      <td>637500.0</td>\n    </tr>\n    <tr>\n      <th>Chinatown</th>\n      <td>630000.0</td>\n    </tr>\n    <tr>\n      <th>North Center</th>\n      <td>625000.0</td>\n    </tr>\n    <tr>\n      <th>Wicker Park</th>\n      <td>619900.0</td>\n    </tr>\n    <tr>\n      <th>Streeterville</th>\n      <td>614000.0</td>\n    </tr>\n    <tr>\n      <th>Ukrainian Village</th>\n      <td>599950.0</td>\n    </tr>\n    <tr>\n      <th>West Town</th>\n      <td>584900.0</td>\n    </tr>\n    <tr>\n      <th>East Village</th>\n      <td>574900.0</td>\n    </tr>\n    <tr>\n      <th>Logan Square</th>\n      <td>569950.0</td>\n    </tr>\n    <tr>\n      <th>Greektown</th>\n      <td>560000.0</td>\n    </tr>\n    <tr>\n      <th>Sauganash,Forest Glen</th>\n      <td>499000.0</td>\n    </tr>\n    <tr>\n      <th>Lake View</th>\n      <td>495000.0</td>\n    </tr>\n    <tr>\n      <th>River North</th>\n      <td>485000.0</td>\n    </tr>\n    <tr>\n      <th>Loop</th>\n      <td>475000.0</td>\n    </tr>\n    <tr>\n      <th>Armour Square</th>\n      <td>469000.0</td>\n    </tr>\n    <tr>\n      <th>Avondale</th>\n      <td>459900.0</td>\n    </tr>\n    <tr>\n      <th>West Loop</th>\n      <td>449950.0</td>\n    </tr>\n    <tr>\n      <th>Oakland</th>\n      <td>439450.0</td>\n    </tr>\n    <tr>\n      <th>Bridgeport</th>\n      <td>438500.0</td>\n    </tr>\n    <tr>\n      <th>Near South Side</th>\n      <td>419900.0</td>\n    </tr>\n    <tr>\n      <th>North Park</th>\n      <td>408995.0</td>\n    </tr>\n    <tr>\n      <th>Grant Park</th>\n      <td>405000.0</td>\n    </tr>\n    <tr>\n      <th>Irving Park</th>\n      <td>399000.0</td>\n    </tr>\n    <tr>\n      <th>Lower West Side</th>\n      <td>394900.0</td>\n    </tr>\n    <tr>\n      <th>Lincoln Square</th>\n      <td>384500.0</td>\n    </tr>\n    <tr>\n      <th>Edison Park</th>\n      <td>370000.0</td>\n    </tr>\n    <tr>\n      <th>Portage Park</th>\n      <td>369900.0</td>\n    </tr>\n    <tr>\n      <th>Norwood Park</th>\n      <td>359931.0</td>\n    </tr>\n    <tr>\n      <th>Albany Park</th>\n      <td>354950.0</td>\n    </tr>\n    <tr>\n      <th>Magnificent Mile</th>\n      <td>349900.0</td>\n    </tr>\n    <tr>\n      <th>Jefferson Park</th>\n      <td>349900.0</td>\n    </tr>\n    <tr>\n      <th>Beverly</th>\n      <td>349000.0</td>\n    </tr>\n    <tr>\n      <th>Little Italy, UIC</th>\n      <td>339999.0</td>\n    </tr>\n    <tr>\n      <th>Dunning</th>\n      <td>319500.0</td>\n    </tr>\n    <tr>\n      <th>Montclare</th>\n      <td>315000.0</td>\n    </tr>\n    <tr>\n      <th>Mckinley Park</th>\n      <td>314000.0</td>\n    </tr>\n    <tr>\n      <th>Hermosa</th>\n      <td>309900.0</td>\n    </tr>\n    <tr>\n      <th>Humboldt Park</th>\n      <td>300000.0</td>\n    </tr>\n    <tr>\n      <th>Uptown</th>\n      <td>299900.0</td>\n    </tr>\n    <tr>\n      <th>Archer Heights</th>\n      <td>299900.0</td>\n    </tr>\n    <tr>\n      <th>Belmont Cragin</th>\n      <td>299387.5</td>\n    </tr>\n    <tr>\n      <th>Kenwood</th>\n      <td>298750.0</td>\n    </tr>\n    <tr>\n      <th>United Center</th>\n      <td>298500.0</td>\n    </tr>\n    <tr>\n      <th>Douglas</th>\n      <td>296900.0</td>\n    </tr>\n    <tr>\n      <th>Garfield Ridge</th>\n      <td>285000.0</td>\n    </tr>\n    <tr>\n      <th>Hyde Park</th>\n      <td>284900.0</td>\n    </tr>\n    <tr>\n      <th>Grand Boulevard</th>\n      <td>282499.5</td>\n    </tr>\n    <tr>\n      <th>Printers Row</th>\n      <td>279000.0</td>\n    </tr>\n    <tr>\n      <th>West Ridge</th>\n      <td>278000.0</td>\n    </tr>\n    <tr>\n      <th>Mount Greenwood</th>\n      <td>249000.0</td>\n    </tr>\n    <tr>\n      <th>Clearing</th>\n      <td>245000.0</td>\n    </tr>\n    <tr>\n      <th>Brighton Park</th>\n      <td>242509.0</td>\n    </tr>\n    <tr>\n      <th>Edgewater</th>\n      <td>242450.0</td>\n    </tr>\n    <tr>\n      <th>Galewood</th>\n      <td>240000.0</td>\n    </tr>\n    <tr>\n      <th>West Lawn</th>\n      <td>234900.0</td>\n    </tr>\n    <tr>\n      <th>West Elsdon</th>\n      <td>230000.0</td>\n    </tr>\n    <tr>\n      <th>Gage Park</th>\n      <td>225000.0</td>\n    </tr>\n    <tr>\n      <th>Ashburn</th>\n      <td>197900.0</td>\n    </tr>\n    <tr>\n      <th>Rogers Park</th>\n      <td>189900.0</td>\n    </tr>\n    <tr>\n      <th>Little Village</th>\n      <td>179995.0</td>\n    </tr>\n    <tr>\n      <th>Morgan Park</th>\n      <td>174900.0</td>\n    </tr>\n    <tr>\n      <th>Chicago Lawn</th>\n      <td>162750.0</td>\n    </tr>\n    <tr>\n      <th>O'Hare</th>\n      <td>158000.0</td>\n    </tr>\n    <tr>\n      <th>Woodlawn</th>\n      <td>149900.0</td>\n    </tr>\n    <tr>\n      <th>Washington Heights</th>\n      <td>139900.0</td>\n    </tr>\n    <tr>\n      <th>Calumet Heights</th>\n      <td>137400.0</td>\n    </tr>\n    <tr>\n      <th>South Shore</th>\n      <td>137395.0</td>\n    </tr>\n    <tr>\n      <th>Garfield Park</th>\n      <td>135900.0</td>\n    </tr>\n    <tr>\n      <th>Chatham</th>\n      <td>135565.5</td>\n    </tr>\n    <tr>\n      <th>Auburn Gresham</th>\n      <td>133250.0</td>\n    </tr>\n    <tr>\n      <th>Austin</th>\n      <td>131400.0</td>\n    </tr>\n    <tr>\n      <th>Avalon Park</th>\n      <td>130000.0</td>\n    </tr>\n    <tr>\n      <th>Pullman</th>\n      <td>110000.0</td>\n    </tr>\n    <tr>\n      <th>Grand Crossing</th>\n      <td>102513.0</td>\n    </tr>\n    <tr>\n      <th>Burnside</th>\n      <td>91200.0</td>\n    </tr>\n    <tr>\n      <th>Roseland</th>\n      <td>82500.0</td>\n    </tr>\n    <tr>\n      <th>Washington Park</th>\n      <td>81999.0</td>\n    </tr>\n    <tr>\n      <th>West Pullman</th>\n      <td>79900.0</td>\n    </tr>\n    <tr>\n      <th>New City</th>\n      <td>76000.0</td>\n    </tr>\n    <tr>\n      <th>North Lawndale</th>\n      <td>64200.0</td>\n    </tr>\n    <tr>\n      <th>Fuller Park</th>\n      <td>59000.0</td>\n    </tr>\n    <tr>\n      <th>Englewood</th>\n      <td>56110.0</td>\n    </tr>\n    <tr>\n      <th>Riverdale</th>\n      <td>27425.0</td>\n    </tr>\n    <tr>\n      <th>South Chicago</th>\n      <td>18000.0</td>\n    </tr>\n  </tbody>\n</table>\n</div>",
      "text/plain": "                          price\nneighborhood                   \nBoystown               862500.0\nGold Coast             818000.0\nBucktown               767500.0\nAndersonville          762500.0\nWrigleyville           700000.0\nSheffield & DePaul     699000.0\nOld Town               675000.0\nLincoln Park           649888.0\nRush & Division        637500.0\nChinatown              630000.0\nNorth Center           625000.0\nWicker Park            619900.0\nStreeterville          614000.0\nUkrainian Village      599950.0\nWest Town              584900.0\nEast Village           574900.0\nLogan Square           569950.0\nGreektown              560000.0\nSauganash,Forest Glen  499000.0\nLake View              495000.0\nRiver North            485000.0\nLoop                   475000.0\nArmour Square          469000.0\nAvondale               459900.0\nWest Loop              449950.0\nOakland                439450.0\nBridgeport             438500.0\nNear South Side        419900.0\nNorth Park             408995.0\nGrant Park             405000.0\nIrving Park            399000.0\nLower West Side        394900.0\nLincoln Square         384500.0\nEdison Park            370000.0\nPortage Park           369900.0\nNorwood Park           359931.0\nAlbany Park            354950.0\nMagnificent Mile       349900.0\nJefferson Park         349900.0\nBeverly                349000.0\nLittle Italy, UIC      339999.0\nDunning                319500.0\nMontclare              315000.0\nMckinley Park          314000.0\nHermosa                309900.0\nHumboldt Park          300000.0\nUptown                 299900.0\nArcher Heights         299900.0\nBelmont Cragin         299387.5\nKenwood                298750.0\nUnited Center          298500.0\nDouglas                296900.0\nGarfield Ridge         285000.0\nHyde Park              284900.0\nGrand Boulevard        282499.5\nPrinters Row           279000.0\nWest Ridge             278000.0\nMount Greenwood        249000.0\nClearing               245000.0\nBrighton Park          242509.0\nEdgewater              242450.0\nGalewood               240000.0\nWest Lawn              234900.0\nWest Elsdon            230000.0\nGage Park              225000.0\nAshburn                197900.0\nRogers Park            189900.0\nLittle Village         179995.0\nMorgan Park            174900.0\nChicago Lawn           162750.0\nO'Hare                 158000.0\nWoodlawn               149900.0\nWashington Heights     139900.0\nCalumet Heights        137400.0\nSouth Shore            137395.0\nGarfield Park          135900.0\nChatham                135565.5\nAuburn Gresham         133250.0\nAustin                 131400.0\nAvalon Park            130000.0\nPullman                110000.0\nGrand Crossing         102513.0\nBurnside                91200.0\nRoseland                82500.0\nWashington Park         81999.0\nWest Pullman            79900.0\nNew City                76000.0\nNorth Lawndale          64200.0\nFuller Park             59000.0\nEnglewood               56110.0\nRiverdale               27425.0\nSouth Chicago           18000.0"
     },
     "metadata": {},
     "output_type": "display_data"
    }
   ],
   "source": [
    "with pd.option_context(\"display.max_rows\", 100):\n",
    "    display(data[['neighborhood', 'price']].groupby('neighborhood').median().sort_values(by=['price'], ascending=False))"
   ]
  },
  {
   "cell_type": "code",
   "execution_count": null,
   "metadata": {},
   "outputs": [],
   "source": []
  }
 ]
}